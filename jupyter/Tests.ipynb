{
 "cells": [
  {
   "cell_type": "code",
   "execution_count": 1,
   "metadata": {},
   "outputs": [],
   "source": [
    "import server.model.dimension"
   ]
  },
  {
   "cell_type": "code",
   "execution_count": 2,
   "metadata": {},
   "outputs": [],
   "source": [
    "task_options, task_option_ids = server.model.dimension.build_dicts(\"task_options\")"
   ]
  },
  {
   "cell_type": "code",
   "execution_count": 3,
   "metadata": {},
   "outputs": [
    {
     "data": {
      "text/plain": [
       "{'adjustPoints-': 429,\n",
       " 'aimFuel-': 21,\n",
       " 'allianceNormalFoul-': 43,\n",
       " 'allianceRedCard-': 46,\n",
       " 'allianceTechFoul-': 44,\n",
       " 'allianceYellowCard-': 45,\n",
       " 'autoFuelHigh-': 415,\n",
       " 'autoFuelLow-': 414,\n",
       " 'autoMobilityPoints-': 421,\n",
       " 'autoPoints-': 420,\n",
       " 'autoRotorPoints-': 422,\n",
       " 'autoscoreKpa-': 41,\n",
       " 'autoscoreRotor-': 40,\n",
       " 'boilerKpa-': 49,\n",
       " 'boilerRankingPoint-': 51,\n",
       " 'climbRope-': 26,\n",
       " 'defendMovement-': 23,\n",
       " 'deployRope-late': 8,\n",
       " 'deployRope-never': 9,\n",
       " 'deployRope-released': 7,\n",
       " 'disabled-': 25,\n",
       " 'dropGear-': 57,\n",
       " 'finalScore-': 42,\n",
       " 'foulCount-': 418,\n",
       " 'foulPoints-': 430,\n",
       " 'grabRope-': 28,\n",
       " 'guideGear-': 14,\n",
       " 'hasCustomRope-': 30,\n",
       " 'hasHumanPlayer-': 37,\n",
       " 'hasPilot-': 36,\n",
       " 'hasRobot-': 35,\n",
       " 'highPercentage-': 160,\n",
       " 'holdFuelCapacity-': 15,\n",
       " 'holdGear-': 10,\n",
       " 'humanNormalFoul-': 66,\n",
       " 'humanRedCard-': 69,\n",
       " 'humanTechFoul-': 67,\n",
       " 'humanYellowCard-': 68,\n",
       " 'ignoreGear-': 56,\n",
       " 'installGear-': 54,\n",
       " 'kPaBonusPoints-': 427,\n",
       " 'kPaRankingPointAchieved-': 439,\n",
       " 'liftGear-': 53,\n",
       " 'loadFuel-': 65,\n",
       " 'loadGear-': 64,\n",
       " 'maintainContact-': 29,\n",
       " 'matchRankingPoint-': 47,\n",
       " 'misplaceGear-': 55,\n",
       " 'moveBaseline-': 24,\n",
       " 'na-na': 252,\n",
       " 'pickupFuelFloor-': 16,\n",
       " 'pickupFuelHopper-': 17,\n",
       " 'pickupFuelRetrieval-': 18,\n",
       " 'pickupFuelRetrival-': 385,\n",
       " 'pickupGearFloor-': 11,\n",
       " 'pickupGearRetrieval-': 12,\n",
       " 'pickupGearRetrival-': 379,\n",
       " 'pilotNormalFoul-': 59,\n",
       " 'pilotRedCard-': 62,\n",
       " 'pilotTechFoul-': 60,\n",
       " 'pilotYellowCard-': 61,\n",
       " 'placeGear-': 13,\n",
       " 'preferredDavit-1': 4,\n",
       " 'preferredDavit-2': 5,\n",
       " 'preferredDavit-3': 6,\n",
       " 'pushTouchPad-': 27,\n",
       " 'releaseOverflow-': 63,\n",
       " 'robotNormalFoul-': 31,\n",
       " 'robotRedCard-': 33,\n",
       " 'robotTechFoul-': 32,\n",
       " 'robotYellowCard-': 34,\n",
       " 'rotor1Auto-': 435,\n",
       " 'rotor1Engaged-': 437,\n",
       " 'rotor2Auto-': 436,\n",
       " 'rotor2Engaged-': 438,\n",
       " 'rotor3Engaged-': 441,\n",
       " 'rotor4Engaged-': 442,\n",
       " 'rotorBonusPoints-': 428,\n",
       " 'rotorCount-': 48,\n",
       " 'rotorRankingPoint-': 50,\n",
       " 'rotorRankingPointAchieved-': 440,\n",
       " 'shootHighBoiler-': 20,\n",
       " 'shootLowBoiler-': 19,\n",
       " 'shotPercentHigh-': 142,\n",
       " 'shotPercentLow-': 143,\n",
       " 'shotPercentage-': 22,\n",
       " 'showUp-': 38,\n",
       " 'startingLocation-boiler': 3,\n",
       " 'startingLocation-center': 2,\n",
       " 'startingLocation-retrieval': 1,\n",
       " 'techFoulCount-': 419,\n",
       " 'teleopFuelHigh-': 417,\n",
       " 'teleopFuelLow-': 416,\n",
       " 'teleopFuelPoints-': 424,\n",
       " 'teleopPoints-': 423,\n",
       " 'teleopRotorPoints-': 425,\n",
       " 'teleopTakeoffPoints-': 426,\n",
       " 'topPercentage-': 39,\n",
       " 'totalPoints-': 409,\n",
       " 'touchPadScore-': 52,\n",
       " 'touchpadMiddle-': 444,\n",
       " 'touchpadNear-': 443,\n",
       " 'turnRotor-': 58}"
      ]
     },
     "execution_count": 3,
     "metadata": {},
     "output_type": "execute_result"
    }
   ],
   "source": [
    "task_options"
   ]
  },
  {
   "cell_type": "code",
   "execution_count": 4,
   "metadata": {},
   "outputs": [
    {
     "data": {
      "text/plain": [
       "103"
      ]
     },
     "execution_count": 4,
     "metadata": {},
     "output_type": "execute_result"
    }
   ],
   "source": [
    "len(task_options)"
   ]
  },
  {
   "cell_type": "code",
   "execution_count": null,
   "metadata": {},
   "outputs": [],
   "source": []
  }
 ],
 "metadata": {
  "kernelspec": {
   "display_name": "Python 3",
   "language": "python",
   "name": "python3"
  },
  "language_info": {
   "codemirror_mode": {
    "name": "ipython",
    "version": 3
   },
   "file_extension": ".py",
   "mimetype": "text/x-python",
   "name": "python",
   "nbconvert_exporter": "python",
   "pygments_lexer": "ipython3",
   "version": "3.6.3"
  }
 },
 "nbformat": 4,
 "nbformat_minor": 2
}
