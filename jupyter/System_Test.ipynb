{
 "cells": [
  {
   "cell_type": "markdown",
   "metadata": {},
   "source": [
    "# Scouting System Test\n",
    "\n",
    "1. Ensure the PostgreSQL database is running. (Type `pg_ctl start` at a command prompt or start the PostgreSQL service using the Windows *Services* tool.\n",
    "\n",
    "2. Select *Run All* from the Jupyter Notebook *Cell* menu."
   ]
  },
  {
   "cell_type": "markdown",
   "metadata": {},
   "source": [
    "### 1. Package Imports"
   ]
  },
  {
   "cell_type": "code",
   "execution_count": 9,
   "metadata": {
    "collapsed": true
   },
   "outputs": [],
   "source": [
    "# Import packages used by scouting system\n",
    "import sys\n",
    "import os\n",
    "import re\n",
    "\n",
    "import pandas as pd\n",
    "import sqlalchemy as sa"
   ]
  },
  {
   "cell_type": "code",
   "execution_count": 10,
   "metadata": {},
   "outputs": [
    {
     "ename": "ModuleNotFoundError",
     "evalue": "No module named 'server'",
     "output_type": "error",
     "traceback": [
      "\u001b[1;31m---------------------------------------------------------------------------\u001b[0m",
      "\u001b[1;31mModuleNotFoundError\u001b[0m                       Traceback (most recent call last)",
      "\u001b[1;32m<ipython-input-10-2554eb1c047f>\u001b[0m in \u001b[0;36m<module>\u001b[1;34m()\u001b[0m\n\u001b[0;32m      1\u001b[0m \u001b[1;31m# Import scouting system packages\u001b[0m\u001b[1;33m\u001b[0m\u001b[1;33m\u001b[0m\u001b[0m\n\u001b[1;32m----> 2\u001b[1;33m \u001b[1;32mimport\u001b[0m \u001b[0mserver\u001b[0m\u001b[1;33m.\u001b[0m\u001b[0mscouting\u001b[0m\u001b[1;33m.\u001b[0m\u001b[0moutput\u001b[0m \u001b[1;32mas\u001b[0m \u001b[0mout\u001b[0m\u001b[1;33m\u001b[0m\u001b[0m\n\u001b[0m\u001b[0;32m      3\u001b[0m \u001b[1;32mfrom\u001b[0m \u001b[0mserver\u001b[0m\u001b[1;33m.\u001b[0m\u001b[0mscouting\u001b[0m\u001b[1;33m.\u001b[0m\u001b[0mevent\u001b[0m \u001b[1;32mimport\u001b[0m \u001b[0mEventDal\u001b[0m\u001b[1;33m\u001b[0m\u001b[0m\n",
      "\u001b[1;31mModuleNotFoundError\u001b[0m: No module named 'server'"
     ]
    }
   ],
   "source": [
    "# Import scouting system packages\n",
    "import server.scouting.output as out\n",
    "from server.scouting.event import EventDal"
   ]
  },
  {
   "cell_type": "markdown",
   "metadata": {},
   "source": [
    "### 2. Database Connection"
   ]
  },
  {
   "cell_type": "code",
   "execution_count": null,
   "metadata": {
    "collapsed": true
   },
   "outputs": [],
   "source": [
    "# Get a database connection\n",
    "connection_string = ('postgresql://irs1318:irs1318'\n",
    "                     '@localhost:5432/scouting')\n",
    "engine = sa.create_engine(connection_string)\n",
    "conn = engine.connect()"
   ]
  },
  {
   "cell_type": "markdown",
   "metadata": {},
   "source": [
    "### 3. Plot Settings"
   ]
  },
  {
   "cell_type": "code",
   "execution_count": null,
   "metadata": {
    "collapsed": true
   },
   "outputs": [],
   "source": [
    "# This section is necessary for viewing plots in the notebook.\n",
    "import matplotlib\n",
    "import matplotlib.pyplot as plt\n",
    "\n",
    "%matplotlib inline\n",
    "matplotlib.style.use(\"ggplot\")"
   ]
  },
  {
   "cell_type": "markdown",
   "metadata": {},
   "source": [
    "### 4. Set Event"
   ]
  },
  {
   "cell_type": "code",
   "execution_count": null,
   "metadata": {
    "collapsed": true
   },
   "outputs": [],
   "source": [
    "# Set Current Event\n",
    "current_event = \"turing\"\n",
    "EventDal.set_current_event(current_event)"
   ]
  },
  {
   "cell_type": "markdown",
   "metadata": {},
   "source": [
    "### 5. Get a Dataframe Containing all Measures\n",
    "Verify a Pandas dataframe (table) is visible below this cell. "
   ]
  },
  {
   "cell_type": "code",
   "execution_count": null,
   "metadata": {
    "collapsed": true
   },
   "outputs": [],
   "source": [
    "# Get Measures Dataframe\n",
    "sql_measures = sa.text(\n",
    "    \"SELECT events.name AS event, matches.name AS match, levels.name AS level, dates.name AS date, \"\n",
    "    \"teams.name AS team, alliances.name AS alliance, \"\n",
    "    \"stations.name AS station, phases.name AS phase, actors.name AS actor, tasks.name AS task, \"\n",
    "    \"measures.capability AS capability, measures.successes as successes, measures.attempts AS attempts, \"\n",
    "    \"measures.cycle_times as cycle_times, measuretypes.name AS measuretype, reasons.name AS reason, \"\n",
    "    \"attempts.name AS attempt \"\n",
    "    \"FROM ((((((((((((measures FULL OUTER JOIN teams ON measures.team_id=teams.id) \"\n",
    "    \"LEFT JOIN events ON measures.event_id=events.id) \"\n",
    "    \"LEFT JOIN matches ON measures.match_id=matches.id) \"\n",
    "    \"LEFT JOIN levels ON measures.level_id=levels.id) \"\n",
    "    \"LEFT JOIN dates ON measures.date_id=dates.id) \"\n",
    "    \"LEFT JOIN alliances ON measures.alliance_id=alliances.id) \"\n",
    "    \"LEFT JOIN stations ON measures.station_id=stations.id) \"\n",
    "    \"LEFT JOIN phases ON measures.phase_id=phases.id) \"\n",
    "    \"LEFT JOIN actors ON measures.actor_id=actors.id) \"\n",
    "    \"LEFT JOIN tasks ON measures.task_id=tasks.id) \"\n",
    "    \"LEFT JOIN reasons ON measures.reason_id=reasons.id) \"\n",
    "    \"LEFT JOIN measuretypes ON measures.measuretype_id=measuretypes.id) \"\n",
    "    \"LEFT JOIN attempts ON measures.attempt_id=attempts.id \"\n",
    "    \"WHERE events.name='\" + current_event + \"';\")\n",
    "measures = pd.read_sql(sql_measures, conn)\n",
    "measures"
   ]
  },
  {
   "cell_type": "markdown",
   "metadata": {
    "collapsed": true
   },
   "source": [
    "### 6. Number of Completed Matches"
   ]
  },
  {
   "cell_type": "code",
   "execution_count": null,
   "metadata": {
    "collapsed": true
   },
   "outputs": [],
   "source": [
    "sql = \"SELECT * FROM status\"\n",
    "pd.read_sql(sql, conn)"
   ]
  },
  {
   "cell_type": "code",
   "execution_count": null,
   "metadata": {
    "collapsed": true
   },
   "outputs": [],
   "source": [
    "# Set recent_matches to n to filter out all but the last n matches.\n",
    "recent_matches= 12\n",
    "\n",
    "select_recent_matches = sa.text(\n",
    "    \"with current AS (SELECT s.event, s.match, date from schedules sched, \"\n",
    "    \"status s WHERE sched.event = s.event \"\n",
    "    \"AND sched.match = s.match limit 1 ) \"\n",
    "\n",
    "\n",
    "    \"SELECT * FROM ( \"\n",
    "    \"SELECT row_number() over (partition by team order by sched.date desc) as r, \"\n",
    "    \" sched.* from schedules sched, current c WHERE sched.event = c.event and sched.date <= c.date )\"\n",
    "    \" row_schedule WHERE row_schedule.r <= \" + str(\n",
    "        recent_matches) + \" ORDER by team, date desc\")\n",
    "df = pd.read_sql(select_recent_matches, conn)\n",
    "num_matches = df[['team', 'level']].groupby('team').count()\n",
    "num_matches.columns = ['matches']\n",
    "df"
   ]
  },
  {
   "cell_type": "markdown",
   "metadata": {},
   "source": [
    "### 7. Gears Dataframe\n",
    "Verify a dataframe is visible below this window."
   ]
  },
  {
   "cell_type": "code",
   "execution_count": null,
   "metadata": {
    "collapsed": true
   },
   "outputs": [],
   "source": [
    "# Create summary dataframe for placing gears\n",
    "gears_df = measures.query(\"task == 'placeGear'\").query(\"phase == 'auto' or phase == 'teleop'\").groupby('team').sum()\n",
    "gears_df['average'] = gears_df['successes'] / num_matches['matches']\n",
    "gears_df = gears_df.sort_values('average', ascending = False)\n",
    "\n",
    "gears_df.head()"
   ]
  },
  {
   "cell_type": "markdown",
   "metadata": {},
   "source": [
    "### 8. Gears Chart\n",
    "Verify a bar chart is visible below this cell."
   ]
  },
  {
   "cell_type": "code",
   "execution_count": null,
   "metadata": {
    "collapsed": true
   },
   "outputs": [],
   "source": [
    "plt.figure()\n",
    "gears_df.loc[:, \"average\"].plot(kind=\"bar\", figsize=(17, 8), title=\"Average Gears Placed per Match \\n 2017 Turing Division\",\n",
    "                                color=\"purple\", fontsize=14)"
   ]
  },
  {
   "cell_type": "code",
   "execution_count": null,
   "metadata": {
    "collapsed": true
   },
   "outputs": [],
   "source": []
  }
 ],
 "metadata": {
  "kernelspec": {
   "display_name": "Python 3",
   "language": "python",
   "name": "python3"
  },
  "language_info": {
   "codemirror_mode": {
    "name": "ipython",
    "version": 3
   },
   "file_extension": ".py",
   "mimetype": "text/x-python",
   "name": "python",
   "nbconvert_exporter": "python",
   "pygments_lexer": "ipython3",
   "version": "3.6.3"
  }
 },
 "nbformat": 4,
 "nbformat_minor": 2
}
