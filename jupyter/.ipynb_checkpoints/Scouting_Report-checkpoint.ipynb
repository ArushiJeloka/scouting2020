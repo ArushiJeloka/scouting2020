{
 "cells": [
  {
   "cell_type": "markdown",
   "metadata": {},
   "source": [
    "## Notebook Setup"
   ]
  },
  {
   "cell_type": "markdown",
   "metadata": {},
   "source": [
    "### Imports\n",
    "* **Run this cell immediately after opening the notebook by placing the cursor in the cell and hitting `SHIFT + ENTER`.**\n",
    "* Otherwise, leave this cell alone"
   ]
  },
  {
   "cell_type": "code",
   "execution_count": 12,
   "metadata": {
    "collapsed": false
   },
   "outputs": [
    {
     "data": {
      "text/html": [
       "\n",
       "    <div class=\"bk-root\">\n",
       "        <a href=\"http://bokeh.pydata.org\" target=\"_blank\" class=\"bk-logo bk-logo-small bk-logo-notebook\"></a>\n",
       "        <span id=\"190ae918-99d6-43e2-bbfa-ee5a4799cded\">Loading BokehJS ...</span>\n",
       "    </div>"
      ]
     },
     "metadata": {},
     "output_type": "display_data"
    },
    {
     "data": {
      "application/javascript": [
       "\n",
       "(function(global) {\n",
       "  function now() {\n",
       "    return new Date();\n",
       "  }\n",
       "\n",
       "  var force = true;\n",
       "\n",
       "  if (typeof (window._bokeh_onload_callbacks) === \"undefined\" || force === true) {\n",
       "    window._bokeh_onload_callbacks = [];\n",
       "    window._bokeh_is_loading = undefined;\n",
       "  }\n",
       "\n",
       "\n",
       "  \n",
       "  if (typeof (window._bokeh_timeout) === \"undefined\" || force === true) {\n",
       "    window._bokeh_timeout = Date.now() + 5000;\n",
       "    window._bokeh_failed_load = false;\n",
       "  }\n",
       "\n",
       "  var NB_LOAD_WARNING = {'data': {'text/html':\n",
       "     \"<div style='background-color: #fdd'>\\n\"+\n",
       "     \"<p>\\n\"+\n",
       "     \"BokehJS does not appear to have successfully loaded. If loading BokehJS from CDN, this \\n\"+\n",
       "     \"may be due to a slow or bad network connection. Possible fixes:\\n\"+\n",
       "     \"</p>\\n\"+\n",
       "     \"<ul>\\n\"+\n",
       "     \"<li>re-rerun `output_notebook()` to attempt to load from CDN again, or</li>\\n\"+\n",
       "     \"<li>use INLINE resources instead, as so:</li>\\n\"+\n",
       "     \"</ul>\\n\"+\n",
       "     \"<code>\\n\"+\n",
       "     \"from bokeh.resources import INLINE\\n\"+\n",
       "     \"output_notebook(resources=INLINE)\\n\"+\n",
       "     \"</code>\\n\"+\n",
       "     \"</div>\"}};\n",
       "\n",
       "  function display_loaded() {\n",
       "    if (window.Bokeh !== undefined) {\n",
       "      document.getElementById(\"190ae918-99d6-43e2-bbfa-ee5a4799cded\").textContent = \"BokehJS successfully loaded.\";\n",
       "    } else if (Date.now() < window._bokeh_timeout) {\n",
       "      setTimeout(display_loaded, 100)\n",
       "    }\n",
       "  }\n",
       "\n",
       "  function run_callbacks() {\n",
       "    window._bokeh_onload_callbacks.forEach(function(callback) { callback() });\n",
       "    delete window._bokeh_onload_callbacks\n",
       "    console.info(\"Bokeh: all callbacks have finished\");\n",
       "  }\n",
       "\n",
       "  function load_libs(js_urls, callback) {\n",
       "    window._bokeh_onload_callbacks.push(callback);\n",
       "    if (window._bokeh_is_loading > 0) {\n",
       "      console.log(\"Bokeh: BokehJS is being loaded, scheduling callback at\", now());\n",
       "      return null;\n",
       "    }\n",
       "    if (js_urls == null || js_urls.length === 0) {\n",
       "      run_callbacks();\n",
       "      return null;\n",
       "    }\n",
       "    console.log(\"Bokeh: BokehJS not loaded, scheduling load and callback at\", now());\n",
       "    window._bokeh_is_loading = js_urls.length;\n",
       "    for (var i = 0; i < js_urls.length; i++) {\n",
       "      var url = js_urls[i];\n",
       "      var s = document.createElement('script');\n",
       "      s.src = url;\n",
       "      s.async = false;\n",
       "      s.onreadystatechange = s.onload = function() {\n",
       "        window._bokeh_is_loading--;\n",
       "        if (window._bokeh_is_loading === 0) {\n",
       "          console.log(\"Bokeh: all BokehJS libraries loaded\");\n",
       "          run_callbacks()\n",
       "        }\n",
       "      };\n",
       "      s.onerror = function() {\n",
       "        console.warn(\"failed to load library \" + url);\n",
       "      };\n",
       "      console.log(\"Bokeh: injecting script tag for BokehJS library: \", url);\n",
       "      document.getElementsByTagName(\"head\")[0].appendChild(s);\n",
       "    }\n",
       "  };var element = document.getElementById(\"190ae918-99d6-43e2-bbfa-ee5a4799cded\");\n",
       "  if (element == null) {\n",
       "    console.log(\"Bokeh: ERROR: autoload.js configured with elementid '190ae918-99d6-43e2-bbfa-ee5a4799cded' but no matching script tag was found. \")\n",
       "    return false;\n",
       "  }\n",
       "\n",
       "  var js_urls = [\"https://cdn.pydata.org/bokeh/release/bokeh-0.12.4.min.js\", \"https://cdn.pydata.org/bokeh/release/bokeh-widgets-0.12.4.min.js\"];\n",
       "\n",
       "  var inline_js = [\n",
       "    function(Bokeh) {\n",
       "      Bokeh.set_log_level(\"info\");\n",
       "    },\n",
       "    \n",
       "    function(Bokeh) {\n",
       "      \n",
       "      document.getElementById(\"190ae918-99d6-43e2-bbfa-ee5a4799cded\").textContent = \"BokehJS is loading...\";\n",
       "    },\n",
       "    function(Bokeh) {\n",
       "      console.log(\"Bokeh: injecting CSS: https://cdn.pydata.org/bokeh/release/bokeh-0.12.4.min.css\");\n",
       "      Bokeh.embed.inject_css(\"https://cdn.pydata.org/bokeh/release/bokeh-0.12.4.min.css\");\n",
       "      console.log(\"Bokeh: injecting CSS: https://cdn.pydata.org/bokeh/release/bokeh-widgets-0.12.4.min.css\");\n",
       "      Bokeh.embed.inject_css(\"https://cdn.pydata.org/bokeh/release/bokeh-widgets-0.12.4.min.css\");\n",
       "    }\n",
       "  ];\n",
       "\n",
       "  function run_inline_js() {\n",
       "    \n",
       "    if ((window.Bokeh !== undefined) || (force === true)) {\n",
       "      for (var i = 0; i < inline_js.length; i++) {\n",
       "        inline_js[i](window.Bokeh);\n",
       "      }if (force === true) {\n",
       "        display_loaded();\n",
       "      }} else if (Date.now() < window._bokeh_timeout) {\n",
       "      setTimeout(run_inline_js, 100);\n",
       "    } else if (!window._bokeh_failed_load) {\n",
       "      console.log(\"Bokeh: BokehJS failed to load within specified timeout.\");\n",
       "      window._bokeh_failed_load = true;\n",
       "    } else if (force !== true) {\n",
       "      var cell = $(document.getElementById(\"190ae918-99d6-43e2-bbfa-ee5a4799cded\")).parents('.cell').data().cell;\n",
       "      cell.output_area.append_execute_result(NB_LOAD_WARNING)\n",
       "    }\n",
       "\n",
       "  }\n",
       "\n",
       "  if (window._bokeh_is_loading === 0) {\n",
       "    console.log(\"Bokeh: BokehJS loaded, going straight to plotting\");\n",
       "    run_inline_js();\n",
       "  } else {\n",
       "    load_libs(js_urls, function() {\n",
       "      console.log(\"Bokeh: BokehJS plotting callback run at\", now());\n",
       "      run_inline_js();\n",
       "    });\n",
       "  }\n",
       "}(this));"
      ]
     },
     "metadata": {},
     "output_type": "display_data"
    }
   ],
   "source": [
    "# Imports for telling Python where to find IRScout Python modules\n",
    "import sys\n",
    "import os\n",
    "import re\n",
    "sys.path.append('..\\Server')\n",
    "\n",
    "# Set Current working directory to irsScouting2017\\Server\n",
    "ptn = re.compile(\"jupyter$\")\n",
    "if ptn.search(os.getcwd()) is not None:\n",
    "    os.chdir(\"..\\Server\")\n",
    "os.getcwd()\n",
    "\n",
    "# IRScout Python Modules\n",
    "import scouting.output as out\n",
    "from scouting.event import EventDal\n",
    "\n",
    "# Use the Bokeh plotting package\n",
    "import bokeh.charts as bc\n",
    "import bokeh.charts.attributes as bca\n",
    "bc.output_notebook()\n",
    "\n",
    "# Other useful modules\n",
    "import pandas as pd\n",
    "import sqlalchemy as sa\n",
    "\n",
    "# Get a database connection\n",
    "connection_string = ('postgresql://irs1318:irs1318'\n",
    "                     '@localhost:5432/scouting')\n",
    "engine = sa.create_engine(connection_string)\n",
    "conn = engine.connect()"
   ]
  },
  {
   "cell_type": "markdown",
   "metadata": {},
   "source": [
    "### Set Event\n",
    "* **Next, set `current_event` to the applicable FIRST API event code and run this cell.**"
   ]
  },
  {
   "cell_type": "code",
   "execution_count": 13,
   "metadata": {
    "collapsed": false
   },
   "outputs": [
    {
     "data": {
      "text/plain": [
       "u'wasno'"
      ]
     },
     "execution_count": 13,
     "metadata": {},
     "output_type": "execute_result"
    }
   ],
   "source": [
    "current_event = \"wasno\"\n",
    "EventDal.set_current_event(current_event)\n",
    "EventDal.get_current_event()"
   ]
  },
  {
   "cell_type": "markdown",
   "metadata": {},
   "source": [
    "### Export Excel Ranking File\n",
    "* Run this cell to export the rankings spreadsheet."
   ]
  },
  {
   "cell_type": "code",
   "execution_count": 14,
   "metadata": {
    "collapsed": false
   },
   "outputs": [],
   "source": [
    "fpath = out.get_Path(\"Report\")\n",
    "out.get_report(fpath)"
   ]
  },
  {
   "cell_type": "markdown",
   "metadata": {},
   "source": [
    "### Get a Dataframe Containing all Measures"
   ]
  },
  {
   "cell_type": "code",
   "execution_count": 15,
   "metadata": {
    "collapsed": false
   },
   "outputs": [],
   "source": [
    "# Get Measures Dataframe\n",
    "sql_measures = sa.text(\n",
    "    \"SELECT events.name AS event, matches.name AS match, levels.name AS level, dates.name AS date, \"\n",
    "    \"teams.name AS team, alliances.name AS alliance, \"\n",
    "    \"stations.name AS station, phases.name AS phase, actors.name AS actor, tasks.name AS task, \"\n",
    "    \"measures.capability AS capability, measures.successes as successes, measures.attempts AS attempts, \"\n",
    "    \"measures.cycle_times as cycle_times, measuretypes.name AS measuretype, reasons.name AS reason, \"\n",
    "    \"attempts.name AS attempt \"\n",
    "    \"FROM ((((((((((((measures FULL OUTER JOIN teams ON measures.team_id=teams.id) \"\n",
    "    \"LEFT JOIN events ON measures.event_id=events.id) \"\n",
    "    \"LEFT JOIN matches ON measures.match_id=matches.id) \"\n",
    "    \"LEFT JOIN levels ON measures.level_id=levels.id) \"\n",
    "    \"LEFT JOIN dates ON measures.date_id=dates.id) \"\n",
    "    \"LEFT JOIN alliances ON measures.alliance_id=alliances.id) \"\n",
    "    \"LEFT JOIN stations ON measures.station_id=stations.id) \"\n",
    "    \"LEFT JOIN phases ON measures.phase_id=phases.id) \"\n",
    "    \"LEFT JOIN actors ON measures.actor_id=actors.id) \"\n",
    "    \"LEFT JOIN tasks ON measures.task_id=tasks.id) \"\n",
    "    \"LEFT JOIN reasons ON measures.reason_id=reasons.id) \"\n",
    "    \"LEFT JOIN measuretypes ON measures.measuretype_id=measuretypes.id) \"\n",
    "    \"LEFT JOIN attempts ON measures.attempt_id=attempts.id \"\n",
    "    \"WHERE events.name='wasno';\")\n",
    "measures = pd.read_sql(sql_measures, conn)"
   ]
  },
  {
   "cell_type": "markdown",
   "metadata": {},
   "source": [
    "### Create and Save Gears Chart\n",
    "* This cell creates the gears chart and saves it to Server/web/data as a static, interactive html file.\n",
    "\n",
    "**TODO:** Add an event code and timestamp to gears chart file name."
   ]
  },
  {
   "cell_type": "code",
   "execution_count": 16,
   "metadata": {
    "collapsed": false
   },
   "outputs": [
    {
     "name": "stderr",
     "output_type": "stream",
     "text": [
      "INFO:bokeh.core.state:Session output file 'web/data/gears_chart.html' already exists, will be overwritten.\n"
     ]
    },
    {
     "data": {
      "text/html": [
       "\n",
       "\n",
       "    <div class=\"bk-root\">\n",
       "        <div class=\"bk-plotdiv\" id=\"2f99face-04c9-4eae-9fad-b55aa08aa769\"></div>\n",
       "    </div>\n",
       "<script type=\"text/javascript\">\n",
       "  \n",
       "  (function(global) {\n",
       "    function now() {\n",
       "      return new Date();\n",
       "    }\n",
       "  \n",
       "    var force = false;\n",
       "  \n",
       "    if (typeof (window._bokeh_onload_callbacks) === \"undefined\" || force === true) {\n",
       "      window._bokeh_onload_callbacks = [];\n",
       "      window._bokeh_is_loading = undefined;\n",
       "    }\n",
       "  \n",
       "  \n",
       "    \n",
       "    if (typeof (window._bokeh_timeout) === \"undefined\" || force === true) {\n",
       "      window._bokeh_timeout = Date.now() + 0;\n",
       "      window._bokeh_failed_load = false;\n",
       "    }\n",
       "  \n",
       "    var NB_LOAD_WARNING = {'data': {'text/html':\n",
       "       \"<div style='background-color: #fdd'>\\n\"+\n",
       "       \"<p>\\n\"+\n",
       "       \"BokehJS does not appear to have successfully loaded. If loading BokehJS from CDN, this \\n\"+\n",
       "       \"may be due to a slow or bad network connection. Possible fixes:\\n\"+\n",
       "       \"</p>\\n\"+\n",
       "       \"<ul>\\n\"+\n",
       "       \"<li>re-rerun `output_notebook()` to attempt to load from CDN again, or</li>\\n\"+\n",
       "       \"<li>use INLINE resources instead, as so:</li>\\n\"+\n",
       "       \"</ul>\\n\"+\n",
       "       \"<code>\\n\"+\n",
       "       \"from bokeh.resources import INLINE\\n\"+\n",
       "       \"output_notebook(resources=INLINE)\\n\"+\n",
       "       \"</code>\\n\"+\n",
       "       \"</div>\"}};\n",
       "  \n",
       "    function display_loaded() {\n",
       "      if (window.Bokeh !== undefined) {\n",
       "        document.getElementById(\"2f99face-04c9-4eae-9fad-b55aa08aa769\").textContent = \"BokehJS successfully loaded.\";\n",
       "      } else if (Date.now() < window._bokeh_timeout) {\n",
       "        setTimeout(display_loaded, 100)\n",
       "      }\n",
       "    }\n",
       "  \n",
       "    function run_callbacks() {\n",
       "      window._bokeh_onload_callbacks.forEach(function(callback) { callback() });\n",
       "      delete window._bokeh_onload_callbacks\n",
       "      console.info(\"Bokeh: all callbacks have finished\");\n",
       "    }\n",
       "  \n",
       "    function load_libs(js_urls, callback) {\n",
       "      window._bokeh_onload_callbacks.push(callback);\n",
       "      if (window._bokeh_is_loading > 0) {\n",
       "        console.log(\"Bokeh: BokehJS is being loaded, scheduling callback at\", now());\n",
       "        return null;\n",
       "      }\n",
       "      if (js_urls == null || js_urls.length === 0) {\n",
       "        run_callbacks();\n",
       "        return null;\n",
       "      }\n",
       "      console.log(\"Bokeh: BokehJS not loaded, scheduling load and callback at\", now());\n",
       "      window._bokeh_is_loading = js_urls.length;\n",
       "      for (var i = 0; i < js_urls.length; i++) {\n",
       "        var url = js_urls[i];\n",
       "        var s = document.createElement('script');\n",
       "        s.src = url;\n",
       "        s.async = false;\n",
       "        s.onreadystatechange = s.onload = function() {\n",
       "          window._bokeh_is_loading--;\n",
       "          if (window._bokeh_is_loading === 0) {\n",
       "            console.log(\"Bokeh: all BokehJS libraries loaded\");\n",
       "            run_callbacks()\n",
       "          }\n",
       "        };\n",
       "        s.onerror = function() {\n",
       "          console.warn(\"failed to load library \" + url);\n",
       "        };\n",
       "        console.log(\"Bokeh: injecting script tag for BokehJS library: \", url);\n",
       "        document.getElementsByTagName(\"head\")[0].appendChild(s);\n",
       "      }\n",
       "    };var element = document.getElementById(\"2f99face-04c9-4eae-9fad-b55aa08aa769\");\n",
       "    if (element == null) {\n",
       "      console.log(\"Bokeh: ERROR: autoload.js configured with elementid '2f99face-04c9-4eae-9fad-b55aa08aa769' but no matching script tag was found. \")\n",
       "      return false;\n",
       "    }\n",
       "  \n",
       "    var js_urls = [];\n",
       "  \n",
       "    var inline_js = [\n",
       "      function(Bokeh) {\n",
       "        (function() {\n",
       "          var fn = function() {\n",
       "            var docs_json = {\"8aa14a4e-1394-434f-a7af-cf84764d99d9\":{\"roots\":{\"references\":[{\"attributes\":{\"fill_alpha\":{\"field\":\"fill_alpha\"},\"fill_color\":{\"field\":\"color\"},\"height\":{\"field\":\"height\",\"units\":\"data\"},\"line_color\":{\"field\":\"line_color\"},\"width\":{\"field\":\"width\",\"units\":\"data\"},\"x\":{\"field\":\"x\"},\"y\":{\"field\":\"y\"}},\"id\":\"83913cec-8b3a-4f92-96a8-a81edfdaa7a3\",\"type\":\"Rect\"},{\"attributes\":{\"callback\":null,\"column_names\":[\"line_color\",\"line_alpha\",\"color\",\"fill_alpha\",\"height\",\"width\",\"y\",\"x\",\"label\"],\"data\":{\"chart_index\":[{\"index\":\"1778\"}],\"color\":[\"purple\"],\"fill_alpha\":[0.8],\"height\":[41.0],\"index\":[\"1778\"],\"label\":[{\"index\":\"1778\"}],\"line_alpha\":[1.0],\"line_color\":[\"white\"],\"width\":[0.8],\"x\":[\"1778\"],\"y\":[20.5]}},\"id\":\"b0f4fe3f-581f-46b2-a4f6-955238192550\",\"type\":\"ColumnDataSource\"},{\"attributes\":{\"callback\":null,\"column_names\":[\"line_color\",\"line_alpha\",\"color\",\"fill_alpha\",\"height\",\"width\",\"y\",\"x\",\"label\"],\"data\":{\"chart_index\":[{\"index\":\"2522\"}],\"color\":[\"purple\"],\"fill_alpha\":[0.8],\"height\":[30.0],\"index\":[\"2522\"],\"label\":[{\"index\":\"2522\"}],\"line_alpha\":[1.0],\"line_color\":[\"white\"],\"width\":[0.8],\"x\":[\"2522\"],\"y\":[15.0]}},\"id\":\"448851ff-d5df-4914-9cc4-bc5ed727f882\",\"type\":\"ColumnDataSource\"},{\"attributes\":{\"fill_alpha\":{\"field\":\"fill_alpha\"},\"fill_color\":{\"field\":\"color\"},\"height\":{\"field\":\"height\",\"units\":\"data\"},\"line_color\":{\"field\":\"line_color\"},\"width\":{\"field\":\"width\",\"units\":\"data\"},\"x\":{\"field\":\"x\"},\"y\":{\"field\":\"y\"}},\"id\":\"fd3b00ae-c75d-42f4-975d-faf8566e8a93\",\"type\":\"Rect\"},{\"attributes\":{\"fill_alpha\":{\"field\":\"fill_alpha\"},\"fill_color\":{\"field\":\"color\"},\"height\":{\"field\":\"height\",\"units\":\"data\"},\"line_color\":{\"field\":\"line_color\"},\"width\":{\"field\":\"width\",\"units\":\"data\"},\"x\":{\"field\":\"x\"},\"y\":{\"field\":\"y\"}},\"id\":\"bf16afe2-a843-4524-9274-efdad5779dc3\",\"type\":\"Rect\"},{\"attributes\":{\"fill_alpha\":{\"field\":\"fill_alpha\"},\"fill_color\":{\"field\":\"color\"},\"height\":{\"field\":\"height\",\"units\":\"data\"},\"line_color\":{\"field\":\"line_color\"},\"width\":{\"field\":\"width\",\"units\":\"data\"},\"x\":{\"field\":\"x\"},\"y\":{\"field\":\"y\"}},\"id\":\"e6ea75b9-1a09-49a8-8e23-0d5669b2f1e7\",\"type\":\"Rect\"},{\"attributes\":{\"callback\":null,\"column_names\":[\"line_color\",\"line_alpha\",\"color\",\"fill_alpha\",\"height\",\"width\",\"y\",\"x\",\"label\"],\"data\":{\"chart_index\":[{\"index\":\"2976\"}],\"color\":[\"purple\"],\"fill_alpha\":[0.8],\"height\":[31.0],\"index\":[\"2976\"],\"label\":[{\"index\":\"2976\"}],\"line_alpha\":[1.0],\"line_color\":[\"white\"],\"width\":[0.8],\"x\":[\"2976\"],\"y\":[15.5]}},\"id\":\"089c334a-f27f-4984-81ee-5d3aec9db4a7\",\"type\":\"ColumnDataSource\"},{\"attributes\":{\"callback\":null,\"column_names\":[\"line_color\",\"line_alpha\",\"color\",\"fill_alpha\",\"height\",\"width\",\"y\",\"x\",\"label\"],\"data\":{\"chart_index\":[{\"index\":\"949\"}],\"color\":[\"purple\"],\"fill_alpha\":[0.8],\"height\":[20.0],\"index\":[\"949\"],\"label\":[{\"index\":\"949\"}],\"line_alpha\":[1.0],\"line_color\":[\"white\"],\"width\":[0.8],\"x\":[\"949\"],\"y\":[10.0]}},\"id\":\"9b64e6d7-e99f-41a3-9f24-3decaa6f677c\",\"type\":\"ColumnDataSource\"},{\"attributes\":{\"data_source\":{\"id\":\"21234efc-4be3-4bc9-90bc-860741c24e34\",\"type\":\"ColumnDataSource\"},\"glyph\":{\"id\":\"2df8faa2-f88e-40eb-af1c-9762011bca1e\",\"type\":\"Rect\"},\"hover_glyph\":null,\"nonselection_glyph\":null,\"selection_glyph\":null},\"id\":\"4dd2ff51-ce34-4b8d-a1a7-75d6a69baa8f\",\"type\":\"GlyphRenderer\"},{\"attributes\":{\"data_source\":{\"id\":\"c5003bc0-e35a-48ff-bfee-a62e64e0565f\",\"type\":\"ColumnDataSource\"},\"glyph\":{\"id\":\"a56f52ec-5422-42d4-910f-f5eb005e290c\",\"type\":\"Rect\"},\"hover_glyph\":null,\"nonselection_glyph\":null,\"selection_glyph\":null},\"id\":\"5568b6b7-76fa-4c91-8a40-8d86050c89b0\",\"type\":\"GlyphRenderer\"},{\"attributes\":{\"fill_alpha\":{\"field\":\"fill_alpha\"},\"fill_color\":{\"field\":\"color\"},\"height\":{\"field\":\"height\",\"units\":\"data\"},\"line_color\":{\"field\":\"line_color\"},\"width\":{\"field\":\"width\",\"units\":\"data\"},\"x\":{\"field\":\"x\"},\"y\":{\"field\":\"y\"}},\"id\":\"ea5ffc73-27e5-464b-83e3-f9f235e068d0\",\"type\":\"Rect\"},{\"attributes\":{\"fill_alpha\":{\"field\":\"fill_alpha\"},\"fill_color\":{\"field\":\"color\"},\"height\":{\"field\":\"height\",\"units\":\"data\"},\"line_color\":{\"field\":\"line_color\"},\"width\":{\"field\":\"width\",\"units\":\"data\"},\"x\":{\"field\":\"x\"},\"y\":{\"field\":\"y\"}},\"id\":\"20de50d4-c7e7-4df4-99a1-fabd029176d4\",\"type\":\"Rect\"},{\"attributes\":{\"data_source\":{\"id\":\"5282f09b-1bd6-4d20-800b-13ceaea7135c\",\"type\":\"ColumnDataSource\"},\"glyph\":{\"id\":\"5a16f764-6231-4b55-9f1f-f7cb719262ad\",\"type\":\"Rect\"},\"hover_glyph\":null,\"nonselection_glyph\":null,\"selection_glyph\":null},\"id\":\"19a5b1b4-f46c-4fe2-ada0-be2f4909cc21\",\"type\":\"GlyphRenderer\"},{\"attributes\":{\"callback\":null,\"column_names\":[\"line_color\",\"line_alpha\",\"color\",\"fill_alpha\",\"height\",\"width\",\"y\",\"x\",\"label\"],\"data\":{\"chart_index\":[{\"index\":\"2928\"}],\"color\":[\"purple\"],\"fill_alpha\":[0.8],\"height\":[31.0],\"index\":[\"2928\"],\"label\":[{\"index\":\"2928\"}],\"line_alpha\":[1.0],\"line_color\":[\"white\"],\"width\":[0.8],\"x\":[\"2928\"],\"y\":[15.5]}},\"id\":\"2639b7f7-50cb-4ac3-ac8d-8fa2aa0ec3dc\",\"type\":\"ColumnDataSource\"},{\"attributes\":{\"callback\":null,\"column_names\":[\"line_color\",\"line_alpha\",\"color\",\"fill_alpha\",\"height\",\"width\",\"y\",\"x\",\"label\"],\"data\":{\"chart_index\":[{\"index\":\"4911\"}],\"color\":[\"purple\"],\"fill_alpha\":[0.8],\"height\":[31.0],\"index\":[\"4911\"],\"label\":[{\"index\":\"4911\"}],\"line_alpha\":[1.0],\"line_color\":[\"white\"],\"width\":[0.8],\"x\":[\"4911\"],\"y\":[15.5]}},\"id\":\"6d2d2d4d-2100-4121-9573-f8bf321b65b7\",\"type\":\"ColumnDataSource\"},{\"attributes\":{\"callback\":null,\"column_names\":[\"line_color\",\"line_alpha\",\"color\",\"fill_alpha\",\"height\",\"width\",\"y\",\"x\",\"label\"],\"data\":{\"chart_index\":[{\"index\":\"4682\"}],\"color\":[\"purple\"],\"fill_alpha\":[0.8],\"height\":[43.0],\"index\":[\"4682\"],\"label\":[{\"index\":\"4682\"}],\"line_alpha\":[1.0],\"line_color\":[\"white\"],\"width\":[0.8],\"x\":[\"4682\"],\"y\":[21.5]}},\"id\":\"3ea369a1-7516-406d-b4b6-d349775566cb\",\"type\":\"ColumnDataSource\"},{\"attributes\":{\"fill_alpha\":{\"field\":\"fill_alpha\"},\"fill_color\":{\"field\":\"color\"},\"height\":{\"field\":\"height\",\"units\":\"data\"},\"line_color\":{\"field\":\"line_color\"},\"width\":{\"field\":\"width\",\"units\":\"data\"},\"x\":{\"field\":\"x\"},\"y\":{\"field\":\"y\"}},\"id\":\"5a16f764-6231-4b55-9f1f-f7cb719262ad\",\"type\":\"Rect\"},{\"attributes\":{\"fill_alpha\":{\"field\":\"fill_alpha\"},\"fill_color\":{\"field\":\"color\"},\"height\":{\"field\":\"height\",\"units\":\"data\"},\"line_color\":{\"field\":\"line_color\"},\"width\":{\"field\":\"width\",\"units\":\"data\"},\"x\":{\"field\":\"x\"},\"y\":{\"field\":\"y\"}},\"id\":\"fa30a89b-8e2d-4a2b-b89a-63cc8a5c6767\",\"type\":\"Rect\"},{\"attributes\":{},\"id\":\"f4ed9300-2fd7-4cdd-afe9-d09cbb3d116d\",\"type\":\"CategoricalTickFormatter\"},{\"attributes\":{\"data_source\":{\"id\":\"3ea369a1-7516-406d-b4b6-d349775566cb\",\"type\":\"ColumnDataSource\"},\"glyph\":{\"id\":\"5be2a254-a4aa-49b1-8eb4-b2b86707e59c\",\"type\":\"Rect\"},\"hover_glyph\":null,\"nonselection_glyph\":null,\"selection_glyph\":null},\"id\":\"a2778670-a698-41ff-a481-0508f083c967\",\"type\":\"GlyphRenderer\"},{\"attributes\":{\"data_source\":{\"id\":\"4d214c51-3410-4c73-8c41-5afabcc969e6\",\"type\":\"ColumnDataSource\"},\"glyph\":{\"id\":\"809034d9-f7f7-4dd8-976c-60bf82b7c12f\",\"type\":\"Rect\"},\"hover_glyph\":null,\"nonselection_glyph\":null,\"selection_glyph\":null},\"id\":\"d4593c23-7b01-4418-8c16-3a7ad0e43258\",\"type\":\"GlyphRenderer\"},{\"attributes\":{\"callback\":null,\"column_names\":[\"line_color\",\"line_alpha\",\"color\",\"fill_alpha\",\"height\",\"width\",\"y\",\"x\",\"label\"],\"data\":{\"chart_index\":[{\"index\":\"4089\"}],\"color\":[\"purple\"],\"fill_alpha\":[0.8],\"height\":[29.0],\"index\":[\"4089\"],\"label\":[{\"index\":\"4089\"}],\"line_alpha\":[1.0],\"line_color\":[\"white\"],\"width\":[0.8],\"x\":[\"4089\"],\"y\":[14.5]}},\"id\":\"7b543b34-d130-42fb-9086-cbe26db26e16\",\"type\":\"ColumnDataSource\"},{\"attributes\":{\"callback\":null,\"column_names\":[\"line_color\",\"line_alpha\",\"color\",\"fill_alpha\",\"height\",\"width\",\"y\",\"x\",\"label\"],\"data\":{\"chart_index\":[{\"index\":\"4469\"}],\"color\":[\"purple\"],\"fill_alpha\":[0.8],\"height\":[22.0],\"index\":[\"4469\"],\"label\":[{\"index\":\"4469\"}],\"line_alpha\":[1.0],\"line_color\":[\"white\"],\"width\":[0.8],\"x\":[\"4469\"],\"y\":[11.0]}},\"id\":\"21234efc-4be3-4bc9-90bc-860741c24e34\",\"type\":\"ColumnDataSource\"},{\"attributes\":{\"data_source\":{\"id\":\"6d2d2d4d-2100-4121-9573-f8bf321b65b7\",\"type\":\"ColumnDataSource\"},\"glyph\":{\"id\":\"07217575-782f-425f-afde-ce137b807e5e\",\"type\":\"Rect\"},\"hover_glyph\":null,\"nonselection_glyph\":null,\"selection_glyph\":null},\"id\":\"20341b11-82b2-42d6-830c-dbb57fbefd01\",\"type\":\"GlyphRenderer\"},{\"attributes\":{\"fill_alpha\":{\"field\":\"fill_alpha\"},\"fill_color\":{\"field\":\"color\"},\"height\":{\"field\":\"height\",\"units\":\"data\"},\"line_color\":{\"field\":\"line_color\"},\"width\":{\"field\":\"width\",\"units\":\"data\"},\"x\":{\"field\":\"x\"},\"y\":{\"field\":\"y\"}},\"id\":\"35d2c434-073c-40b4-9249-54c805dbe87c\",\"type\":\"Rect\"},{\"attributes\":{\"data_source\":{\"id\":\"a90a6363-1418-46c7-a1fa-b03f4958934e\",\"type\":\"ColumnDataSource\"},\"glyph\":{\"id\":\"eade9efa-870e-40d0-846a-22f5948b6c3a\",\"type\":\"Rect\"},\"hover_glyph\":null,\"nonselection_glyph\":null,\"selection_glyph\":null},\"id\":\"d4b94c37-be7a-477d-9dcd-1b8666e97e97\",\"type\":\"GlyphRenderer\"},{\"attributes\":{},\"id\":\"b2e7f182-b155-4d60-b8b6-c37f76e22d44\",\"type\":\"BasicTickFormatter\"},{\"attributes\":{\"dimension\":1,\"plot\":{\"id\":\"a9ccd037-1801-44f4-a8cf-bbc9126df39d\",\"subtype\":\"Chart\",\"type\":\"Plot\"},\"ticker\":{\"id\":\"b33dc266-c960-4ca3-8d27-afae2431a8c4\",\"type\":\"BasicTicker\"}},\"id\":\"f89c83e5-a570-447f-9a1d-63b79460ce77\",\"type\":\"Grid\"},{\"attributes\":{\"fill_alpha\":{\"field\":\"fill_alpha\"},\"fill_color\":{\"field\":\"color\"},\"height\":{\"field\":\"height\",\"units\":\"data\"},\"line_color\":{\"field\":\"line_color\"},\"width\":{\"field\":\"width\",\"units\":\"data\"},\"x\":{\"field\":\"x\"},\"y\":{\"field\":\"y\"}},\"id\":\"572d200b-23b3-4878-8f1a-6608fcb19875\",\"type\":\"Rect\"},{\"attributes\":{\"callback\":null,\"column_names\":[\"line_color\",\"line_alpha\",\"color\",\"fill_alpha\",\"height\",\"width\",\"y\",\"x\",\"label\"],\"data\":{\"chart_index\":[{\"index\":\"2555\"}],\"color\":[\"purple\"],\"fill_alpha\":[0.8],\"height\":[26.0],\"index\":[\"2555\"],\"label\":[{\"index\":\"2555\"}],\"line_alpha\":[1.0],\"line_color\":[\"white\"],\"width\":[0.8],\"x\":[\"2555\"],\"y\":[13.0]}},\"id\":\"a139ccdb-169f-4e7d-971f-303a146a1a8b\",\"type\":\"ColumnDataSource\"},{\"attributes\":{\"data_source\":{\"id\":\"4c027742-23cb-4547-9f20-486acc62be5a\",\"type\":\"ColumnDataSource\"},\"glyph\":{\"id\":\"56a5770b-b798-4886-a746-bb03d788cbdc\",\"type\":\"Rect\"},\"hover_glyph\":null,\"nonselection_glyph\":null,\"selection_glyph\":null},\"id\":\"1394019e-10b1-47d2-95de-72d8781a9d1f\",\"type\":\"GlyphRenderer\"},{\"attributes\":{\"fill_alpha\":{\"field\":\"fill_alpha\"},\"fill_color\":{\"field\":\"color\"},\"height\":{\"field\":\"height\",\"units\":\"data\"},\"line_color\":{\"field\":\"line_color\"},\"width\":{\"field\":\"width\",\"units\":\"data\"},\"x\":{\"field\":\"x\"},\"y\":{\"field\":\"y\"}},\"id\":\"b5eccd76-8b64-4aa9-a9e4-6a50f2585c9e\",\"type\":\"Rect\"},{\"attributes\":{\"data_source\":{\"id\":\"7640d04c-7642-422d-b756-e9cccc4d2151\",\"type\":\"ColumnDataSource\"},\"glyph\":{\"id\":\"36c05a34-a3a5-4f14-a6ba-6aa7f143dbfe\",\"type\":\"Rect\"},\"hover_glyph\":null,\"nonselection_glyph\":null,\"selection_glyph\":null},\"id\":\"2c799c1b-a0d1-4a41-94bd-ce97d1e7f905\",\"type\":\"GlyphRenderer\"},{\"attributes\":{\"data_source\":{\"id\":\"45a0d88a-c6f3-4f93-8266-4e0704349c82\",\"type\":\"ColumnDataSource\"},\"glyph\":{\"id\":\"ee64b25d-f6a1-467c-88fc-a6bac51dcaf3\",\"type\":\"Rect\"},\"hover_glyph\":null,\"nonselection_glyph\":null,\"selection_glyph\":null},\"id\":\"a45811ce-7a08-4a3c-92e4-186b90b9f830\",\"type\":\"GlyphRenderer\"},{\"attributes\":{\"data_source\":{\"id\":\"9a2dd42d-a295-4ad8-aa18-b2c9f8ca0efb\",\"type\":\"ColumnDataSource\"},\"glyph\":{\"id\":\"b366de6c-7b1d-4fc6-b97d-368105b7eebd\",\"type\":\"Rect\"},\"hover_glyph\":null,\"nonselection_glyph\":null,\"selection_glyph\":null},\"id\":\"d98b82e9-7dfe-4afb-b979-b431fa72cc1e\",\"type\":\"GlyphRenderer\"},{\"attributes\":{\"data_source\":{\"id\":\"31e7c3ae-11bd-42ce-81b9-a7dc37fc14e0\",\"type\":\"ColumnDataSource\"},\"glyph\":{\"id\":\"6f77931c-9c1a-40ed-951b-a088dea451ae\",\"type\":\"Rect\"},\"hover_glyph\":null,\"nonselection_glyph\":null,\"selection_glyph\":null},\"id\":\"e4dc9951-3e74-4d2d-b859-6a98f2d7a6a9\",\"type\":\"GlyphRenderer\"},{\"attributes\":{},\"id\":\"35192302-f1a5-4948-b760-3dbe1939947a\",\"type\":\"ToolEvents\"},{\"attributes\":{\"fill_alpha\":{\"field\":\"fill_alpha\"},\"fill_color\":{\"field\":\"color\"},\"height\":{\"field\":\"height\",\"units\":\"data\"},\"line_color\":{\"field\":\"line_color\"},\"width\":{\"field\":\"width\",\"units\":\"data\"},\"x\":{\"field\":\"x\"},\"y\":{\"field\":\"y\"}},\"id\":\"63be5733-7383-4109-ba85-9957f3fe7e15\",\"type\":\"Rect\"},{\"attributes\":{\"data_source\":{\"id\":\"58b8f210-f0c2-444e-9ede-9a99b3eb549e\",\"type\":\"ColumnDataSource\"},\"glyph\":{\"id\":\"35d2c434-073c-40b4-9249-54c805dbe87c\",\"type\":\"Rect\"},\"hover_glyph\":null,\"nonselection_glyph\":null,\"selection_glyph\":null},\"id\":\"f2005a5f-8604-419c-b415-e18cc345a742\",\"type\":\"GlyphRenderer\"},{\"attributes\":{\"data_source\":{\"id\":\"4e593412-0d5e-446d-ab3d-6b666e8775bd\",\"type\":\"ColumnDataSource\"},\"glyph\":{\"id\":\"018842e6-2078-435e-9630-6784a9c67cdd\",\"type\":\"Rect\"},\"hover_glyph\":null,\"nonselection_glyph\":null,\"selection_glyph\":null},\"id\":\"2233292b-7df4-4208-a1c3-ee6006c6f121\",\"type\":\"GlyphRenderer\"},{\"attributes\":{\"data_source\":{\"id\":\"fb1236f4-cf16-4a73-9c50-fd813881fb49\",\"type\":\"ColumnDataSource\"},\"glyph\":{\"id\":\"8a05aa16-6b58-4e26-a508-fc1bddc26efa\",\"type\":\"Rect\"},\"hover_glyph\":null,\"nonselection_glyph\":null,\"selection_glyph\":null},\"id\":\"1514f917-663d-419d-a8a7-a996c604c671\",\"type\":\"GlyphRenderer\"},{\"attributes\":{\"callback\":null,\"column_names\":[\"line_color\",\"line_alpha\",\"color\",\"fill_alpha\",\"height\",\"width\",\"y\",\"x\",\"label\"],\"data\":{\"chart_index\":[{\"index\":\"3268\"}],\"color\":[\"purple\"],\"fill_alpha\":[0.8],\"height\":[34.0],\"index\":[\"3268\"],\"label\":[{\"index\":\"3268\"}],\"line_alpha\":[1.0],\"line_color\":[\"white\"],\"width\":[0.8],\"x\":[\"3268\"],\"y\":[17.0]}},\"id\":\"b1d5fa95-f94d-4ace-971d-e1f80e1599c0\",\"type\":\"ColumnDataSource\"},{\"attributes\":{\"data_source\":{\"id\":\"99e17b86-fd8d-4c62-bf2a-1d56074e866c\",\"type\":\"ColumnDataSource\"},\"glyph\":{\"id\":\"ea15eb7f-84ab-4ccd-9c36-e53e38aad84e\",\"type\":\"Rect\"},\"hover_glyph\":null,\"nonselection_glyph\":null,\"selection_glyph\":null},\"id\":\"ef5c68d8-c33e-454f-9d85-c1c86d3b9d40\",\"type\":\"GlyphRenderer\"},{\"attributes\":{\"fill_alpha\":{\"field\":\"fill_alpha\"},\"fill_color\":{\"field\":\"color\"},\"height\":{\"field\":\"height\",\"units\":\"data\"},\"line_color\":{\"field\":\"line_color\"},\"width\":{\"field\":\"width\",\"units\":\"data\"},\"x\":{\"field\":\"x\"},\"y\":{\"field\":\"y\"}},\"id\":\"e07e2b9e-24c0-4902-bffc-9cee812ebe33\",\"type\":\"Rect\"},{\"attributes\":{\"callback\":null,\"column_names\":[\"line_color\",\"line_alpha\",\"color\",\"fill_alpha\",\"height\",\"width\",\"y\",\"x\",\"label\"],\"data\":{\"chart_index\":[{\"index\":\"3070\"}],\"color\":[\"purple\"],\"fill_alpha\":[0.8],\"height\":[26.0],\"index\":[\"3070\"],\"label\":[{\"index\":\"3070\"}],\"line_alpha\":[1.0],\"line_color\":[\"white\"],\"width\":[0.8],\"x\":[\"3070\"],\"y\":[13.0]}},\"id\":\"7dd02787-6a6d-4f3c-918c-5e774695d03d\",\"type\":\"ColumnDataSource\"},{\"attributes\":{\"data_source\":{\"id\":\"a68deee2-4749-4ef1-9bc7-5240c74aee6f\",\"type\":\"ColumnDataSource\"},\"glyph\":{\"id\":\"05f78163-2385-48e1-8b0e-440017978b8a\",\"type\":\"Rect\"},\"hover_glyph\":null,\"nonselection_glyph\":null,\"selection_glyph\":null},\"id\":\"a42c3edf-e5e5-4a6f-8c3e-36aa3a7992bb\",\"type\":\"GlyphRenderer\"},{\"attributes\":{\"data_source\":{\"id\":\"7b543b34-d130-42fb-9086-cbe26db26e16\",\"type\":\"ColumnDataSource\"},\"glyph\":{\"id\":\"20de50d4-c7e7-4df4-99a1-fabd029176d4\",\"type\":\"Rect\"},\"hover_glyph\":null,\"nonselection_glyph\":null,\"selection_glyph\":null},\"id\":\"1ce23638-b11e-431c-a6d9-2dd24854985d\",\"type\":\"GlyphRenderer\"},{\"attributes\":{\"callback\":null,\"column_names\":[\"line_color\",\"line_alpha\",\"color\",\"fill_alpha\",\"height\",\"width\",\"y\",\"x\",\"label\"],\"data\":{\"chart_index\":[{\"index\":\"2605\"}],\"color\":[\"purple\"],\"fill_alpha\":[0.8],\"height\":[34.0],\"index\":[\"2605\"],\"label\":[{\"index\":\"2605\"}],\"line_alpha\":[1.0],\"line_color\":[\"white\"],\"width\":[0.8],\"x\":[\"2605\"],\"y\":[17.0]}},\"id\":\"05742615-7f95-4b7b-a139-5dc8ee195500\",\"type\":\"ColumnDataSource\"},{\"attributes\":{\"fill_alpha\":{\"field\":\"fill_alpha\"},\"fill_color\":{\"field\":\"color\"},\"height\":{\"field\":\"height\",\"units\":\"data\"},\"line_color\":{\"field\":\"line_color\"},\"width\":{\"field\":\"width\",\"units\":\"data\"},\"x\":{\"field\":\"x\"},\"y\":{\"field\":\"y\"}},\"id\":\"05f78163-2385-48e1-8b0e-440017978b8a\",\"type\":\"Rect\"},{\"attributes\":{\"data_source\":{\"id\":\"b1d5fa95-f94d-4ace-971d-e1f80e1599c0\",\"type\":\"ColumnDataSource\"},\"glyph\":{\"id\":\"572d200b-23b3-4878-8f1a-6608fcb19875\",\"type\":\"Rect\"},\"hover_glyph\":null,\"nonselection_glyph\":null,\"selection_glyph\":null},\"id\":\"7c2326d7-2e1c-45e8-a4ea-b1f987115533\",\"type\":\"GlyphRenderer\"},{\"attributes\":{\"fill_alpha\":{\"field\":\"fill_alpha\"},\"fill_color\":{\"field\":\"color\"},\"height\":{\"field\":\"height\",\"units\":\"data\"},\"line_color\":{\"field\":\"line_color\"},\"width\":{\"field\":\"width\",\"units\":\"data\"},\"x\":{\"field\":\"x\"},\"y\":{\"field\":\"y\"}},\"id\":\"8a05aa16-6b58-4e26-a508-fc1bddc26efa\",\"type\":\"Rect\"},{\"attributes\":{\"callback\":null,\"column_names\":[\"line_color\",\"line_alpha\",\"color\",\"fill_alpha\",\"height\",\"width\",\"y\",\"x\",\"label\"],\"data\":{\"chart_index\":[{\"index\":\"5683\"}],\"color\":[\"purple\"],\"fill_alpha\":[0.8],\"height\":[10.0],\"index\":[\"5683\"],\"label\":[{\"index\":\"5683\"}],\"line_alpha\":[1.0],\"line_color\":[\"white\"],\"width\":[0.8],\"x\":[\"5683\"],\"y\":[5.0]}},\"id\":\"bd21e597-8c03-43fe-8d13-3aa737a97901\",\"type\":\"ColumnDataSource\"},{\"attributes\":{\"callback\":null,\"column_names\":[\"line_color\",\"line_alpha\",\"color\",\"fill_alpha\",\"height\",\"width\",\"y\",\"x\",\"label\"],\"data\":{\"chart_index\":[{\"index\":\"4309\"}],\"color\":[\"purple\"],\"fill_alpha\":[0.8],\"height\":[8.0],\"index\":[\"4309\"],\"label\":[{\"index\":\"4309\"}],\"line_alpha\":[1.0],\"line_color\":[\"white\"],\"width\":[0.8],\"x\":[\"4309\"],\"y\":[4.0]}},\"id\":\"31e7c3ae-11bd-42ce-81b9-a7dc37fc14e0\",\"type\":\"ColumnDataSource\"},{\"attributes\":{\"callback\":null,\"column_names\":[\"line_color\",\"line_alpha\",\"color\",\"fill_alpha\",\"height\",\"width\",\"y\",\"x\",\"label\"],\"data\":{\"chart_index\":[{\"index\":\"2903\"}],\"color\":[\"purple\"],\"fill_alpha\":[0.8],\"height\":[33.0],\"index\":[\"2903\"],\"label\":[{\"index\":\"2903\"}],\"line_alpha\":[1.0],\"line_color\":[\"white\"],\"width\":[0.8],\"x\":[\"2903\"],\"y\":[16.5]}},\"id\":\"d17b913e-6cae-4cd2-9dee-c13f5da62eca\",\"type\":\"ColumnDataSource\"},{\"attributes\":{\"callback\":null,\"end\":82.95},\"id\":\"d62f7f0c-50f7-4c9e-bf80-e699b823987a\",\"type\":\"Range1d\"},{\"attributes\":{\"data_source\":{\"id\":\"80a1ee24-2760-4327-b777-8a5dfc4bf2f0\",\"type\":\"ColumnDataSource\"},\"glyph\":{\"id\":\"08d1d5c2-62d0-43e1-a6c4-76c538b44c33\",\"type\":\"Rect\"},\"hover_glyph\":null,\"nonselection_glyph\":null,\"selection_glyph\":null},\"id\":\"82526d13-0dbe-45ed-8489-754d332a193d\",\"type\":\"GlyphRenderer\"},{\"attributes\":{\"callback\":null,\"column_names\":[\"line_color\",\"line_alpha\",\"color\",\"fill_alpha\",\"height\",\"width\",\"y\",\"x\",\"label\"],\"data\":{\"chart_index\":[{\"index\":\"492\"}],\"color\":[\"purple\"],\"fill_alpha\":[0.8],\"height\":[27.0],\"index\":[\"492\"],\"label\":[{\"index\":\"492\"}],\"line_alpha\":[1.0],\"line_color\":[\"white\"],\"width\":[0.8],\"x\":[\"492\"],\"y\":[13.5]}},\"id\":\"58b8f210-f0c2-444e-9ede-9a99b3eb549e\",\"type\":\"ColumnDataSource\"},{\"attributes\":{\"fill_alpha\":{\"field\":\"fill_alpha\"},\"fill_color\":{\"field\":\"color\"},\"height\":{\"field\":\"height\",\"units\":\"data\"},\"line_color\":{\"field\":\"line_color\"},\"width\":{\"field\":\"width\",\"units\":\"data\"},\"x\":{\"field\":\"x\"},\"y\":{\"field\":\"y\"}},\"id\":\"75fb361a-c8cf-4b99-97f8-7e8e47af2fb7\",\"type\":\"Rect\"},{\"attributes\":{\"callback\":null,\"column_names\":[\"line_color\",\"line_alpha\",\"color\",\"fill_alpha\",\"height\",\"width\",\"y\",\"x\",\"label\"],\"data\":{\"chart_index\":[{\"index\":\"2412\"}],\"color\":[\"purple\"],\"fill_alpha\":[0.8],\"height\":[44.0],\"index\":[\"2412\"],\"label\":[{\"index\":\"2412\"}],\"line_alpha\":[1.0],\"line_color\":[\"white\"],\"width\":[0.8],\"x\":[\"2412\"],\"y\":[22.0]}},\"id\":\"34352e89-1584-45fa-9e3a-6fcfcf5d95eb\",\"type\":\"ColumnDataSource\"},{\"attributes\":{\"callback\":null,\"column_names\":[\"line_color\",\"line_alpha\",\"color\",\"fill_alpha\",\"height\",\"width\",\"y\",\"x\",\"label\"],\"data\":{\"chart_index\":[{\"index\":\"3218\"}],\"color\":[\"purple\"],\"fill_alpha\":[0.8],\"height\":[79.0],\"index\":[\"3218\"],\"label\":[{\"index\":\"3218\"}],\"line_alpha\":[1.0],\"line_color\":[\"white\"],\"width\":[0.8],\"x\":[\"3218\"],\"y\":[39.5]}},\"id\":\"9a2dd42d-a295-4ad8-aa18-b2c9f8ca0efb\",\"type\":\"ColumnDataSource\"},{\"attributes\":{\"plot\":{\"id\":\"a9ccd037-1801-44f4-a8cf-bbc9126df39d\",\"subtype\":\"Chart\",\"type\":\"Plot\"}},\"id\":\"9fad18a7-f306-4603-840f-ca76045d6897\",\"type\":\"HelpTool\"},{\"attributes\":{\"fill_alpha\":{\"field\":\"fill_alpha\"},\"fill_color\":{\"field\":\"color\"},\"height\":{\"field\":\"height\",\"units\":\"data\"},\"line_color\":{\"field\":\"line_color\"},\"width\":{\"field\":\"width\",\"units\":\"data\"},\"x\":{\"field\":\"x\"},\"y\":{\"field\":\"y\"}},\"id\":\"ee64b25d-f6a1-467c-88fc-a6bac51dcaf3\",\"type\":\"Rect\"},{\"attributes\":{\"data_source\":{\"id\":\"890c2dbc-936c-40e0-8dc1-f0935b62d4d5\",\"type\":\"ColumnDataSource\"},\"glyph\":{\"id\":\"fa30a89b-8e2d-4a2b-b89a-63cc8a5c6767\",\"type\":\"Rect\"},\"hover_glyph\":null,\"nonselection_glyph\":null,\"selection_glyph\":null},\"id\":\"075a56da-c0a7-4911-b167-81b2b16a82d4\",\"type\":\"GlyphRenderer\"},{\"attributes\":{\"data_source\":{\"id\":\"bd21e597-8c03-43fe-8d13-3aa737a97901\",\"type\":\"ColumnDataSource\"},\"glyph\":{\"id\":\"fd3b00ae-c75d-42f4-975d-faf8566e8a93\",\"type\":\"Rect\"},\"hover_glyph\":null,\"nonselection_glyph\":null,\"selection_glyph\":null},\"id\":\"f211f524-bdb0-406b-a605-3b11fb25831b\",\"type\":\"GlyphRenderer\"},{\"attributes\":{\"data_source\":{\"id\":\"05742615-7f95-4b7b-a139-5dc8ee195500\",\"type\":\"ColumnDataSource\"},\"glyph\":{\"id\":\"63be5733-7383-4109-ba85-9957f3fe7e15\",\"type\":\"Rect\"},\"hover_glyph\":null,\"nonselection_glyph\":null,\"selection_glyph\":null},\"id\":\"49dc43b8-f52b-48ed-8a7c-68bf601f2b27\",\"type\":\"GlyphRenderer\"},{\"attributes\":{\"plot\":{\"id\":\"a9ccd037-1801-44f4-a8cf-bbc9126df39d\",\"subtype\":\"Chart\",\"type\":\"Plot\"}},\"id\":\"292feab4-dd84-4ec2-a1c5-e9c43df7e486\",\"type\":\"PanTool\"},{\"attributes\":{\"fill_alpha\":{\"field\":\"fill_alpha\"},\"fill_color\":{\"field\":\"color\"},\"height\":{\"field\":\"height\",\"units\":\"data\"},\"line_color\":{\"field\":\"line_color\"},\"width\":{\"field\":\"width\",\"units\":\"data\"},\"x\":{\"field\":\"x\"},\"y\":{\"field\":\"y\"}},\"id\":\"56a5770b-b798-4886-a746-bb03d788cbdc\",\"type\":\"Rect\"},{\"attributes\":{\"bottom_units\":\"screen\",\"fill_alpha\":{\"value\":0.5},\"fill_color\":{\"value\":\"lightgrey\"},\"left_units\":\"screen\",\"level\":\"overlay\",\"line_alpha\":{\"value\":1.0},\"line_color\":{\"value\":\"black\"},\"line_dash\":[4,4],\"line_width\":{\"value\":2},\"plot\":null,\"render_mode\":\"css\",\"right_units\":\"screen\",\"top_units\":\"screen\"},\"id\":\"1a8e4664-cb81-4768-ae18-2364ba029684\",\"type\":\"BoxAnnotation\"},{\"attributes\":{\"axis_label\":\"Gears Placed\",\"formatter\":{\"id\":\"b2e7f182-b155-4d60-b8b6-c37f76e22d44\",\"type\":\"BasicTickFormatter\"},\"plot\":{\"id\":\"a9ccd037-1801-44f4-a8cf-bbc9126df39d\",\"subtype\":\"Chart\",\"type\":\"Plot\"},\"ticker\":{\"id\":\"b33dc266-c960-4ca3-8d27-afae2431a8c4\",\"type\":\"BasicTicker\"}},\"id\":\"74d7a7a1-dde3-463d-b2b8-b5bc3e31c660\",\"type\":\"LinearAxis\"},{\"attributes\":{\"overlay\":{\"id\":\"1a8e4664-cb81-4768-ae18-2364ba029684\",\"type\":\"BoxAnnotation\"},\"plot\":{\"id\":\"a9ccd037-1801-44f4-a8cf-bbc9126df39d\",\"subtype\":\"Chart\",\"type\":\"Plot\"}},\"id\":\"83696717-7f1b-4c0e-9808-aa41f6f50b10\",\"type\":\"BoxZoomTool\"},{\"attributes\":{\"data_source\":{\"id\":\"293a17ab-6eb3-46e3-8a0e-65653759be42\",\"type\":\"ColumnDataSource\"},\"glyph\":{\"id\":\"de3a8517-0333-4f53-a291-a7bb4cd8743f\",\"type\":\"Rect\"},\"hover_glyph\":null,\"nonselection_glyph\":null,\"selection_glyph\":null},\"id\":\"6c48d367-cc40-4e04-9c6d-1acbacb3342e\",\"type\":\"GlyphRenderer\"},{\"attributes\":{\"fill_alpha\":{\"field\":\"fill_alpha\"},\"fill_color\":{\"field\":\"color\"},\"height\":{\"field\":\"height\",\"units\":\"data\"},\"line_color\":{\"field\":\"line_color\"},\"width\":{\"field\":\"width\",\"units\":\"data\"},\"x\":{\"field\":\"x\"},\"y\":{\"field\":\"y\"}},\"id\":\"eade9efa-870e-40d0-846a-22f5948b6c3a\",\"type\":\"Rect\"},{\"attributes\":{\"fill_alpha\":{\"field\":\"fill_alpha\"},\"fill_color\":{\"field\":\"color\"},\"height\":{\"field\":\"height\",\"units\":\"data\"},\"line_color\":{\"field\":\"line_color\"},\"width\":{\"field\":\"width\",\"units\":\"data\"},\"x\":{\"field\":\"x\"},\"y\":{\"field\":\"y\"}},\"id\":\"018842e6-2078-435e-9630-6784a9c67cdd\",\"type\":\"Rect\"},{\"attributes\":{},\"id\":\"0a9a851e-39fb-4f19-8f91-f04aa0acaa67\",\"type\":\"CategoricalTicker\"},{\"attributes\":{\"callback\":null,\"column_names\":[\"line_color\",\"line_alpha\",\"color\",\"fill_alpha\",\"height\",\"width\",\"y\",\"x\",\"label\"],\"data\":{\"chart_index\":[{\"index\":\"2910\"}],\"color\":[\"purple\"],\"fill_alpha\":[0.8],\"height\":[24.0],\"index\":[\"2910\"],\"label\":[{\"index\":\"2910\"}],\"line_alpha\":[1.0],\"line_color\":[\"white\"],\"width\":[0.8],\"x\":[\"2910\"],\"y\":[12.0]}},\"id\":\"96a47f76-8b42-43a9-9aea-830a704c7745\",\"type\":\"ColumnDataSource\"},{\"attributes\":{\"callback\":null,\"column_names\":[\"line_color\",\"line_alpha\",\"color\",\"fill_alpha\",\"height\",\"width\",\"y\",\"x\",\"label\"],\"data\":{\"chart_index\":[{\"index\":\"5803\"}],\"color\":[\"purple\"],\"fill_alpha\":[0.8],\"height\":[28.0],\"index\":[\"5803\"],\"label\":[{\"index\":\"5803\"}],\"line_alpha\":[1.0],\"line_color\":[\"white\"],\"width\":[0.8],\"x\":[\"5803\"],\"y\":[14.0]}},\"id\":\"7640d04c-7642-422d-b756-e9cccc4d2151\",\"type\":\"ColumnDataSource\"},{\"attributes\":{\"active_drag\":\"auto\",\"active_scroll\":\"auto\",\"active_tap\":\"auto\",\"tools\":[{\"id\":\"292feab4-dd84-4ec2-a1c5-e9c43df7e486\",\"type\":\"PanTool\"},{\"id\":\"76cd468d-a88a-4dbd-a667-c2596213323e\",\"type\":\"WheelZoomTool\"},{\"id\":\"83696717-7f1b-4c0e-9808-aa41f6f50b10\",\"type\":\"BoxZoomTool\"},{\"id\":\"bafb13d2-0f5e-4195-98f3-28f17b83d4ae\",\"type\":\"SaveTool\"},{\"id\":\"d5e18bc3-acfb-4789-adde-ee5d495fc5a5\",\"type\":\"ResetTool\"},{\"id\":\"9fad18a7-f306-4603-840f-ca76045d6897\",\"type\":\"HelpTool\"}]},\"id\":\"2d049d3f-f0ff-49ed-8624-f4d9b18bb7ab\",\"type\":\"Toolbar\"},{\"attributes\":{\"fill_alpha\":{\"field\":\"fill_alpha\"},\"fill_color\":{\"field\":\"color\"},\"height\":{\"field\":\"height\",\"units\":\"data\"},\"line_color\":{\"field\":\"line_color\"},\"width\":{\"field\":\"width\",\"units\":\"data\"},\"x\":{\"field\":\"x\"},\"y\":{\"field\":\"y\"}},\"id\":\"cee9cbee-f506-49ea-9bba-f13e749caa6c\",\"type\":\"Rect\"},{\"attributes\":{\"fill_alpha\":{\"field\":\"fill_alpha\"},\"fill_color\":{\"field\":\"color\"},\"height\":{\"field\":\"height\",\"units\":\"data\"},\"line_color\":{\"field\":\"line_color\"},\"width\":{\"field\":\"width\",\"units\":\"data\"},\"x\":{\"field\":\"x\"},\"y\":{\"field\":\"y\"}},\"id\":\"07217575-782f-425f-afde-ce137b807e5e\",\"type\":\"Rect\"},{\"attributes\":{\"data_source\":{\"id\":\"e8e22272-2fdb-444a-9751-1824123a07aa\",\"type\":\"ColumnDataSource\"},\"glyph\":{\"id\":\"c8025675-4218-4d1e-b539-a6ba5631874b\",\"type\":\"Rect\"},\"hover_glyph\":null,\"nonselection_glyph\":null,\"selection_glyph\":null},\"id\":\"f1dbc373-a6f8-4939-9e80-844dcdc4d5f8\",\"type\":\"GlyphRenderer\"},{\"attributes\":{\"callback\":null,\"column_names\":[\"line_color\",\"line_alpha\",\"color\",\"fill_alpha\",\"height\",\"width\",\"y\",\"x\",\"label\"],\"data\":{\"chart_index\":[{\"index\":\"5588\"}],\"color\":[\"purple\"],\"fill_alpha\":[0.8],\"height\":[23.0],\"index\":[\"5588\"],\"label\":[{\"index\":\"5588\"}],\"line_alpha\":[1.0],\"line_color\":[\"white\"],\"width\":[0.8],\"x\":[\"5588\"],\"y\":[11.5]}},\"id\":\"99e17b86-fd8d-4c62-bf2a-1d56074e866c\",\"type\":\"ColumnDataSource\"},{\"attributes\":{\"callback\":null,\"column_names\":[\"line_color\",\"line_alpha\",\"color\",\"fill_alpha\",\"height\",\"width\",\"y\",\"x\",\"label\"],\"data\":{\"chart_index\":[{\"index\":\"4915\"}],\"color\":[\"purple\"],\"fill_alpha\":[0.8],\"height\":[23.0],\"index\":[\"4915\"],\"label\":[{\"index\":\"4915\"}],\"line_alpha\":[1.0],\"line_color\":[\"white\"],\"width\":[0.8],\"x\":[\"4915\"],\"y\":[11.5]}},\"id\":\"e8e22272-2fdb-444a-9751-1824123a07aa\",\"type\":\"ColumnDataSource\"},{\"attributes\":{\"data_source\":{\"id\":\"8a5d8eb7-cb44-43a4-95ac-d7b3c18e75b8\",\"type\":\"ColumnDataSource\"},\"glyph\":{\"id\":\"165e65ff-f832-4d40-86ee-67d2845cfe38\",\"type\":\"Rect\"},\"hover_glyph\":null,\"nonselection_glyph\":null,\"selection_glyph\":null},\"id\":\"10126056-22af-48de-b0bb-5d7c38f8676b\",\"type\":\"GlyphRenderer\"},{\"attributes\":{\"callback\":null,\"column_names\":[\"line_color\",\"line_alpha\",\"color\",\"fill_alpha\",\"height\",\"width\",\"y\",\"x\",\"label\"],\"data\":{\"chart_index\":[{\"index\":\"1983\"}],\"color\":[\"purple\"],\"fill_alpha\":[0.8],\"height\":[27.0],\"index\":[\"1983\"],\"label\":[{\"index\":\"1983\"}],\"line_alpha\":[1.0],\"line_color\":[\"white\"],\"width\":[0.8],\"x\":[\"1983\"],\"y\":[13.5]}},\"id\":\"80a1ee24-2760-4327-b777-8a5dfc4bf2f0\",\"type\":\"ColumnDataSource\"},{\"attributes\":{\"data_source\":{\"id\":\"7dd02787-6a6d-4f3c-918c-5e774695d03d\",\"type\":\"ColumnDataSource\"},\"glyph\":{\"id\":\"deda56ef-cd7b-427e-a588-de9ec3e9044a\",\"type\":\"Rect\"},\"hover_glyph\":null,\"nonselection_glyph\":null,\"selection_glyph\":null},\"id\":\"7207fbe0-acbd-41a2-94cd-35410a2abbf5\",\"type\":\"GlyphRenderer\"},{\"attributes\":{\"data_source\":{\"id\":\"9b64e6d7-e99f-41a3-9f24-3decaa6f677c\",\"type\":\"ColumnDataSource\"},\"glyph\":{\"id\":\"bf16afe2-a843-4524-9274-efdad5779dc3\",\"type\":\"Rect\"},\"hover_glyph\":null,\"nonselection_glyph\":null,\"selection_glyph\":null},\"id\":\"1c951677-e682-4a49-9afc-e3e46f07d9c5\",\"type\":\"GlyphRenderer\"},{\"attributes\":{\"callback\":null,\"column_names\":[\"line_color\",\"line_alpha\",\"color\",\"fill_alpha\",\"height\",\"width\",\"y\",\"x\",\"label\"],\"data\":{\"chart_index\":[{\"index\":\"2557\"}],\"color\":[\"purple\"],\"fill_alpha\":[0.8],\"height\":[40.0],\"index\":[\"2557\"],\"label\":[{\"index\":\"2557\"}],\"line_alpha\":[1.0],\"line_color\":[\"white\"],\"width\":[0.8],\"x\":[\"2557\"],\"y\":[20.0]}},\"id\":\"5282f09b-1bd6-4d20-800b-13ceaea7135c\",\"type\":\"ColumnDataSource\"},{\"attributes\":{\"data_source\":{\"id\":\"34352e89-1584-45fa-9e3a-6fcfcf5d95eb\",\"type\":\"ColumnDataSource\"},\"glyph\":{\"id\":\"7622eb4f-7c12-4654-af56-03a0a654f57b\",\"type\":\"Rect\"},\"hover_glyph\":null,\"nonselection_glyph\":null,\"selection_glyph\":null},\"id\":\"0bbf283d-f792-4c21-9eb1-2f3f7e7eb752\",\"type\":\"GlyphRenderer\"},{\"attributes\":{\"callback\":null,\"column_names\":[\"line_color\",\"line_alpha\",\"color\",\"fill_alpha\",\"height\",\"width\",\"y\",\"x\",\"label\"],\"data\":{\"chart_index\":[{\"index\":\"1294\"}],\"color\":[\"purple\"],\"fill_alpha\":[0.8],\"height\":[49.0],\"index\":[\"1294\"],\"label\":[{\"index\":\"1294\"}],\"line_alpha\":[1.0],\"line_color\":[\"white\"],\"width\":[0.8],\"x\":[\"1294\"],\"y\":[24.5]}},\"id\":\"a68deee2-4749-4ef1-9bc7-5240c74aee6f\",\"type\":\"ColumnDataSource\"},{\"attributes\":{\"callback\":null,\"column_names\":[\"line_color\",\"line_alpha\",\"color\",\"fill_alpha\",\"height\",\"width\",\"y\",\"x\",\"label\"],\"data\":{\"chart_index\":[{\"index\":\"5827\"}],\"color\":[\"purple\"],\"fill_alpha\":[0.8],\"height\":[19.0],\"index\":[\"5827\"],\"label\":[{\"index\":\"5827\"}],\"line_alpha\":[1.0],\"line_color\":[\"white\"],\"width\":[0.8],\"x\":[\"5827\"],\"y\":[9.5]}},\"id\":\"890c2dbc-936c-40e0-8dc1-f0935b62d4d5\",\"type\":\"ColumnDataSource\"},{\"attributes\":{\"data_source\":{\"id\":\"448851ff-d5df-4914-9cc4-bc5ed727f882\",\"type\":\"ColumnDataSource\"},\"glyph\":{\"id\":\"e07e2b9e-24c0-4902-bffc-9cee812ebe33\",\"type\":\"Rect\"},\"hover_glyph\":null,\"nonselection_glyph\":null,\"selection_glyph\":null},\"id\":\"53bcf0f8-fdf5-4dbb-aed7-360729705619\",\"type\":\"GlyphRenderer\"},{\"attributes\":{\"plot\":{\"id\":\"a9ccd037-1801-44f4-a8cf-bbc9126df39d\",\"subtype\":\"Chart\",\"type\":\"Plot\"}},\"id\":\"76cd468d-a88a-4dbd-a667-c2596213323e\",\"type\":\"WheelZoomTool\"},{\"attributes\":{\"callback\":null,\"column_names\":[\"line_color\",\"line_alpha\",\"color\",\"fill_alpha\",\"height\",\"width\",\"y\",\"x\",\"label\"],\"data\":{\"chart_index\":[{\"index\":\"1318\"}],\"color\":[\"purple\"],\"fill_alpha\":[0.8],\"height\":[25.0],\"index\":[\"1318\"],\"label\":[{\"index\":\"1318\"}],\"line_alpha\":[1.0],\"line_color\":[\"white\"],\"width\":[0.8],\"x\":[\"1318\"],\"y\":[12.5]}},\"id\":\"45a0d88a-c6f3-4f93-8266-4e0704349c82\",\"type\":\"ColumnDataSource\"},{\"attributes\":{\"data_source\":{\"id\":\"2639b7f7-50cb-4ac3-ac8d-8fa2aa0ec3dc\",\"type\":\"ColumnDataSource\"},\"glyph\":{\"id\":\"ea5ffc73-27e5-464b-83e3-f9f235e068d0\",\"type\":\"Rect\"},\"hover_glyph\":null,\"nonselection_glyph\":null,\"selection_glyph\":null},\"id\":\"40aad946-04e4-46e3-b494-3279dab7b6e4\",\"type\":\"GlyphRenderer\"},{\"attributes\":{\"fill_alpha\":{\"field\":\"fill_alpha\"},\"fill_color\":{\"field\":\"color\"},\"height\":{\"field\":\"height\",\"units\":\"data\"},\"line_color\":{\"field\":\"line_color\"},\"width\":{\"field\":\"width\",\"units\":\"data\"},\"x\":{\"field\":\"x\"},\"y\":{\"field\":\"y\"}},\"id\":\"2df8faa2-f88e-40eb-af1c-9762011bca1e\",\"type\":\"Rect\"},{\"attributes\":{\"fill_alpha\":{\"field\":\"fill_alpha\"},\"fill_color\":{\"field\":\"color\"},\"height\":{\"field\":\"height\",\"units\":\"data\"},\"line_color\":{\"field\":\"line_color\"},\"width\":{\"field\":\"width\",\"units\":\"data\"},\"x\":{\"field\":\"x\"},\"y\":{\"field\":\"y\"}},\"id\":\"deda56ef-cd7b-427e-a588-de9ec3e9044a\",\"type\":\"Rect\"},{\"attributes\":{\"fill_alpha\":{\"field\":\"fill_alpha\"},\"fill_color\":{\"field\":\"color\"},\"height\":{\"field\":\"height\",\"units\":\"data\"},\"line_color\":{\"field\":\"line_color\"},\"width\":{\"field\":\"width\",\"units\":\"data\"},\"x\":{\"field\":\"x\"},\"y\":{\"field\":\"y\"}},\"id\":\"380a7ba6-7664-4271-862c-682123d89fde\",\"type\":\"Rect\"},{\"attributes\":{\"data_source\":{\"id\":\"7a975224-3e39-4ffd-9295-beabf46b6462\",\"type\":\"ColumnDataSource\"},\"glyph\":{\"id\":\"cee9cbee-f506-49ea-9bba-f13e749caa6c\",\"type\":\"Rect\"},\"hover_glyph\":null,\"nonselection_glyph\":null,\"selection_glyph\":null},\"id\":\"6a600aa0-1d14-47f3-ad7d-71e2d97c83c9\",\"type\":\"GlyphRenderer\"},{\"attributes\":{\"fill_alpha\":{\"field\":\"fill_alpha\"},\"fill_color\":{\"field\":\"color\"},\"height\":{\"field\":\"height\",\"units\":\"data\"},\"line_color\":{\"field\":\"line_color\"},\"width\":{\"field\":\"width\",\"units\":\"data\"},\"x\":{\"field\":\"x\"},\"y\":{\"field\":\"y\"}},\"id\":\"08d1d5c2-62d0-43e1-a6c4-76c538b44c33\",\"type\":\"Rect\"},{\"attributes\":{\"fill_alpha\":{\"field\":\"fill_alpha\"},\"fill_color\":{\"field\":\"color\"},\"height\":{\"field\":\"height\",\"units\":\"data\"},\"line_color\":{\"field\":\"line_color\"},\"width\":{\"field\":\"width\",\"units\":\"data\"},\"x\":{\"field\":\"x\"},\"y\":{\"field\":\"y\"}},\"id\":\"a56f52ec-5422-42d4-910f-f5eb005e290c\",\"type\":\"Rect\"},{\"attributes\":{\"fill_alpha\":{\"field\":\"fill_alpha\"},\"fill_color\":{\"field\":\"color\"},\"height\":{\"field\":\"height\",\"units\":\"data\"},\"line_color\":{\"field\":\"line_color\"},\"width\":{\"field\":\"width\",\"units\":\"data\"},\"x\":{\"field\":\"x\"},\"y\":{\"field\":\"y\"}},\"id\":\"165e65ff-f832-4d40-86ee-67d2845cfe38\",\"type\":\"Rect\"},{\"attributes\":{\"callback\":null,\"column_names\":[\"line_color\",\"line_alpha\",\"color\",\"fill_alpha\",\"height\",\"width\",\"y\",\"x\",\"label\"],\"data\":{\"chart_index\":[{\"index\":\"3663\"}],\"color\":[\"purple\"],\"fill_alpha\":[0.8],\"height\":[46.0],\"index\":[\"3663\"],\"label\":[{\"index\":\"3663\"}],\"line_alpha\":[1.0],\"line_color\":[\"white\"],\"width\":[0.8],\"x\":[\"3663\"],\"y\":[23.0]}},\"id\":\"4d214c51-3410-4c73-8c41-5afabcc969e6\",\"type\":\"ColumnDataSource\"},{\"attributes\":{\"callback\":null,\"column_names\":[\"line_color\",\"line_alpha\",\"color\",\"fill_alpha\",\"height\",\"width\",\"y\",\"x\",\"label\"],\"data\":{\"chart_index\":[{\"index\":\"1899\"}],\"color\":[\"purple\"],\"fill_alpha\":[0.8],\"height\":[36.0],\"index\":[\"1899\"],\"label\":[{\"index\":\"1899\"}],\"line_alpha\":[1.0],\"line_color\":[\"white\"],\"width\":[0.8],\"x\":[\"1899\"],\"y\":[18.0]}},\"id\":\"4e593412-0d5e-446d-ab3d-6b666e8775bd\",\"type\":\"ColumnDataSource\"},{\"attributes\":{\"fill_alpha\":{\"field\":\"fill_alpha\"},\"fill_color\":{\"field\":\"color\"},\"height\":{\"field\":\"height\",\"units\":\"data\"},\"line_color\":{\"field\":\"line_color\"},\"width\":{\"field\":\"width\",\"units\":\"data\"},\"x\":{\"field\":\"x\"},\"y\":{\"field\":\"y\"}},\"id\":\"b366de6c-7b1d-4fc6-b97d-368105b7eebd\",\"type\":\"Rect\"},{\"attributes\":{\"plot\":null,\"text\":\"Total Gears Placed\"},\"id\":\"17b6c8db-0623-48da-be95-1ad4f8b922da\",\"type\":\"Title\"},{\"attributes\":{\"data_source\":{\"id\":\"96a47f76-8b42-43a9-9aea-830a704c7745\",\"type\":\"ColumnDataSource\"},\"glyph\":{\"id\":\"380a7ba6-7664-4271-862c-682123d89fde\",\"type\":\"Rect\"},\"hover_glyph\":null,\"nonselection_glyph\":null,\"selection_glyph\":null},\"id\":\"3b996214-a122-42e9-a913-a42d9e17e975\",\"type\":\"GlyphRenderer\"},{\"attributes\":{\"fill_alpha\":{\"field\":\"fill_alpha\"},\"fill_color\":{\"field\":\"color\"},\"height\":{\"field\":\"height\",\"units\":\"data\"},\"line_color\":{\"field\":\"line_color\"},\"width\":{\"field\":\"width\",\"units\":\"data\"},\"x\":{\"field\":\"x\"},\"y\":{\"field\":\"y\"}},\"id\":\"809034d9-f7f7-4dd8-976c-60bf82b7c12f\",\"type\":\"Rect\"},{\"attributes\":{\"callback\":null,\"column_names\":[\"line_color\",\"line_alpha\",\"color\",\"fill_alpha\",\"height\",\"width\",\"y\",\"x\",\"label\"],\"data\":{\"chart_index\":[{\"index\":\"6503\"}],\"color\":[\"purple\"],\"fill_alpha\":[0.8],\"height\":[6.0],\"index\":[\"6503\"],\"label\":[{\"index\":\"6503\"}],\"line_alpha\":[1.0],\"line_color\":[\"white\"],\"width\":[0.8],\"x\":[\"6503\"],\"y\":[3.0]}},\"id\":\"8a5d8eb7-cb44-43a4-95ac-d7b3c18e75b8\",\"type\":\"ColumnDataSource\"},{\"attributes\":{\"fill_alpha\":{\"field\":\"fill_alpha\"},\"fill_color\":{\"field\":\"color\"},\"height\":{\"field\":\"height\",\"units\":\"data\"},\"line_color\":{\"field\":\"line_color\"},\"width\":{\"field\":\"width\",\"units\":\"data\"},\"x\":{\"field\":\"x\"},\"y\":{\"field\":\"y\"}},\"id\":\"c8025675-4218-4d1e-b539-a6ba5631874b\",\"type\":\"Rect\"},{\"attributes\":{\"callback\":null,\"column_names\":[\"line_color\",\"line_alpha\",\"color\",\"fill_alpha\",\"height\",\"width\",\"y\",\"x\",\"label\"],\"data\":{\"chart_index\":[{\"index\":\"4681\"}],\"color\":[\"purple\"],\"fill_alpha\":[0.8],\"height\":[37.0],\"index\":[\"4681\"],\"label\":[{\"index\":\"4681\"}],\"line_alpha\":[1.0],\"line_color\":[\"white\"],\"width\":[0.8],\"x\":[\"4681\"],\"y\":[18.5]}},\"id\":\"c5003bc0-e35a-48ff-bfee-a62e64e0565f\",\"type\":\"ColumnDataSource\"},{\"attributes\":{\"fill_alpha\":{\"field\":\"fill_alpha\"},\"fill_color\":{\"field\":\"color\"},\"height\":{\"field\":\"height\",\"units\":\"data\"},\"line_color\":{\"field\":\"line_color\"},\"width\":{\"field\":\"width\",\"units\":\"data\"},\"x\":{\"field\":\"x\"},\"y\":{\"field\":\"y\"}},\"id\":\"36c05a34-a3a5-4f14-a6ba-6aa7f143dbfe\",\"type\":\"Rect\"},{\"attributes\":{\"fill_alpha\":{\"field\":\"fill_alpha\"},\"fill_color\":{\"field\":\"color\"},\"height\":{\"field\":\"height\",\"units\":\"data\"},\"line_color\":{\"field\":\"line_color\"},\"width\":{\"field\":\"width\",\"units\":\"data\"},\"x\":{\"field\":\"x\"},\"y\":{\"field\":\"y\"}},\"id\":\"e8fc50ee-e635-4488-a30a-1909fd4c2995\",\"type\":\"Rect\"},{\"attributes\":{\"below\":[{\"id\":\"5d0ddcbb-6ef5-4715-9d21-ac2bd125a558\",\"type\":\"CategoricalAxis\"}],\"css_classes\":null,\"left\":[{\"id\":\"74d7a7a1-dde3-463d-b2b8-b5bc3e31c660\",\"type\":\"LinearAxis\"}],\"renderers\":[{\"id\":\"1a8e4664-cb81-4768-ae18-2364ba029684\",\"type\":\"BoxAnnotation\"},{\"id\":\"d98b82e9-7dfe-4afb-b979-b431fa72cc1e\",\"type\":\"GlyphRenderer\"},{\"id\":\"6a600aa0-1d14-47f3-ad7d-71e2d97c83c9\",\"type\":\"GlyphRenderer\"},{\"id\":\"a42c3edf-e5e5-4a6f-8c3e-36aa3a7992bb\",\"type\":\"GlyphRenderer\"},{\"id\":\"d4593c23-7b01-4418-8c16-3a7ad0e43258\",\"type\":\"GlyphRenderer\"},{\"id\":\"0bbf283d-f792-4c21-9eb1-2f3f7e7eb752\",\"type\":\"GlyphRenderer\"},{\"id\":\"a2778670-a698-41ff-a481-0508f083c967\",\"type\":\"GlyphRenderer\"},{\"id\":\"fb451625-fddb-42d9-907d-299691a575a7\",\"type\":\"GlyphRenderer\"},{\"id\":\"19a5b1b4-f46c-4fe2-ada0-be2f4909cc21\",\"type\":\"GlyphRenderer\"},{\"id\":\"1514f917-663d-419d-a8a7-a996c604c671\",\"type\":\"GlyphRenderer\"},{\"id\":\"5568b6b7-76fa-4c91-8a40-8d86050c89b0\",\"type\":\"GlyphRenderer\"},{\"id\":\"1394019e-10b1-47d2-95de-72d8781a9d1f\",\"type\":\"GlyphRenderer\"},{\"id\":\"2233292b-7df4-4208-a1c3-ee6006c6f121\",\"type\":\"GlyphRenderer\"},{\"id\":\"fe7275ae-8777-4e80-9099-bfdd49f29aaa\",\"type\":\"GlyphRenderer\"},{\"id\":\"49dc43b8-f52b-48ed-8a7c-68bf601f2b27\",\"type\":\"GlyphRenderer\"},{\"id\":\"7c2326d7-2e1c-45e8-a4ea-b1f987115533\",\"type\":\"GlyphRenderer\"},{\"id\":\"66e38928-73d0-4bd3-80b5-86435df94f2f\",\"type\":\"GlyphRenderer\"},{\"id\":\"d4b94c37-be7a-477d-9dcd-1b8666e97e97\",\"type\":\"GlyphRenderer\"},{\"id\":\"20341b11-82b2-42d6-830c-dbb57fbefd01\",\"type\":\"GlyphRenderer\"},{\"id\":\"40aad946-04e4-46e3-b494-3279dab7b6e4\",\"type\":\"GlyphRenderer\"},{\"id\":\"68909b05-43dc-47b1-8816-dba6a6df13f5\",\"type\":\"GlyphRenderer\"},{\"id\":\"53bcf0f8-fdf5-4dbb-aed7-360729705619\",\"type\":\"GlyphRenderer\"},{\"id\":\"1ce23638-b11e-431c-a6d9-2dd24854985d\",\"type\":\"GlyphRenderer\"},{\"id\":\"6c48d367-cc40-4e04-9c6d-1acbacb3342e\",\"type\":\"GlyphRenderer\"},{\"id\":\"2c799c1b-a0d1-4a41-94bd-ce97d1e7f905\",\"type\":\"GlyphRenderer\"},{\"id\":\"82526d13-0dbe-45ed-8489-754d332a193d\",\"type\":\"GlyphRenderer\"},{\"id\":\"f2005a5f-8604-419c-b415-e18cc345a742\",\"type\":\"GlyphRenderer\"},{\"id\":\"b9bd770b-0120-4fba-b8b3-53d284d1ce8b\",\"type\":\"GlyphRenderer\"},{\"id\":\"aa330809-a3a9-4b98-bfb8-3dcfa4640b81\",\"type\":\"GlyphRenderer\"},{\"id\":\"7207fbe0-acbd-41a2-94cd-35410a2abbf5\",\"type\":\"GlyphRenderer\"},{\"id\":\"a45811ce-7a08-4a3c-92e4-186b90b9f830\",\"type\":\"GlyphRenderer\"},{\"id\":\"3b996214-a122-42e9-a913-a42d9e17e975\",\"type\":\"GlyphRenderer\"},{\"id\":\"f1dbc373-a6f8-4939-9e80-844dcdc4d5f8\",\"type\":\"GlyphRenderer\"},{\"id\":\"ef5c68d8-c33e-454f-9d85-c1c86d3b9d40\",\"type\":\"GlyphRenderer\"},{\"id\":\"4dd2ff51-ce34-4b8d-a1a7-75d6a69baa8f\",\"type\":\"GlyphRenderer\"},{\"id\":\"1c951677-e682-4a49-9afc-e3e46f07d9c5\",\"type\":\"GlyphRenderer\"},{\"id\":\"075a56da-c0a7-4911-b167-81b2b16a82d4\",\"type\":\"GlyphRenderer\"},{\"id\":\"f211f524-bdb0-406b-a605-3b11fb25831b\",\"type\":\"GlyphRenderer\"},{\"id\":\"e4dc9951-3e74-4d2d-b859-6a98f2d7a6a9\",\"type\":\"GlyphRenderer\"},{\"id\":\"10126056-22af-48de-b0bb-5d7c38f8676b\",\"type\":\"GlyphRenderer\"},{\"id\":\"5d0ddcbb-6ef5-4715-9d21-ac2bd125a558\",\"type\":\"CategoricalAxis\"},{\"id\":\"74d7a7a1-dde3-463d-b2b8-b5bc3e31c660\",\"type\":\"LinearAxis\"},{\"id\":\"f89c83e5-a570-447f-9a1d-63b79460ce77\",\"type\":\"Grid\"}],\"title\":{\"id\":\"17b6c8db-0623-48da-be95-1ad4f8b922da\",\"type\":\"Title\"},\"tool_events\":{\"id\":\"35192302-f1a5-4948-b760-3dbe1939947a\",\"type\":\"ToolEvents\"},\"toolbar\":{\"id\":\"2d049d3f-f0ff-49ed-8624-f4d9b18bb7ab\",\"type\":\"Toolbar\"},\"x_mapper_type\":\"auto\",\"x_range\":{\"id\":\"3f654d0a-a16a-4b62-9d80-ddc406267356\",\"type\":\"FactorRange\"},\"y_mapper_type\":\"auto\",\"y_range\":{\"id\":\"d62f7f0c-50f7-4c9e-bf80-e699b823987a\",\"type\":\"Range1d\"}},\"id\":\"a9ccd037-1801-44f4-a8cf-bbc9126df39d\",\"subtype\":\"Chart\",\"type\":\"Plot\"},{\"attributes\":{\"plot\":{\"id\":\"a9ccd037-1801-44f4-a8cf-bbc9126df39d\",\"subtype\":\"Chart\",\"type\":\"Plot\"}},\"id\":\"d5e18bc3-acfb-4789-adde-ee5d495fc5a5\",\"type\":\"ResetTool\"},{\"attributes\":{\"data_source\":{\"id\":\"db968b08-206f-4b29-b892-87bebe6adc35\",\"type\":\"ColumnDataSource\"},\"glyph\":{\"id\":\"e6ea75b9-1a09-49a8-8e23-0d5669b2f1e7\",\"type\":\"Rect\"},\"hover_glyph\":null,\"nonselection_glyph\":null,\"selection_glyph\":null},\"id\":\"fe7275ae-8777-4e80-9099-bfdd49f29aaa\",\"type\":\"GlyphRenderer\"},{\"attributes\":{\"data_source\":{\"id\":\"089c334a-f27f-4984-81ee-5d3aec9db4a7\",\"type\":\"ColumnDataSource\"},\"glyph\":{\"id\":\"8c38ea50-9922-4483-8eaa-20b76de91659\",\"type\":\"Rect\"},\"hover_glyph\":null,\"nonselection_glyph\":null,\"selection_glyph\":null},\"id\":\"68909b05-43dc-47b1-8816-dba6a6df13f5\",\"type\":\"GlyphRenderer\"},{\"attributes\":{\"data_source\":{\"id\":\"a139ccdb-169f-4e7d-971f-303a146a1a8b\",\"type\":\"ColumnDataSource\"},\"glyph\":{\"id\":\"75fb361a-c8cf-4b99-97f8-7e8e47af2fb7\",\"type\":\"Rect\"},\"hover_glyph\":null,\"nonselection_glyph\":null,\"selection_glyph\":null},\"id\":\"aa330809-a3a9-4b98-bfb8-3dcfa4640b81\",\"type\":\"GlyphRenderer\"},{\"attributes\":{\"fill_alpha\":{\"field\":\"fill_alpha\"},\"fill_color\":{\"field\":\"color\"},\"height\":{\"field\":\"height\",\"units\":\"data\"},\"line_color\":{\"field\":\"line_color\"},\"width\":{\"field\":\"width\",\"units\":\"data\"},\"x\":{\"field\":\"x\"},\"y\":{\"field\":\"y\"}},\"id\":\"7622eb4f-7c12-4654-af56-03a0a654f57b\",\"type\":\"Rect\"},{\"attributes\":{\"fill_alpha\":{\"field\":\"fill_alpha\"},\"fill_color\":{\"field\":\"color\"},\"height\":{\"field\":\"height\",\"units\":\"data\"},\"line_color\":{\"field\":\"line_color\"},\"width\":{\"field\":\"width\",\"units\":\"data\"},\"x\":{\"field\":\"x\"},\"y\":{\"field\":\"y\"}},\"id\":\"5be2a254-a4aa-49b1-8eb4-b2b86707e59c\",\"type\":\"Rect\"},{\"attributes\":{\"fill_alpha\":{\"field\":\"fill_alpha\"},\"fill_color\":{\"field\":\"color\"},\"height\":{\"field\":\"height\",\"units\":\"data\"},\"line_color\":{\"field\":\"line_color\"},\"width\":{\"field\":\"width\",\"units\":\"data\"},\"x\":{\"field\":\"x\"},\"y\":{\"field\":\"y\"}},\"id\":\"de3a8517-0333-4f53-a291-a7bb4cd8743f\",\"type\":\"Rect\"},{\"attributes\":{\"data_source\":{\"id\":\"b0f4fe3f-581f-46b2-a4f6-955238192550\",\"type\":\"ColumnDataSource\"},\"glyph\":{\"id\":\"83913cec-8b3a-4f92-96a8-a81edfdaa7a3\",\"type\":\"Rect\"},\"hover_glyph\":null,\"nonselection_glyph\":null,\"selection_glyph\":null},\"id\":\"fb451625-fddb-42d9-907d-299691a575a7\",\"type\":\"GlyphRenderer\"},{\"attributes\":{\"callback\":null,\"column_names\":[\"line_color\",\"line_alpha\",\"color\",\"fill_alpha\",\"height\",\"width\",\"y\",\"x\",\"label\"],\"data\":{\"chart_index\":[{\"index\":\"5941\"}],\"color\":[\"purple\"],\"fill_alpha\":[0.8],\"height\":[34.0],\"index\":[\"5941\"],\"label\":[{\"index\":\"5941\"}],\"line_alpha\":[1.0],\"line_color\":[\"white\"],\"width\":[0.8],\"x\":[\"5941\"],\"y\":[17.0]}},\"id\":\"db968b08-206f-4b29-b892-87bebe6adc35\",\"type\":\"ColumnDataSource\"},{\"attributes\":{\"plot\":{\"id\":\"a9ccd037-1801-44f4-a8cf-bbc9126df39d\",\"subtype\":\"Chart\",\"type\":\"Plot\"}},\"id\":\"bafb13d2-0f5e-4195-98f3-28f17b83d4ae\",\"type\":\"SaveTool\"},{\"attributes\":{\"fill_alpha\":{\"field\":\"fill_alpha\"},\"fill_color\":{\"field\":\"color\"},\"height\":{\"field\":\"height\",\"units\":\"data\"},\"line_color\":{\"field\":\"line_color\"},\"width\":{\"field\":\"width\",\"units\":\"data\"},\"x\":{\"field\":\"x\"},\"y\":{\"field\":\"y\"}},\"id\":\"6f77931c-9c1a-40ed-951b-a088dea451ae\",\"type\":\"Rect\"},{\"attributes\":{\"callback\":null,\"column_names\":[\"line_color\",\"line_alpha\",\"color\",\"fill_alpha\",\"height\",\"width\",\"y\",\"x\",\"label\"],\"data\":{\"chart_index\":[{\"index\":\"4512\"}],\"color\":[\"purple\"],\"fill_alpha\":[0.8],\"height\":[39.0],\"index\":[\"4512\"],\"label\":[{\"index\":\"4512\"}],\"line_alpha\":[1.0],\"line_color\":[\"white\"],\"width\":[0.8],\"x\":[\"4512\"],\"y\":[19.5]}},\"id\":\"fb1236f4-cf16-4a73-9c50-fd813881fb49\",\"type\":\"ColumnDataSource\"},{\"attributes\":{\"fill_alpha\":{\"field\":\"fill_alpha\"},\"fill_color\":{\"field\":\"color\"},\"height\":{\"field\":\"height\",\"units\":\"data\"},\"line_color\":{\"field\":\"line_color\"},\"width\":{\"field\":\"width\",\"units\":\"data\"},\"x\":{\"field\":\"x\"},\"y\":{\"field\":\"y\"}},\"id\":\"8c38ea50-9922-4483-8eaa-20b76de91659\",\"type\":\"Rect\"},{\"attributes\":{\"callback\":null,\"column_names\":[\"line_color\",\"line_alpha\",\"color\",\"fill_alpha\",\"height\",\"width\",\"y\",\"x\",\"label\"],\"data\":{\"chart_index\":[{\"index\":\"5495\"}],\"color\":[\"purple\"],\"fill_alpha\":[0.8],\"height\":[36.0],\"index\":[\"5495\"],\"label\":[{\"index\":\"5495\"}],\"line_alpha\":[1.0],\"line_color\":[\"white\"],\"width\":[0.8],\"x\":[\"5495\"],\"y\":[18.0]}},\"id\":\"4c027742-23cb-4547-9f20-486acc62be5a\",\"type\":\"ColumnDataSource\"},{\"attributes\":{\"callback\":null,\"factors\":[\"3218\",\"4077\",\"1294\",\"3663\",\"2412\",\"4682\",\"1778\",\"2557\",\"4512\",\"4681\",\"5495\",\"1899\",\"5941\",\"2605\",\"3268\",\"2903\",\"2930\",\"4911\",\"2928\",\"2976\",\"2522\",\"4089\",\"4683\",\"5803\",\"1983\",\"492\",\"5748\",\"2555\",\"3070\",\"1318\",\"2910\",\"4915\",\"5588\",\"4469\",\"949\",\"5827\",\"5683\",\"4309\",\"6503\"]},\"id\":\"3f654d0a-a16a-4b62-9d80-ddc406267356\",\"type\":\"FactorRange\"},{\"attributes\":{\"callback\":null,\"column_names\":[\"line_color\",\"line_alpha\",\"color\",\"fill_alpha\",\"height\",\"width\",\"y\",\"x\",\"label\"],\"data\":{\"chart_index\":[{\"index\":\"4077\"}],\"color\":[\"purple\"],\"fill_alpha\":[0.8],\"height\":[55.0],\"index\":[\"4077\"],\"label\":[{\"index\":\"4077\"}],\"line_alpha\":[1.0],\"line_color\":[\"white\"],\"width\":[0.8],\"x\":[\"4077\"],\"y\":[27.5]}},\"id\":\"7a975224-3e39-4ffd-9295-beabf46b6462\",\"type\":\"ColumnDataSource\"},{\"attributes\":{\"data_source\":{\"id\":\"d17b913e-6cae-4cd2-9dee-c13f5da62eca\",\"type\":\"ColumnDataSource\"},\"glyph\":{\"id\":\"e8fc50ee-e635-4488-a30a-1909fd4c2995\",\"type\":\"Rect\"},\"hover_glyph\":null,\"nonselection_glyph\":null,\"selection_glyph\":null},\"id\":\"66e38928-73d0-4bd3-80b5-86435df94f2f\",\"type\":\"GlyphRenderer\"},{\"attributes\":{\"formatter\":{\"id\":\"f4ed9300-2fd7-4cdd-afe9-d09cbb3d116d\",\"type\":\"CategoricalTickFormatter\"},\"major_label_orientation\":0.7853981633974483,\"plot\":{\"id\":\"a9ccd037-1801-44f4-a8cf-bbc9126df39d\",\"subtype\":\"Chart\",\"type\":\"Plot\"},\"ticker\":{\"id\":\"0a9a851e-39fb-4f19-8f91-f04aa0acaa67\",\"type\":\"CategoricalTicker\"}},\"id\":\"5d0ddcbb-6ef5-4715-9d21-ac2bd125a558\",\"type\":\"CategoricalAxis\"},{\"attributes\":{\"callback\":null,\"column_names\":[\"line_color\",\"line_alpha\",\"color\",\"fill_alpha\",\"height\",\"width\",\"y\",\"x\",\"label\"],\"data\":{\"chart_index\":[{\"index\":\"4683\"}],\"color\":[\"purple\"],\"fill_alpha\":[0.8],\"height\":[29.0],\"index\":[\"4683\"],\"label\":[{\"index\":\"4683\"}],\"line_alpha\":[1.0],\"line_color\":[\"white\"],\"width\":[0.8],\"x\":[\"4683\"],\"y\":[14.5]}},\"id\":\"293a17ab-6eb3-46e3-8a0e-65653759be42\",\"type\":\"ColumnDataSource\"},{\"attributes\":{\"callback\":null,\"column_names\":[\"line_color\",\"line_alpha\",\"color\",\"fill_alpha\",\"height\",\"width\",\"y\",\"x\",\"label\"],\"data\":{\"chart_index\":[{\"index\":\"5748\"}],\"color\":[\"purple\"],\"fill_alpha\":[0.8],\"height\":[27.0],\"index\":[\"5748\"],\"label\":[{\"index\":\"5748\"}],\"line_alpha\":[1.0],\"line_color\":[\"white\"],\"width\":[0.8],\"x\":[\"5748\"],\"y\":[13.5]}},\"id\":\"1d416b8e-b8ba-4043-94f2-3507473cc671\",\"type\":\"ColumnDataSource\"},{\"attributes\":{\"fill_alpha\":{\"field\":\"fill_alpha\"},\"fill_color\":{\"field\":\"color\"},\"height\":{\"field\":\"height\",\"units\":\"data\"},\"line_color\":{\"field\":\"line_color\"},\"width\":{\"field\":\"width\",\"units\":\"data\"},\"x\":{\"field\":\"x\"},\"y\":{\"field\":\"y\"}},\"id\":\"ea15eb7f-84ab-4ccd-9c36-e53e38aad84e\",\"type\":\"Rect\"},{\"attributes\":{\"callback\":null,\"column_names\":[\"line_color\",\"line_alpha\",\"color\",\"fill_alpha\",\"height\",\"width\",\"y\",\"x\",\"label\"],\"data\":{\"chart_index\":[{\"index\":\"2930\"}],\"color\":[\"purple\"],\"fill_alpha\":[0.8],\"height\":[31.0],\"index\":[\"2930\"],\"label\":[{\"index\":\"2930\"}],\"line_alpha\":[1.0],\"line_color\":[\"white\"],\"width\":[0.8],\"x\":[\"2930\"],\"y\":[15.5]}},\"id\":\"a90a6363-1418-46c7-a1fa-b03f4958934e\",\"type\":\"ColumnDataSource\"},{\"attributes\":{\"data_source\":{\"id\":\"1d416b8e-b8ba-4043-94f2-3507473cc671\",\"type\":\"ColumnDataSource\"},\"glyph\":{\"id\":\"b5eccd76-8b64-4aa9-a9e4-6a50f2585c9e\",\"type\":\"Rect\"},\"hover_glyph\":null,\"nonselection_glyph\":null,\"selection_glyph\":null},\"id\":\"b9bd770b-0120-4fba-b8b3-53d284d1ce8b\",\"type\":\"GlyphRenderer\"},{\"attributes\":{},\"id\":\"b33dc266-c960-4ca3-8d27-afae2431a8c4\",\"type\":\"BasicTicker\"}],\"root_ids\":[\"a9ccd037-1801-44f4-a8cf-bbc9126df39d\"]},\"title\":\"Bokeh Application\",\"version\":\"0.12.4\"}};\n",
       "            var render_items = [{\"docid\":\"8aa14a4e-1394-434f-a7af-cf84764d99d9\",\"elementid\":\"2f99face-04c9-4eae-9fad-b55aa08aa769\",\"modelid\":\"a9ccd037-1801-44f4-a8cf-bbc9126df39d\"}];\n",
       "            \n",
       "            Bokeh.embed.embed_items(docs_json, render_items);\n",
       "          };\n",
       "          if (document.readyState != \"loading\") fn();\n",
       "          else document.addEventListener(\"DOMContentLoaded\", fn);\n",
       "        })();\n",
       "      },\n",
       "      function(Bokeh) {\n",
       "      }\n",
       "    ];\n",
       "  \n",
       "    function run_inline_js() {\n",
       "      \n",
       "      if ((window.Bokeh !== undefined) || (force === true)) {\n",
       "        for (var i = 0; i < inline_js.length; i++) {\n",
       "          inline_js[i](window.Bokeh);\n",
       "        }if (force === true) {\n",
       "          display_loaded();\n",
       "        }} else if (Date.now() < window._bokeh_timeout) {\n",
       "        setTimeout(run_inline_js, 100);\n",
       "      } else if (!window._bokeh_failed_load) {\n",
       "        console.log(\"Bokeh: BokehJS failed to load within specified timeout.\");\n",
       "        window._bokeh_failed_load = true;\n",
       "      } else if (force !== true) {\n",
       "        var cell = $(document.getElementById(\"2f99face-04c9-4eae-9fad-b55aa08aa769\")).parents('.cell').data().cell;\n",
       "        cell.output_area.append_execute_result(NB_LOAD_WARNING)\n",
       "      }\n",
       "  \n",
       "    }\n",
       "  \n",
       "    if (window._bokeh_is_loading === 0) {\n",
       "      console.log(\"Bokeh: BokehJS loaded, going straight to plotting\");\n",
       "      run_inline_js();\n",
       "    } else {\n",
       "      load_libs(js_urls, function() {\n",
       "        console.log(\"Bokeh: BokehJS plotting callback run at\", now());\n",
       "        run_inline_js();\n",
       "      });\n",
       "    }\n",
       "  }(this));\n",
       "</script>"
      ]
     },
     "metadata": {},
     "output_type": "display_data"
    }
   ],
   "source": [
    "# Create summary data frame for placing gears\n",
    "gears_df = measures.query(\"task == 'climbRope'\").query(\"phase == 'finish'\").groupby('team').sum()\n",
    "gears_df = gears_df.sort_values('successes', ascending = False)\n",
    "\n",
    "# Create gears chart in Bokeh\n",
    "gears_chart = bc.Bar(gears_df, values = 'successes', label = bca.cat(sort = False), legend = None, color = 'purple',\n",
    "                    title = 'Total Gears Placed', ylabel = \"Gears Placed\")\n",
    "bc.output_file('web/data/gears_chart.html')\n",
    "bc.show(gears_chart)"
   ]
  },
  {
   "cell_type": "code",
   "execution_count": null,
   "metadata": {
    "collapsed": true
   },
   "outputs": [],
   "source": []
  }
 ],
 "metadata": {
  "kernelspec": {
   "display_name": "Python 2",
   "language": "python",
   "name": "python2"
  },
  "language_info": {
   "codemirror_mode": {
    "name": "ipython",
    "version": 2
   },
   "file_extension": ".py",
   "mimetype": "text/x-python",
   "name": "python",
   "nbconvert_exporter": "python",
   "pygments_lexer": "ipython2",
   "version": "2.7.13"
  }
 },
 "nbformat": 4,
 "nbformat_minor": 0
}
