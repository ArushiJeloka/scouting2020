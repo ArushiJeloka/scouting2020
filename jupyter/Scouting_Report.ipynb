{
 "cells": [
  {
   "cell_type": "markdown",
   "metadata": {},
   "source": [
    "## Notebook Setup"
   ]
  },
  {
   "cell_type": "markdown",
   "metadata": {},
   "source": [
    "### Imports\n",
    "* **Run this cell immediately after opening the notebook by placing the cursor in the cell and hitting `SHIFT + ENTER`.**\n",
    "* Otherwise, leave this cell alone"
   ]
  },
  {
   "cell_type": "code",
   "execution_count": 17,
   "metadata": {
    "collapsed": false
   },
   "outputs": [
    {
     "data": {
      "text/html": [
       "\n",
       "    <div class=\"bk-root\">\n",
       "        <a href=\"http://bokeh.pydata.org\" target=\"_blank\" class=\"bk-logo bk-logo-small bk-logo-notebook\"></a>\n",
       "        <span id=\"d38803d8-f54f-4265-8a31-bc53d3a6b881\">Loading BokehJS ...</span>\n",
       "    </div>"
      ]
     },
     "metadata": {},
     "output_type": "display_data"
    },
    {
     "data": {
      "application/javascript": [
       "\n",
       "(function(global) {\n",
       "  function now() {\n",
       "    return new Date();\n",
       "  }\n",
       "\n",
       "  var force = true;\n",
       "\n",
       "  if (typeof (window._bokeh_onload_callbacks) === \"undefined\" || force === true) {\n",
       "    window._bokeh_onload_callbacks = [];\n",
       "    window._bokeh_is_loading = undefined;\n",
       "  }\n",
       "\n",
       "\n",
       "  \n",
       "  if (typeof (window._bokeh_timeout) === \"undefined\" || force === true) {\n",
       "    window._bokeh_timeout = Date.now() + 5000;\n",
       "    window._bokeh_failed_load = false;\n",
       "  }\n",
       "\n",
       "  var NB_LOAD_WARNING = {'data': {'text/html':\n",
       "     \"<div style='background-color: #fdd'>\\n\"+\n",
       "     \"<p>\\n\"+\n",
       "     \"BokehJS does not appear to have successfully loaded. If loading BokehJS from CDN, this \\n\"+\n",
       "     \"may be due to a slow or bad network connection. Possible fixes:\\n\"+\n",
       "     \"</p>\\n\"+\n",
       "     \"<ul>\\n\"+\n",
       "     \"<li>re-rerun `output_notebook()` to attempt to load from CDN again, or</li>\\n\"+\n",
       "     \"<li>use INLINE resources instead, as so:</li>\\n\"+\n",
       "     \"</ul>\\n\"+\n",
       "     \"<code>\\n\"+\n",
       "     \"from bokeh.resources import INLINE\\n\"+\n",
       "     \"output_notebook(resources=INLINE)\\n\"+\n",
       "     \"</code>\\n\"+\n",
       "     \"</div>\"}};\n",
       "\n",
       "  function display_loaded() {\n",
       "    if (window.Bokeh !== undefined) {\n",
       "      document.getElementById(\"d38803d8-f54f-4265-8a31-bc53d3a6b881\").textContent = \"BokehJS successfully loaded.\";\n",
       "    } else if (Date.now() < window._bokeh_timeout) {\n",
       "      setTimeout(display_loaded, 100)\n",
       "    }\n",
       "  }\n",
       "\n",
       "  function run_callbacks() {\n",
       "    window._bokeh_onload_callbacks.forEach(function(callback) { callback() });\n",
       "    delete window._bokeh_onload_callbacks\n",
       "    console.info(\"Bokeh: all callbacks have finished\");\n",
       "  }\n",
       "\n",
       "  function load_libs(js_urls, callback) {\n",
       "    window._bokeh_onload_callbacks.push(callback);\n",
       "    if (window._bokeh_is_loading > 0) {\n",
       "      console.log(\"Bokeh: BokehJS is being loaded, scheduling callback at\", now());\n",
       "      return null;\n",
       "    }\n",
       "    if (js_urls == null || js_urls.length === 0) {\n",
       "      run_callbacks();\n",
       "      return null;\n",
       "    }\n",
       "    console.log(\"Bokeh: BokehJS not loaded, scheduling load and callback at\", now());\n",
       "    window._bokeh_is_loading = js_urls.length;\n",
       "    for (var i = 0; i < js_urls.length; i++) {\n",
       "      var url = js_urls[i];\n",
       "      var s = document.createElement('script');\n",
       "      s.src = url;\n",
       "      s.async = false;\n",
       "      s.onreadystatechange = s.onload = function() {\n",
       "        window._bokeh_is_loading--;\n",
       "        if (window._bokeh_is_loading === 0) {\n",
       "          console.log(\"Bokeh: all BokehJS libraries loaded\");\n",
       "          run_callbacks()\n",
       "        }\n",
       "      };\n",
       "      s.onerror = function() {\n",
       "        console.warn(\"failed to load library \" + url);\n",
       "      };\n",
       "      console.log(\"Bokeh: injecting script tag for BokehJS library: \", url);\n",
       "      document.getElementsByTagName(\"head\")[0].appendChild(s);\n",
       "    }\n",
       "  };var element = document.getElementById(\"d38803d8-f54f-4265-8a31-bc53d3a6b881\");\n",
       "  if (element == null) {\n",
       "    console.log(\"Bokeh: ERROR: autoload.js configured with elementid 'd38803d8-f54f-4265-8a31-bc53d3a6b881' but no matching script tag was found. \")\n",
       "    return false;\n",
       "  }\n",
       "\n",
       "  var js_urls = [\"https://cdn.pydata.org/bokeh/release/bokeh-0.12.4.min.js\", \"https://cdn.pydata.org/bokeh/release/bokeh-widgets-0.12.4.min.js\"];\n",
       "\n",
       "  var inline_js = [\n",
       "    function(Bokeh) {\n",
       "      Bokeh.set_log_level(\"info\");\n",
       "    },\n",
       "    \n",
       "    function(Bokeh) {\n",
       "      \n",
       "      document.getElementById(\"d38803d8-f54f-4265-8a31-bc53d3a6b881\").textContent = \"BokehJS is loading...\";\n",
       "    },\n",
       "    function(Bokeh) {\n",
       "      console.log(\"Bokeh: injecting CSS: https://cdn.pydata.org/bokeh/release/bokeh-0.12.4.min.css\");\n",
       "      Bokeh.embed.inject_css(\"https://cdn.pydata.org/bokeh/release/bokeh-0.12.4.min.css\");\n",
       "      console.log(\"Bokeh: injecting CSS: https://cdn.pydata.org/bokeh/release/bokeh-widgets-0.12.4.min.css\");\n",
       "      Bokeh.embed.inject_css(\"https://cdn.pydata.org/bokeh/release/bokeh-widgets-0.12.4.min.css\");\n",
       "    }\n",
       "  ];\n",
       "\n",
       "  function run_inline_js() {\n",
       "    \n",
       "    if ((window.Bokeh !== undefined) || (force === true)) {\n",
       "      for (var i = 0; i < inline_js.length; i++) {\n",
       "        inline_js[i](window.Bokeh);\n",
       "      }if (force === true) {\n",
       "        display_loaded();\n",
       "      }} else if (Date.now() < window._bokeh_timeout) {\n",
       "      setTimeout(run_inline_js, 100);\n",
       "    } else if (!window._bokeh_failed_load) {\n",
       "      console.log(\"Bokeh: BokehJS failed to load within specified timeout.\");\n",
       "      window._bokeh_failed_load = true;\n",
       "    } else if (force !== true) {\n",
       "      var cell = $(document.getElementById(\"d38803d8-f54f-4265-8a31-bc53d3a6b881\")).parents('.cell').data().cell;\n",
       "      cell.output_area.append_execute_result(NB_LOAD_WARNING)\n",
       "    }\n",
       "\n",
       "  }\n",
       "\n",
       "  if (window._bokeh_is_loading === 0) {\n",
       "    console.log(\"Bokeh: BokehJS loaded, going straight to plotting\");\n",
       "    run_inline_js();\n",
       "  } else {\n",
       "    load_libs(js_urls, function() {\n",
       "      console.log(\"Bokeh: BokehJS plotting callback run at\", now());\n",
       "      run_inline_js();\n",
       "    });\n",
       "  }\n",
       "}(this));"
      ]
     },
     "metadata": {},
     "output_type": "display_data"
    }
   ],
   "source": [
    "# Imports for telling Python where to find IRScout Python modules\n",
    "import sys\n",
    "import os\n",
    "import re\n",
    "sys.path.append('..\\Server')\n",
    "\n",
    "# Set Current working directory to irsScouting2017\\Server\n",
    "ptn = re.compile(\"jupyter$\")\n",
    "if ptn.search(os.getcwd()) is not None:\n",
    "    os.chdir(\"..\\Server\")\n",
    "os.getcwd()\n",
    "\n",
    "# IRScout Python Modules\n",
    "import scouting.output as out\n",
    "from scouting.event import EventDal\n",
    "\n",
    "# Use the Bokeh plotting package\n",
    "import bokeh.charts as bc\n",
    "import bokeh.charts.attributes as bca\n",
    "bc.output_notebook()\n",
    "\n",
    "# Other useful modules\n",
    "import pandas as pd\n",
    "import sqlalchemy as sa\n",
    "\n",
    "# Get a database connection\n",
    "connection_string = ('postgresql://irs1318:irs1318'\n",
    "                     '@localhost:5432/scouting')\n",
    "engine = sa.create_engine(connection_string)\n",
    "conn = engine.connect()"
   ]
  },
  {
   "cell_type": "markdown",
   "metadata": {},
   "source": [
    "### Set Event\n",
    "* **Next, set `current_event` to the applicable FIRST API event code and run this cell.**"
   ]
  },
  {
   "cell_type": "code",
   "execution_count": 18,
   "metadata": {
    "collapsed": false
   },
   "outputs": [
    {
     "data": {
      "text/plain": [
       "u'wasno'"
      ]
     },
     "execution_count": 18,
     "metadata": {},
     "output_type": "execute_result"
    }
   ],
   "source": [
    "current_event = \"wasno\"\n",
    "EventDal.set_current_event(current_event)\n",
    "EventDal.get_current_event()"
   ]
  },
  {
   "cell_type": "markdown",
   "metadata": {},
   "source": [
    "### Export Excel Ranking File\n",
    "* Run this cell to export the rankings spreadsheet."
   ]
  },
  {
   "cell_type": "code",
   "execution_count": 19,
   "metadata": {
    "collapsed": false
   },
   "outputs": [],
   "source": [
    "fpath = out.get_Path(\"Report\")\n",
    "out.get_report(fpath)"
   ]
  },
  {
   "cell_type": "markdown",
   "metadata": {},
   "source": [
    "### Get a Dataframe Containing all Measures"
   ]
  },
  {
   "cell_type": "code",
   "execution_count": 20,
   "metadata": {
    "collapsed": false
   },
   "outputs": [],
   "source": [
    "# Get Measures Dataframe\n",
    "sql_measures = sa.text(\n",
    "    \"SELECT events.name AS event, matches.name AS match, levels.name AS level, dates.name AS date, \"\n",
    "    \"teams.name AS team, alliances.name AS alliance, \"\n",
    "    \"stations.name AS station, phases.name AS phase, actors.name AS actor, tasks.name AS task, \"\n",
    "    \"measures.capability AS capability, measures.successes as successes, measures.attempts AS attempts, \"\n",
    "    \"measures.cycle_times as cycle_times, measuretypes.name AS measuretype, reasons.name AS reason, \"\n",
    "    \"attempts.name AS attempt \"\n",
    "    \"FROM ((((((((((((measures FULL OUTER JOIN teams ON measures.team_id=teams.id) \"\n",
    "    \"LEFT JOIN events ON measures.event_id=events.id) \"\n",
    "    \"LEFT JOIN matches ON measures.match_id=matches.id) \"\n",
    "    \"LEFT JOIN levels ON measures.level_id=levels.id) \"\n",
    "    \"LEFT JOIN dates ON measures.date_id=dates.id) \"\n",
    "    \"LEFT JOIN alliances ON measures.alliance_id=alliances.id) \"\n",
    "    \"LEFT JOIN stations ON measures.station_id=stations.id) \"\n",
    "    \"LEFT JOIN phases ON measures.phase_id=phases.id) \"\n",
    "    \"LEFT JOIN actors ON measures.actor_id=actors.id) \"\n",
    "    \"LEFT JOIN tasks ON measures.task_id=tasks.id) \"\n",
    "    \"LEFT JOIN reasons ON measures.reason_id=reasons.id) \"\n",
    "    \"LEFT JOIN measuretypes ON measures.measuretype_id=measuretypes.id) \"\n",
    "    \"LEFT JOIN attempts ON measures.attempt_id=attempts.id \"\n",
    "    \"WHERE events.name='wasno';\")\n",
    "measures = pd.read_sql(sql_measures, conn)"
   ]
  },
  {
   "cell_type": "markdown",
   "metadata": {},
   "source": [
    "### Create and Save Gears Chart\n",
    "* This cell creates the gears chart and saves it to Server/web/data as a static, interactive html file.\n",
    "\n",
    "**TODO:** Add an event code and timestamp to gears chart file name."
   ]
  },
  {
   "cell_type": "code",
   "execution_count": 21,
   "metadata": {
    "collapsed": false
   },
   "outputs": [
    {
     "name": "stderr",
     "output_type": "stream",
     "text": [
      "INFO:bokeh.core.state:Session output file 'web/data/gears_chart.html' already exists, will be overwritten.\n"
     ]
    },
    {
     "data": {
      "text/html": [
       "\n",
       "\n",
       "    <div class=\"bk-root\">\n",
       "        <div class=\"bk-plotdiv\" id=\"064e5d41-5469-48e2-b232-eb3defde4c31\"></div>\n",
       "    </div>\n",
       "<script type=\"text/javascript\">\n",
       "  \n",
       "  (function(global) {\n",
       "    function now() {\n",
       "      return new Date();\n",
       "    }\n",
       "  \n",
       "    var force = false;\n",
       "  \n",
       "    if (typeof (window._bokeh_onload_callbacks) === \"undefined\" || force === true) {\n",
       "      window._bokeh_onload_callbacks = [];\n",
       "      window._bokeh_is_loading = undefined;\n",
       "    }\n",
       "  \n",
       "  \n",
       "    \n",
       "    if (typeof (window._bokeh_timeout) === \"undefined\" || force === true) {\n",
       "      window._bokeh_timeout = Date.now() + 0;\n",
       "      window._bokeh_failed_load = false;\n",
       "    }\n",
       "  \n",
       "    var NB_LOAD_WARNING = {'data': {'text/html':\n",
       "       \"<div style='background-color: #fdd'>\\n\"+\n",
       "       \"<p>\\n\"+\n",
       "       \"BokehJS does not appear to have successfully loaded. If loading BokehJS from CDN, this \\n\"+\n",
       "       \"may be due to a slow or bad network connection. Possible fixes:\\n\"+\n",
       "       \"</p>\\n\"+\n",
       "       \"<ul>\\n\"+\n",
       "       \"<li>re-rerun `output_notebook()` to attempt to load from CDN again, or</li>\\n\"+\n",
       "       \"<li>use INLINE resources instead, as so:</li>\\n\"+\n",
       "       \"</ul>\\n\"+\n",
       "       \"<code>\\n\"+\n",
       "       \"from bokeh.resources import INLINE\\n\"+\n",
       "       \"output_notebook(resources=INLINE)\\n\"+\n",
       "       \"</code>\\n\"+\n",
       "       \"</div>\"}};\n",
       "  \n",
       "    function display_loaded() {\n",
       "      if (window.Bokeh !== undefined) {\n",
       "        document.getElementById(\"064e5d41-5469-48e2-b232-eb3defde4c31\").textContent = \"BokehJS successfully loaded.\";\n",
       "      } else if (Date.now() < window._bokeh_timeout) {\n",
       "        setTimeout(display_loaded, 100)\n",
       "      }\n",
       "    }\n",
       "  \n",
       "    function run_callbacks() {\n",
       "      window._bokeh_onload_callbacks.forEach(function(callback) { callback() });\n",
       "      delete window._bokeh_onload_callbacks\n",
       "      console.info(\"Bokeh: all callbacks have finished\");\n",
       "    }\n",
       "  \n",
       "    function load_libs(js_urls, callback) {\n",
       "      window._bokeh_onload_callbacks.push(callback);\n",
       "      if (window._bokeh_is_loading > 0) {\n",
       "        console.log(\"Bokeh: BokehJS is being loaded, scheduling callback at\", now());\n",
       "        return null;\n",
       "      }\n",
       "      if (js_urls == null || js_urls.length === 0) {\n",
       "        run_callbacks();\n",
       "        return null;\n",
       "      }\n",
       "      console.log(\"Bokeh: BokehJS not loaded, scheduling load and callback at\", now());\n",
       "      window._bokeh_is_loading = js_urls.length;\n",
       "      for (var i = 0; i < js_urls.length; i++) {\n",
       "        var url = js_urls[i];\n",
       "        var s = document.createElement('script');\n",
       "        s.src = url;\n",
       "        s.async = false;\n",
       "        s.onreadystatechange = s.onload = function() {\n",
       "          window._bokeh_is_loading--;\n",
       "          if (window._bokeh_is_loading === 0) {\n",
       "            console.log(\"Bokeh: all BokehJS libraries loaded\");\n",
       "            run_callbacks()\n",
       "          }\n",
       "        };\n",
       "        s.onerror = function() {\n",
       "          console.warn(\"failed to load library \" + url);\n",
       "        };\n",
       "        console.log(\"Bokeh: injecting script tag for BokehJS library: \", url);\n",
       "        document.getElementsByTagName(\"head\")[0].appendChild(s);\n",
       "      }\n",
       "    };var element = document.getElementById(\"064e5d41-5469-48e2-b232-eb3defde4c31\");\n",
       "    if (element == null) {\n",
       "      console.log(\"Bokeh: ERROR: autoload.js configured with elementid '064e5d41-5469-48e2-b232-eb3defde4c31' but no matching script tag was found. \")\n",
       "      return false;\n",
       "    }\n",
       "  \n",
       "    var js_urls = [];\n",
       "  \n",
       "    var inline_js = [\n",
       "      function(Bokeh) {\n",
       "        (function() {\n",
       "          var fn = function() {\n",
       "            var docs_json = {\"c83a66ce-2274-445a-aa8d-dd43ae528aa5\":{\"roots\":{\"references\":[{\"attributes\":{\"data_source\":{\"id\":\"4a4d8eeb-fef5-428d-9626-b62f5b7099ff\",\"type\":\"ColumnDataSource\"},\"glyph\":{\"id\":\"f89ade9a-c064-4027-b791-82ee0ed40dc7\",\"type\":\"Rect\"},\"hover_glyph\":null,\"nonselection_glyph\":null,\"selection_glyph\":null},\"id\":\"94668bca-f1af-406a-938c-ca189e08752f\",\"type\":\"GlyphRenderer\"},{\"attributes\":{\"callback\":null,\"column_names\":[\"line_color\",\"line_alpha\",\"color\",\"fill_alpha\",\"height\",\"width\",\"y\",\"x\",\"label\"],\"data\":{\"chart_index\":[{\"index\":\"3218\"}],\"color\":[\"purple\"],\"fill_alpha\":[0.8],\"height\":[79.0],\"index\":[\"3218\"],\"label\":[{\"index\":\"3218\"}],\"line_alpha\":[1.0],\"line_color\":[\"white\"],\"width\":[0.8],\"x\":[\"3218\"],\"y\":[39.5]}},\"id\":\"a504eef3-2cc7-4a8c-9790-bf5882bd6d5a\",\"type\":\"ColumnDataSource\"},{\"attributes\":{\"fill_alpha\":{\"field\":\"fill_alpha\"},\"fill_color\":{\"field\":\"color\"},\"height\":{\"field\":\"height\",\"units\":\"data\"},\"line_color\":{\"field\":\"line_color\"},\"width\":{\"field\":\"width\",\"units\":\"data\"},\"x\":{\"field\":\"x\"},\"y\":{\"field\":\"y\"}},\"id\":\"f89ade9a-c064-4027-b791-82ee0ed40dc7\",\"type\":\"Rect\"},{\"attributes\":{\"fill_alpha\":{\"field\":\"fill_alpha\"},\"fill_color\":{\"field\":\"color\"},\"height\":{\"field\":\"height\",\"units\":\"data\"},\"line_color\":{\"field\":\"line_color\"},\"width\":{\"field\":\"width\",\"units\":\"data\"},\"x\":{\"field\":\"x\"},\"y\":{\"field\":\"y\"}},\"id\":\"2723191b-1384-431d-be1a-ff6badfeba1d\",\"type\":\"Rect\"},{\"attributes\":{\"fill_alpha\":{\"field\":\"fill_alpha\"},\"fill_color\":{\"field\":\"color\"},\"height\":{\"field\":\"height\",\"units\":\"data\"},\"line_color\":{\"field\":\"line_color\"},\"width\":{\"field\":\"width\",\"units\":\"data\"},\"x\":{\"field\":\"x\"},\"y\":{\"field\":\"y\"}},\"id\":\"a0980555-62f4-4058-a9c6-b274e739d920\",\"type\":\"Rect\"},{\"attributes\":{\"fill_alpha\":{\"field\":\"fill_alpha\"},\"fill_color\":{\"field\":\"color\"},\"height\":{\"field\":\"height\",\"units\":\"data\"},\"line_color\":{\"field\":\"line_color\"},\"width\":{\"field\":\"width\",\"units\":\"data\"},\"x\":{\"field\":\"x\"},\"y\":{\"field\":\"y\"}},\"id\":\"10cb63da-6739-4e61-b907-076e0a489592\",\"type\":\"Rect\"},{\"attributes\":{\"data_source\":{\"id\":\"61fc39bc-7321-41e7-81eb-0d424d07fb03\",\"type\":\"ColumnDataSource\"},\"glyph\":{\"id\":\"00e7a47e-a2a9-4d06-b9d3-405c83ef2b04\",\"type\":\"Rect\"},\"hover_glyph\":null,\"nonselection_glyph\":null,\"selection_glyph\":null},\"id\":\"28205e62-6cc9-4487-99d5-6b344c6ce60c\",\"type\":\"GlyphRenderer\"},{\"attributes\":{\"data_source\":{\"id\":\"935e00f4-eafa-42c8-b9c1-fd0c40e033df\",\"type\":\"ColumnDataSource\"},\"glyph\":{\"id\":\"fbda399c-d30f-44a0-be85-b396c2b90ff3\",\"type\":\"Rect\"},\"hover_glyph\":null,\"nonselection_glyph\":null,\"selection_glyph\":null},\"id\":\"8dde6330-7a82-4541-b36b-456df1670d1e\",\"type\":\"GlyphRenderer\"},{\"attributes\":{\"data_source\":{\"id\":\"8790463e-1f15-4f1d-b2ad-b1d206c72d98\",\"type\":\"ColumnDataSource\"},\"glyph\":{\"id\":\"a0980555-62f4-4058-a9c6-b274e739d920\",\"type\":\"Rect\"},\"hover_glyph\":null,\"nonselection_glyph\":null,\"selection_glyph\":null},\"id\":\"46d8f220-631d-42d9-97de-7ddcff8008a7\",\"type\":\"GlyphRenderer\"},{\"attributes\":{\"data_source\":{\"id\":\"ab778ba6-68a6-4b23-981d-fb9994187cbb\",\"type\":\"ColumnDataSource\"},\"glyph\":{\"id\":\"50104fc3-ffee-4b37-9d21-3ba2e42a9258\",\"type\":\"Rect\"},\"hover_glyph\":null,\"nonselection_glyph\":null,\"selection_glyph\":null},\"id\":\"693f8379-3ce2-4e6e-913d-cf43e68c8fbe\",\"type\":\"GlyphRenderer\"},{\"attributes\":{\"callback\":null,\"column_names\":[\"line_color\",\"line_alpha\",\"color\",\"fill_alpha\",\"height\",\"width\",\"y\",\"x\",\"label\"],\"data\":{\"chart_index\":[{\"index\":\"1294\"}],\"color\":[\"purple\"],\"fill_alpha\":[0.8],\"height\":[49.0],\"index\":[\"1294\"],\"label\":[{\"index\":\"1294\"}],\"line_alpha\":[1.0],\"line_color\":[\"white\"],\"width\":[0.8],\"x\":[\"1294\"],\"y\":[24.5]}},\"id\":\"fae7892c-8908-47b5-a784-ebd04f0dbdfc\",\"type\":\"ColumnDataSource\"},{\"attributes\":{\"data_source\":{\"id\":\"eaee9d99-07c8-40e5-a2e8-0700964645f2\",\"type\":\"ColumnDataSource\"},\"glyph\":{\"id\":\"10cb63da-6739-4e61-b907-076e0a489592\",\"type\":\"Rect\"},\"hover_glyph\":null,\"nonselection_glyph\":null,\"selection_glyph\":null},\"id\":\"bce847be-fe67-42f3-9138-735b9ce8c357\",\"type\":\"GlyphRenderer\"},{\"attributes\":{\"fill_alpha\":{\"field\":\"fill_alpha\"},\"fill_color\":{\"field\":\"color\"},\"height\":{\"field\":\"height\",\"units\":\"data\"},\"line_color\":{\"field\":\"line_color\"},\"width\":{\"field\":\"width\",\"units\":\"data\"},\"x\":{\"field\":\"x\"},\"y\":{\"field\":\"y\"}},\"id\":\"7ba4a3de-9d7c-4d13-98e3-3be224a9935f\",\"type\":\"Rect\"},{\"attributes\":{\"callback\":null,\"column_names\":[\"line_color\",\"line_alpha\",\"color\",\"fill_alpha\",\"height\",\"width\",\"y\",\"x\",\"label\"],\"data\":{\"chart_index\":[{\"index\":\"492\"}],\"color\":[\"purple\"],\"fill_alpha\":[0.8],\"height\":[27.0],\"index\":[\"492\"],\"label\":[{\"index\":\"492\"}],\"line_alpha\":[1.0],\"line_color\":[\"white\"],\"width\":[0.8],\"x\":[\"492\"],\"y\":[13.5]}},\"id\":\"17d4cef2-139d-4681-ae63-cf9010328e3c\",\"type\":\"ColumnDataSource\"},{\"attributes\":{\"fill_alpha\":{\"field\":\"fill_alpha\"},\"fill_color\":{\"field\":\"color\"},\"height\":{\"field\":\"height\",\"units\":\"data\"},\"line_color\":{\"field\":\"line_color\"},\"width\":{\"field\":\"width\",\"units\":\"data\"},\"x\":{\"field\":\"x\"},\"y\":{\"field\":\"y\"}},\"id\":\"189a5da2-6548-4895-807f-423b8b695c73\",\"type\":\"Rect\"},{\"attributes\":{\"callback\":null,\"column_names\":[\"line_color\",\"line_alpha\",\"color\",\"fill_alpha\",\"height\",\"width\",\"y\",\"x\",\"label\"],\"data\":{\"chart_index\":[{\"index\":\"4077\"}],\"color\":[\"purple\"],\"fill_alpha\":[0.8],\"height\":[55.0],\"index\":[\"4077\"],\"label\":[{\"index\":\"4077\"}],\"line_alpha\":[1.0],\"line_color\":[\"white\"],\"width\":[0.8],\"x\":[\"4077\"],\"y\":[27.5]}},\"id\":\"c9679ecf-d242-4f03-a95f-212c820fd2cd\",\"type\":\"ColumnDataSource\"},{\"attributes\":{\"fill_alpha\":{\"field\":\"fill_alpha\"},\"fill_color\":{\"field\":\"color\"},\"height\":{\"field\":\"height\",\"units\":\"data\"},\"line_color\":{\"field\":\"line_color\"},\"width\":{\"field\":\"width\",\"units\":\"data\"},\"x\":{\"field\":\"x\"},\"y\":{\"field\":\"y\"}},\"id\":\"e2328bcc-26c7-40db-8566-1d144fc5bd1e\",\"type\":\"Rect\"},{\"attributes\":{\"data_source\":{\"id\":\"4bd09953-b29e-4dc5-9fef-54b74487d084\",\"type\":\"ColumnDataSource\"},\"glyph\":{\"id\":\"d9da5c8a-1054-401f-8bd3-486004d05ad7\",\"type\":\"Rect\"},\"hover_glyph\":null,\"nonselection_glyph\":null,\"selection_glyph\":null},\"id\":\"16a627f4-cb71-4ecd-9504-40da11c606ba\",\"type\":\"GlyphRenderer\"},{\"attributes\":{\"below\":[{\"id\":\"71366bc5-35dc-45f3-aaac-b67003124d5a\",\"type\":\"CategoricalAxis\"}],\"css_classes\":null,\"left\":[{\"id\":\"90821021-c14c-42ec-bf7b-71d04ba1c7ad\",\"type\":\"LinearAxis\"}],\"renderers\":[{\"id\":\"56c770d2-fa59-4fd1-8897-2943470b146c\",\"type\":\"BoxAnnotation\"},{\"id\":\"9ecc75d6-46c9-4ad0-b3c8-568795281143\",\"type\":\"GlyphRenderer\"},{\"id\":\"35f4b46b-6f29-4cad-a9cd-c79a5763fc00\",\"type\":\"GlyphRenderer\"},{\"id\":\"cb1ce900-a392-4888-b7ce-ffa1810b6321\",\"type\":\"GlyphRenderer\"},{\"id\":\"2642e7cf-0e4d-420e-96b8-56e89f1cbed4\",\"type\":\"GlyphRenderer\"},{\"id\":\"94668bca-f1af-406a-938c-ca189e08752f\",\"type\":\"GlyphRenderer\"},{\"id\":\"28205e62-6cc9-4487-99d5-6b344c6ce60c\",\"type\":\"GlyphRenderer\"},{\"id\":\"bbb52591-4ac6-44de-b1fb-c62d119ee927\",\"type\":\"GlyphRenderer\"},{\"id\":\"ce547d69-c332-4158-a2fd-5916ed23b021\",\"type\":\"GlyphRenderer\"},{\"id\":\"509b5829-b62f-4642-a893-9e50f900cd55\",\"type\":\"GlyphRenderer\"},{\"id\":\"b3318662-3638-4571-bccd-72290b132e56\",\"type\":\"GlyphRenderer\"},{\"id\":\"2caf1ee6-cf86-4356-a11e-7e33824d3cde\",\"type\":\"GlyphRenderer\"},{\"id\":\"b8c93ef3-3ca3-480b-bbab-eb90a84537cb\",\"type\":\"GlyphRenderer\"},{\"id\":\"8dde6330-7a82-4541-b36b-456df1670d1e\",\"type\":\"GlyphRenderer\"},{\"id\":\"c74395f5-78bc-420f-afb0-5f3fb84b6df8\",\"type\":\"GlyphRenderer\"},{\"id\":\"59d648c3-3e25-4af8-b805-b99f75d950e2\",\"type\":\"GlyphRenderer\"},{\"id\":\"3c95604c-d942-4893-bd2c-6fb0f573b67d\",\"type\":\"GlyphRenderer\"},{\"id\":\"ede18fa9-051a-4c2a-a003-d367d6ed8168\",\"type\":\"GlyphRenderer\"},{\"id\":\"e98beb48-5081-47ab-9e0b-7af9a09f138d\",\"type\":\"GlyphRenderer\"},{\"id\":\"eff4760f-a4b1-44b8-b659-a25a89ca45f2\",\"type\":\"GlyphRenderer\"},{\"id\":\"f062ee72-07f7-4870-8185-238505f306cc\",\"type\":\"GlyphRenderer\"},{\"id\":\"f40dec33-f0b4-4947-85f4-0520b420fc95\",\"type\":\"GlyphRenderer\"},{\"id\":\"32424638-dddd-47f5-85a3-de257fedbae3\",\"type\":\"GlyphRenderer\"},{\"id\":\"46d8f220-631d-42d9-97de-7ddcff8008a7\",\"type\":\"GlyphRenderer\"},{\"id\":\"4b92131d-1111-4b0a-839b-90f0e29baa0c\",\"type\":\"GlyphRenderer\"},{\"id\":\"91e0ea3c-343b-4803-b50a-474e860539bb\",\"type\":\"GlyphRenderer\"},{\"id\":\"6917d631-2aae-480b-a40c-1fe746d00b76\",\"type\":\"GlyphRenderer\"},{\"id\":\"4fdfc130-4418-4c64-b6ff-1fd7b813f2f7\",\"type\":\"GlyphRenderer\"},{\"id\":\"bce847be-fe67-42f3-9138-735b9ce8c357\",\"type\":\"GlyphRenderer\"},{\"id\":\"09749dba-eecd-413d-bd5f-657ce11e9756\",\"type\":\"GlyphRenderer\"},{\"id\":\"693f8379-3ce2-4e6e-913d-cf43e68c8fbe\",\"type\":\"GlyphRenderer\"},{\"id\":\"4ee5249b-4b9e-407a-9dbb-f09506ba28da\",\"type\":\"GlyphRenderer\"},{\"id\":\"ee7a56c1-a8d9-41df-a020-73a087c0d540\",\"type\":\"GlyphRenderer\"},{\"id\":\"a90a9cb9-5471-40ab-8721-73077eba6368\",\"type\":\"GlyphRenderer\"},{\"id\":\"16a627f4-cb71-4ecd-9504-40da11c606ba\",\"type\":\"GlyphRenderer\"},{\"id\":\"26aba8bc-3eda-4ee2-b784-b7914501cccb\",\"type\":\"GlyphRenderer\"},{\"id\":\"96f618a5-4d05-4475-8454-af548f0ff76f\",\"type\":\"GlyphRenderer\"},{\"id\":\"6004952d-d2f2-461d-a383-f8e9d40ac08d\",\"type\":\"GlyphRenderer\"},{\"id\":\"b37a80c7-23b6-4052-9d27-9c8ee2303e3e\",\"type\":\"GlyphRenderer\"},{\"id\":\"65c3dc6b-1ec8-4fda-b7df-fac44b880ad6\",\"type\":\"GlyphRenderer\"},{\"id\":\"71366bc5-35dc-45f3-aaac-b67003124d5a\",\"type\":\"CategoricalAxis\"},{\"id\":\"90821021-c14c-42ec-bf7b-71d04ba1c7ad\",\"type\":\"LinearAxis\"},{\"id\":\"527e7c7f-66f7-458a-819a-0d4bac7b3d07\",\"type\":\"Grid\"}],\"title\":{\"id\":\"77158730-1509-4342-b741-bc39b963ce00\",\"type\":\"Title\"},\"tool_events\":{\"id\":\"ba897a30-a48c-4038-9581-6538ed19f8c0\",\"type\":\"ToolEvents\"},\"toolbar\":{\"id\":\"84dcb718-cba3-425d-a80d-c8e8b75010a8\",\"type\":\"Toolbar\"},\"x_mapper_type\":\"auto\",\"x_range\":{\"id\":\"5a747f85-e0d5-4d75-b91b-287cc53aeedb\",\"type\":\"FactorRange\"},\"y_mapper_type\":\"auto\",\"y_range\":{\"id\":\"e13e328b-61f8-4b85-b672-5bb40ab94323\",\"type\":\"Range1d\"}},\"id\":\"848fe210-738e-4889-9d75-98c6378218fc\",\"subtype\":\"Chart\",\"type\":\"Plot\"},{\"attributes\":{\"data_source\":{\"id\":\"1a1bf541-b888-4132-9883-874bc2cdf8ad\",\"type\":\"ColumnDataSource\"},\"glyph\":{\"id\":\"8f996ccf-ab29-434d-9786-5ea0baafdf1d\",\"type\":\"Rect\"},\"hover_glyph\":null,\"nonselection_glyph\":null,\"selection_glyph\":null},\"id\":\"c74395f5-78bc-420f-afb0-5f3fb84b6df8\",\"type\":\"GlyphRenderer\"},{\"attributes\":{\"callback\":null,\"column_names\":[\"line_color\",\"line_alpha\",\"color\",\"fill_alpha\",\"height\",\"width\",\"y\",\"x\",\"label\"],\"data\":{\"chart_index\":[{\"index\":\"4309\"}],\"color\":[\"purple\"],\"fill_alpha\":[0.8],\"height\":[8.0],\"index\":[\"4309\"],\"label\":[{\"index\":\"4309\"}],\"line_alpha\":[1.0],\"line_color\":[\"white\"],\"width\":[0.8],\"x\":[\"4309\"],\"y\":[4.0]}},\"id\":\"65cbccf6-7b48-4ef8-8925-2a0dd33780f6\",\"type\":\"ColumnDataSource\"},{\"attributes\":{},\"id\":\"8c7514ff-2183-4954-b8e4-91696d47fabb\",\"type\":\"CategoricalTicker\"},{\"attributes\":{\"fill_alpha\":{\"field\":\"fill_alpha\"},\"fill_color\":{\"field\":\"color\"},\"height\":{\"field\":\"height\",\"units\":\"data\"},\"line_color\":{\"field\":\"line_color\"},\"width\":{\"field\":\"width\",\"units\":\"data\"},\"x\":{\"field\":\"x\"},\"y\":{\"field\":\"y\"}},\"id\":\"3df66240-b9b1-4b4b-a639-b7bfaf567406\",\"type\":\"Rect\"},{\"attributes\":{\"callback\":null,\"column_names\":[\"line_color\",\"line_alpha\",\"color\",\"fill_alpha\",\"height\",\"width\",\"y\",\"x\",\"label\"],\"data\":{\"chart_index\":[{\"index\":\"2910\"}],\"color\":[\"purple\"],\"fill_alpha\":[0.8],\"height\":[24.0],\"index\":[\"2910\"],\"label\":[{\"index\":\"2910\"}],\"line_alpha\":[1.0],\"line_color\":[\"white\"],\"width\":[0.8],\"x\":[\"2910\"],\"y\":[12.0]}},\"id\":\"a3798d73-4844-4d52-aca1-5f1c67300c83\",\"type\":\"ColumnDataSource\"},{\"attributes\":{\"data_source\":{\"id\":\"65cbccf6-7b48-4ef8-8925-2a0dd33780f6\",\"type\":\"ColumnDataSource\"},\"glyph\":{\"id\":\"985e24f4-1a43-431f-8126-ab4f74c48b0f\",\"type\":\"Rect\"},\"hover_glyph\":null,\"nonselection_glyph\":null,\"selection_glyph\":null},\"id\":\"b37a80c7-23b6-4052-9d27-9c8ee2303e3e\",\"type\":\"GlyphRenderer\"},{\"attributes\":{\"callback\":null,\"column_names\":[\"line_color\",\"line_alpha\",\"color\",\"fill_alpha\",\"height\",\"width\",\"y\",\"x\",\"label\"],\"data\":{\"chart_index\":[{\"index\":\"4469\"}],\"color\":[\"purple\"],\"fill_alpha\":[0.8],\"height\":[22.0],\"index\":[\"4469\"],\"label\":[{\"index\":\"4469\"}],\"line_alpha\":[1.0],\"line_color\":[\"white\"],\"width\":[0.8],\"x\":[\"4469\"],\"y\":[11.0]}},\"id\":\"4bd09953-b29e-4dc5-9fef-54b74487d084\",\"type\":\"ColumnDataSource\"},{\"attributes\":{\"data_source\":{\"id\":\"8a72399f-f814-46a7-af42-9d6f65bfb6d2\",\"type\":\"ColumnDataSource\"},\"glyph\":{\"id\":\"8dba3a2e-0005-4a0c-aac4-2908541ca466\",\"type\":\"Rect\"},\"hover_glyph\":null,\"nonselection_glyph\":null,\"selection_glyph\":null},\"id\":\"59d648c3-3e25-4af8-b805-b99f75d950e2\",\"type\":\"GlyphRenderer\"},{\"attributes\":{\"callback\":null,\"column_names\":[\"line_color\",\"line_alpha\",\"color\",\"fill_alpha\",\"height\",\"width\",\"y\",\"x\",\"label\"],\"data\":{\"chart_index\":[{\"index\":\"5941\"}],\"color\":[\"purple\"],\"fill_alpha\":[0.8],\"height\":[34.0],\"index\":[\"5941\"],\"label\":[{\"index\":\"5941\"}],\"line_alpha\":[1.0],\"line_color\":[\"white\"],\"width\":[0.8],\"x\":[\"5941\"],\"y\":[17.0]}},\"id\":\"935e00f4-eafa-42c8-b9c1-fd0c40e033df\",\"type\":\"ColumnDataSource\"},{\"attributes\":{\"callback\":null,\"column_names\":[\"line_color\",\"line_alpha\",\"color\",\"fill_alpha\",\"height\",\"width\",\"y\",\"x\",\"label\"],\"data\":{\"chart_index\":[{\"index\":\"4682\"}],\"color\":[\"purple\"],\"fill_alpha\":[0.8],\"height\":[43.0],\"index\":[\"4682\"],\"label\":[{\"index\":\"4682\"}],\"line_alpha\":[1.0],\"line_color\":[\"white\"],\"width\":[0.8],\"x\":[\"4682\"],\"y\":[21.5]}},\"id\":\"61fc39bc-7321-41e7-81eb-0d424d07fb03\",\"type\":\"ColumnDataSource\"},{\"attributes\":{\"data_source\":{\"id\":\"5ce6f6f5-0caa-449b-a89c-52f313b7a6fc\",\"type\":\"ColumnDataSource\"},\"glyph\":{\"id\":\"2d61817d-b70e-47f3-97b4-130ed4e3d22a\",\"type\":\"Rect\"},\"hover_glyph\":null,\"nonselection_glyph\":null,\"selection_glyph\":null},\"id\":\"96f618a5-4d05-4475-8454-af548f0ff76f\",\"type\":\"GlyphRenderer\"},{\"attributes\":{\"callback\":null,\"column_names\":[\"line_color\",\"line_alpha\",\"color\",\"fill_alpha\",\"height\",\"width\",\"y\",\"x\",\"label\"],\"data\":{\"chart_index\":[{\"index\":\"4683\"}],\"color\":[\"purple\"],\"fill_alpha\":[0.8],\"height\":[29.0],\"index\":[\"4683\"],\"label\":[{\"index\":\"4683\"}],\"line_alpha\":[1.0],\"line_color\":[\"white\"],\"width\":[0.8],\"x\":[\"4683\"],\"y\":[14.5]}},\"id\":\"8790463e-1f15-4f1d-b2ad-b1d206c72d98\",\"type\":\"ColumnDataSource\"},{\"attributes\":{\"data_source\":{\"id\":\"f961da17-b295-4fdb-885d-d6189596b3a5\",\"type\":\"ColumnDataSource\"},\"glyph\":{\"id\":\"b2b07163-c975-4b0f-9f55-13545fb3c8fe\",\"type\":\"Rect\"},\"hover_glyph\":null,\"nonselection_glyph\":null,\"selection_glyph\":null},\"id\":\"2642e7cf-0e4d-420e-96b8-56e89f1cbed4\",\"type\":\"GlyphRenderer\"},{\"attributes\":{\"fill_alpha\":{\"field\":\"fill_alpha\"},\"fill_color\":{\"field\":\"color\"},\"height\":{\"field\":\"height\",\"units\":\"data\"},\"line_color\":{\"field\":\"line_color\"},\"width\":{\"field\":\"width\",\"units\":\"data\"},\"x\":{\"field\":\"x\"},\"y\":{\"field\":\"y\"}},\"id\":\"da11f191-a84e-4257-8a4b-6f0e0217bc04\",\"type\":\"Rect\"},{\"attributes\":{\"data_source\":{\"id\":\"e79b68e0-f8d2-47db-b2d3-e435be8b7c0b\",\"type\":\"ColumnDataSource\"},\"glyph\":{\"id\":\"131f37c9-921e-44ad-8b81-bff411c699d2\",\"type\":\"Rect\"},\"hover_glyph\":null,\"nonselection_glyph\":null,\"selection_glyph\":null},\"id\":\"2caf1ee6-cf86-4356-a11e-7e33824d3cde\",\"type\":\"GlyphRenderer\"},{\"attributes\":{\"callback\":null,\"column_names\":[\"line_color\",\"line_alpha\",\"color\",\"fill_alpha\",\"height\",\"width\",\"y\",\"x\",\"label\"],\"data\":{\"chart_index\":[{\"index\":\"5588\"}],\"color\":[\"purple\"],\"fill_alpha\":[0.8],\"height\":[23.0],\"index\":[\"5588\"],\"label\":[{\"index\":\"5588\"}],\"line_alpha\":[1.0],\"line_color\":[\"white\"],\"width\":[0.8],\"x\":[\"5588\"],\"y\":[11.5]}},\"id\":\"4b5c7c74-2087-48cc-b184-662dea0088ad\",\"type\":\"ColumnDataSource\"},{\"attributes\":{\"callback\":null,\"column_names\":[\"line_color\",\"line_alpha\",\"color\",\"fill_alpha\",\"height\",\"width\",\"y\",\"x\",\"label\"],\"data\":{\"chart_index\":[{\"index\":\"2555\"}],\"color\":[\"purple\"],\"fill_alpha\":[0.8],\"height\":[26.0],\"index\":[\"2555\"],\"label\":[{\"index\":\"2555\"}],\"line_alpha\":[1.0],\"line_color\":[\"white\"],\"width\":[0.8],\"x\":[\"2555\"],\"y\":[13.0]}},\"id\":\"eaee9d99-07c8-40e5-a2e8-0700964645f2\",\"type\":\"ColumnDataSource\"},{\"attributes\":{\"fill_alpha\":{\"field\":\"fill_alpha\"},\"fill_color\":{\"field\":\"color\"},\"height\":{\"field\":\"height\",\"units\":\"data\"},\"line_color\":{\"field\":\"line_color\"},\"width\":{\"field\":\"width\",\"units\":\"data\"},\"x\":{\"field\":\"x\"},\"y\":{\"field\":\"y\"}},\"id\":\"131f37c9-921e-44ad-8b81-bff411c699d2\",\"type\":\"Rect\"},{\"attributes\":{\"fill_alpha\":{\"field\":\"fill_alpha\"},\"fill_color\":{\"field\":\"color\"},\"height\":{\"field\":\"height\",\"units\":\"data\"},\"line_color\":{\"field\":\"line_color\"},\"width\":{\"field\":\"width\",\"units\":\"data\"},\"x\":{\"field\":\"x\"},\"y\":{\"field\":\"y\"}},\"id\":\"fa90a3e6-0312-42ec-9104-0afdcaccc069\",\"type\":\"Rect\"},{\"attributes\":{\"plot\":{\"id\":\"848fe210-738e-4889-9d75-98c6378218fc\",\"subtype\":\"Chart\",\"type\":\"Plot\"}},\"id\":\"709b8fab-9cd1-4034-b1be-1cf770ae6566\",\"type\":\"ResetTool\"},{\"attributes\":{\"fill_alpha\":{\"field\":\"fill_alpha\"},\"fill_color\":{\"field\":\"color\"},\"height\":{\"field\":\"height\",\"units\":\"data\"},\"line_color\":{\"field\":\"line_color\"},\"width\":{\"field\":\"width\",\"units\":\"data\"},\"x\":{\"field\":\"x\"},\"y\":{\"field\":\"y\"}},\"id\":\"985e24f4-1a43-431f-8126-ab4f74c48b0f\",\"type\":\"Rect\"},{\"attributes\":{\"fill_alpha\":{\"field\":\"fill_alpha\"},\"fill_color\":{\"field\":\"color\"},\"height\":{\"field\":\"height\",\"units\":\"data\"},\"line_color\":{\"field\":\"line_color\"},\"width\":{\"field\":\"width\",\"units\":\"data\"},\"x\":{\"field\":\"x\"},\"y\":{\"field\":\"y\"}},\"id\":\"50104fc3-ffee-4b37-9d21-3ba2e42a9258\",\"type\":\"Rect\"},{\"attributes\":{\"data_source\":{\"id\":\"7c8d309f-9e05-45cd-8300-0d8646c1ba97\",\"type\":\"ColumnDataSource\"},\"glyph\":{\"id\":\"be477dfb-ba42-455c-8df0-5606c7e48e50\",\"type\":\"Rect\"},\"hover_glyph\":null,\"nonselection_glyph\":null,\"selection_glyph\":null},\"id\":\"6004952d-d2f2-461d-a383-f8e9d40ac08d\",\"type\":\"GlyphRenderer\"},{\"attributes\":{\"fill_alpha\":{\"field\":\"fill_alpha\"},\"fill_color\":{\"field\":\"color\"},\"height\":{\"field\":\"height\",\"units\":\"data\"},\"line_color\":{\"field\":\"line_color\"},\"width\":{\"field\":\"width\",\"units\":\"data\"},\"x\":{\"field\":\"x\"},\"y\":{\"field\":\"y\"}},\"id\":\"8bbbdf36-22dd-4998-ab9e-f31855deb772\",\"type\":\"Rect\"},{\"attributes\":{\"data_source\":{\"id\":\"9ec5f6bf-0200-47d5-baa7-059d45483bd0\",\"type\":\"ColumnDataSource\"},\"glyph\":{\"id\":\"306285bf-21bd-4a0b-876e-b92a88688f24\",\"type\":\"Rect\"},\"hover_glyph\":null,\"nonselection_glyph\":null,\"selection_glyph\":null},\"id\":\"bbb52591-4ac6-44de-b1fb-c62d119ee927\",\"type\":\"GlyphRenderer\"},{\"attributes\":{\"callback\":null,\"column_names\":[\"line_color\",\"line_alpha\",\"color\",\"fill_alpha\",\"height\",\"width\",\"y\",\"x\",\"label\"],\"data\":{\"chart_index\":[{\"index\":\"2605\"}],\"color\":[\"purple\"],\"fill_alpha\":[0.8],\"height\":[34.0],\"index\":[\"2605\"],\"label\":[{\"index\":\"2605\"}],\"line_alpha\":[1.0],\"line_color\":[\"white\"],\"width\":[0.8],\"x\":[\"2605\"],\"y\":[17.0]}},\"id\":\"1a1bf541-b888-4132-9883-874bc2cdf8ad\",\"type\":\"ColumnDataSource\"},{\"attributes\":{\"plot\":{\"id\":\"848fe210-738e-4889-9d75-98c6378218fc\",\"subtype\":\"Chart\",\"type\":\"Plot\"}},\"id\":\"74f575a3-2bf0-4fc5-acac-06df8f1a64e9\",\"type\":\"HelpTool\"},{\"attributes\":{\"fill_alpha\":{\"field\":\"fill_alpha\"},\"fill_color\":{\"field\":\"color\"},\"height\":{\"field\":\"height\",\"units\":\"data\"},\"line_color\":{\"field\":\"line_color\"},\"width\":{\"field\":\"width\",\"units\":\"data\"},\"x\":{\"field\":\"x\"},\"y\":{\"field\":\"y\"}},\"id\":\"aff96423-d2a0-4444-b2c4-cb91ccb88f5d\",\"type\":\"Rect\"},{\"attributes\":{\"axis_label\":\"Gears Placed\",\"formatter\":{\"id\":\"c9409d5d-9927-423e-89a9-96d1ad9828de\",\"type\":\"BasicTickFormatter\"},\"plot\":{\"id\":\"848fe210-738e-4889-9d75-98c6378218fc\",\"subtype\":\"Chart\",\"type\":\"Plot\"},\"ticker\":{\"id\":\"479a6013-35d0-4f4b-88e3-8939a5f77d29\",\"type\":\"BasicTicker\"}},\"id\":\"90821021-c14c-42ec-bf7b-71d04ba1c7ad\",\"type\":\"LinearAxis\"},{\"attributes\":{\"callback\":null,\"column_names\":[\"line_color\",\"line_alpha\",\"color\",\"fill_alpha\",\"height\",\"width\",\"y\",\"x\",\"label\"],\"data\":{\"chart_index\":[{\"index\":\"5803\"}],\"color\":[\"purple\"],\"fill_alpha\":[0.8],\"height\":[28.0],\"index\":[\"5803\"],\"label\":[{\"index\":\"5803\"}],\"line_alpha\":[1.0],\"line_color\":[\"white\"],\"width\":[0.8],\"x\":[\"5803\"],\"y\":[14.0]}},\"id\":\"95115434-9880-41c5-9880-585344a92619\",\"type\":\"ColumnDataSource\"},{\"attributes\":{\"fill_alpha\":{\"field\":\"fill_alpha\"},\"fill_color\":{\"field\":\"color\"},\"height\":{\"field\":\"height\",\"units\":\"data\"},\"line_color\":{\"field\":\"line_color\"},\"width\":{\"field\":\"width\",\"units\":\"data\"},\"x\":{\"field\":\"x\"},\"y\":{\"field\":\"y\"}},\"id\":\"206f10e6-2a09-4447-b6df-d8a0327d675d\",\"type\":\"Rect\"},{\"attributes\":{\"fill_alpha\":{\"field\":\"fill_alpha\"},\"fill_color\":{\"field\":\"color\"},\"height\":{\"field\":\"height\",\"units\":\"data\"},\"line_color\":{\"field\":\"line_color\"},\"width\":{\"field\":\"width\",\"units\":\"data\"},\"x\":{\"field\":\"x\"},\"y\":{\"field\":\"y\"}},\"id\":\"aafab792-8dd9-4cbb-8f57-cb24aa9e9a6c\",\"type\":\"Rect\"},{\"attributes\":{\"data_source\":{\"id\":\"3d2189e6-3221-4a5f-a75f-fdbf7dbececa\",\"type\":\"ColumnDataSource\"},\"glyph\":{\"id\":\"3dc26c03-ca65-4c02-9260-e95e781ee223\",\"type\":\"Rect\"},\"hover_glyph\":null,\"nonselection_glyph\":null,\"selection_glyph\":null},\"id\":\"3c95604c-d942-4893-bd2c-6fb0f573b67d\",\"type\":\"GlyphRenderer\"},{\"attributes\":{\"data_source\":{\"id\":\"a2ea259d-fb70-4104-b2ba-a76fe31ef0da\",\"type\":\"ColumnDataSource\"},\"glyph\":{\"id\":\"2723191b-1384-431d-be1a-ff6badfeba1d\",\"type\":\"Rect\"},\"hover_glyph\":null,\"nonselection_glyph\":null,\"selection_glyph\":null},\"id\":\"ce547d69-c332-4158-a2fd-5916ed23b021\",\"type\":\"GlyphRenderer\"},{\"attributes\":{\"callback\":null,\"column_names\":[\"line_color\",\"line_alpha\",\"color\",\"fill_alpha\",\"height\",\"width\",\"y\",\"x\",\"label\"],\"data\":{\"chart_index\":[{\"index\":\"2412\"}],\"color\":[\"purple\"],\"fill_alpha\":[0.8],\"height\":[44.0],\"index\":[\"2412\"],\"label\":[{\"index\":\"2412\"}],\"line_alpha\":[1.0],\"line_color\":[\"white\"],\"width\":[0.8],\"x\":[\"2412\"],\"y\":[22.0]}},\"id\":\"4a4d8eeb-fef5-428d-9626-b62f5b7099ff\",\"type\":\"ColumnDataSource\"},{\"attributes\":{\"data_source\":{\"id\":\"a504eef3-2cc7-4a8c-9790-bf5882bd6d5a\",\"type\":\"ColumnDataSource\"},\"glyph\":{\"id\":\"aafab792-8dd9-4cbb-8f57-cb24aa9e9a6c\",\"type\":\"Rect\"},\"hover_glyph\":null,\"nonselection_glyph\":null,\"selection_glyph\":null},\"id\":\"9ecc75d6-46c9-4ad0-b3c8-568795281143\",\"type\":\"GlyphRenderer\"},{\"attributes\":{\"callback\":null,\"column_names\":[\"line_color\",\"line_alpha\",\"color\",\"fill_alpha\",\"height\",\"width\",\"y\",\"x\",\"label\"],\"data\":{\"chart_index\":[{\"index\":\"4911\"}],\"color\":[\"purple\"],\"fill_alpha\":[0.8],\"height\":[31.0],\"index\":[\"4911\"],\"label\":[{\"index\":\"4911\"}],\"line_alpha\":[1.0],\"line_color\":[\"white\"],\"width\":[0.8],\"x\":[\"4911\"],\"y\":[15.5]}},\"id\":\"369a30b2-b9a8-43c7-9733-9b21189ef617\",\"type\":\"ColumnDataSource\"},{\"attributes\":{\"plot\":null,\"text\":\"Total Gears Placed\"},\"id\":\"77158730-1509-4342-b741-bc39b963ce00\",\"type\":\"Title\"},{\"attributes\":{\"callback\":null,\"column_names\":[\"line_color\",\"line_alpha\",\"color\",\"fill_alpha\",\"height\",\"width\",\"y\",\"x\",\"label\"],\"data\":{\"chart_index\":[{\"index\":\"4089\"}],\"color\":[\"purple\"],\"fill_alpha\":[0.8],\"height\":[29.0],\"index\":[\"4089\"],\"label\":[{\"index\":\"4089\"}],\"line_alpha\":[1.0],\"line_color\":[\"white\"],\"width\":[0.8],\"x\":[\"4089\"],\"y\":[14.5]}},\"id\":\"1ec45b6e-5cec-4f73-a286-8d6d824bbbc1\",\"type\":\"ColumnDataSource\"},{\"attributes\":{\"plot\":{\"id\":\"848fe210-738e-4889-9d75-98c6378218fc\",\"subtype\":\"Chart\",\"type\":\"Plot\"}},\"id\":\"374a0c4f-d7ef-433d-b31a-5a7d2a5ffa2c\",\"type\":\"PanTool\"},{\"attributes\":{\"callback\":null,\"column_names\":[\"line_color\",\"line_alpha\",\"color\",\"fill_alpha\",\"height\",\"width\",\"y\",\"x\",\"label\"],\"data\":{\"chart_index\":[{\"index\":\"2930\"}],\"color\":[\"purple\"],\"fill_alpha\":[0.8],\"height\":[31.0],\"index\":[\"2930\"],\"label\":[{\"index\":\"2930\"}],\"line_alpha\":[1.0],\"line_color\":[\"white\"],\"width\":[0.8],\"x\":[\"2930\"],\"y\":[15.5]}},\"id\":\"e42dab4d-37ef-41f8-87b5-4ac9ccae0e6b\",\"type\":\"ColumnDataSource\"},{\"attributes\":{\"callback\":null,\"column_names\":[\"line_color\",\"line_alpha\",\"color\",\"fill_alpha\",\"height\",\"width\",\"y\",\"x\",\"label\"],\"data\":{\"chart_index\":[{\"index\":\"2903\"}],\"color\":[\"purple\"],\"fill_alpha\":[0.8],\"height\":[33.0],\"index\":[\"2903\"],\"label\":[{\"index\":\"2903\"}],\"line_alpha\":[1.0],\"line_color\":[\"white\"],\"width\":[0.8],\"x\":[\"2903\"],\"y\":[16.5]}},\"id\":\"3d2189e6-3221-4a5f-a75f-fdbf7dbececa\",\"type\":\"ColumnDataSource\"},{\"attributes\":{\"callback\":null,\"column_names\":[\"line_color\",\"line_alpha\",\"color\",\"fill_alpha\",\"height\",\"width\",\"y\",\"x\",\"label\"],\"data\":{\"chart_index\":[{\"index\":\"1778\"}],\"color\":[\"purple\"],\"fill_alpha\":[0.8],\"height\":[41.0],\"index\":[\"1778\"],\"label\":[{\"index\":\"1778\"}],\"line_alpha\":[1.0],\"line_color\":[\"white\"],\"width\":[0.8],\"x\":[\"1778\"],\"y\":[20.5]}},\"id\":\"9ec5f6bf-0200-47d5-baa7-059d45483bd0\",\"type\":\"ColumnDataSource\"},{\"attributes\":{\"fill_alpha\":{\"field\":\"fill_alpha\"},\"fill_color\":{\"field\":\"color\"},\"height\":{\"field\":\"height\",\"units\":\"data\"},\"line_color\":{\"field\":\"line_color\"},\"width\":{\"field\":\"width\",\"units\":\"data\"},\"x\":{\"field\":\"x\"},\"y\":{\"field\":\"y\"}},\"id\":\"178893ef-5cf8-4adf-a716-659226e6d25d\",\"type\":\"Rect\"},{\"attributes\":{\"fill_alpha\":{\"field\":\"fill_alpha\"},\"fill_color\":{\"field\":\"color\"},\"height\":{\"field\":\"height\",\"units\":\"data\"},\"line_color\":{\"field\":\"line_color\"},\"width\":{\"field\":\"width\",\"units\":\"data\"},\"x\":{\"field\":\"x\"},\"y\":{\"field\":\"y\"}},\"id\":\"03cfcde0-649d-4e61-ba03-61e3ddb6db64\",\"type\":\"Rect\"},{\"attributes\":{\"callback\":null,\"column_names\":[\"line_color\",\"line_alpha\",\"color\",\"fill_alpha\",\"height\",\"width\",\"y\",\"x\",\"label\"],\"data\":{\"chart_index\":[{\"index\":\"5827\"}],\"color\":[\"purple\"],\"fill_alpha\":[0.8],\"height\":[19.0],\"index\":[\"5827\"],\"label\":[{\"index\":\"5827\"}],\"line_alpha\":[1.0],\"line_color\":[\"white\"],\"width\":[0.8],\"x\":[\"5827\"],\"y\":[9.5]}},\"id\":\"5ce6f6f5-0caa-449b-a89c-52f313b7a6fc\",\"type\":\"ColumnDataSource\"},{\"attributes\":{\"data_source\":{\"id\":\"ea0684b7-a7cf-432e-bd0c-ec0a129bd553\",\"type\":\"ColumnDataSource\"},\"glyph\":{\"id\":\"98a95f87-cc68-42d5-b436-cd130898e60d\",\"type\":\"Rect\"},\"hover_glyph\":null,\"nonselection_glyph\":null,\"selection_glyph\":null},\"id\":\"eff4760f-a4b1-44b8-b659-a25a89ca45f2\",\"type\":\"GlyphRenderer\"},{\"attributes\":{\"fill_alpha\":{\"field\":\"fill_alpha\"},\"fill_color\":{\"field\":\"color\"},\"height\":{\"field\":\"height\",\"units\":\"data\"},\"line_color\":{\"field\":\"line_color\"},\"width\":{\"field\":\"width\",\"units\":\"data\"},\"x\":{\"field\":\"x\"},\"y\":{\"field\":\"y\"}},\"id\":\"d4c455e1-ea7b-4876-9185-044f2ce197a2\",\"type\":\"Rect\"},{\"attributes\":{\"callback\":null,\"column_names\":[\"line_color\",\"line_alpha\",\"color\",\"fill_alpha\",\"height\",\"width\",\"y\",\"x\",\"label\"],\"data\":{\"chart_index\":[{\"index\":\"5683\"}],\"color\":[\"purple\"],\"fill_alpha\":[0.8],\"height\":[10.0],\"index\":[\"5683\"],\"label\":[{\"index\":\"5683\"}],\"line_alpha\":[1.0],\"line_color\":[\"white\"],\"width\":[0.8],\"x\":[\"5683\"],\"y\":[5.0]}},\"id\":\"7c8d309f-9e05-45cd-8300-0d8646c1ba97\",\"type\":\"ColumnDataSource\"},{\"attributes\":{\"data_source\":{\"id\":\"1c5876e8-eb7f-408d-8fe3-7d4a9f2ddfb2\",\"type\":\"ColumnDataSource\"},\"glyph\":{\"id\":\"206f10e6-2a09-4447-b6df-d8a0327d675d\",\"type\":\"Rect\"},\"hover_glyph\":null,\"nonselection_glyph\":null,\"selection_glyph\":null},\"id\":\"f40dec33-f0b4-4947-85f4-0520b420fc95\",\"type\":\"GlyphRenderer\"},{\"attributes\":{\"data_source\":{\"id\":\"95115434-9880-41c5-9880-585344a92619\",\"type\":\"ColumnDataSource\"},\"glyph\":{\"id\":\"09be406b-46f7-4417-abed-2078583ad1a4\",\"type\":\"Rect\"},\"hover_glyph\":null,\"nonselection_glyph\":null,\"selection_glyph\":null},\"id\":\"4b92131d-1111-4b0a-839b-90f0e29baa0c\",\"type\":\"GlyphRenderer\"},{\"attributes\":{\"data_source\":{\"id\":\"fae7892c-8908-47b5-a784-ebd04f0dbdfc\",\"type\":\"ColumnDataSource\"},\"glyph\":{\"id\":\"7e33c9a4-c5bd-49a5-ab59-83ad91978990\",\"type\":\"Rect\"},\"hover_glyph\":null,\"nonselection_glyph\":null,\"selection_glyph\":null},\"id\":\"cb1ce900-a392-4888-b7ce-ffa1810b6321\",\"type\":\"GlyphRenderer\"},{\"attributes\":{\"callback\":null,\"column_names\":[\"line_color\",\"line_alpha\",\"color\",\"fill_alpha\",\"height\",\"width\",\"y\",\"x\",\"label\"],\"data\":{\"chart_index\":[{\"index\":\"949\"}],\"color\":[\"purple\"],\"fill_alpha\":[0.8],\"height\":[20.0],\"index\":[\"949\"],\"label\":[{\"index\":\"949\"}],\"line_alpha\":[1.0],\"line_color\":[\"white\"],\"width\":[0.8],\"x\":[\"949\"],\"y\":[10.0]}},\"id\":\"87f1daa4-f39b-45eb-a567-812b8a8d5919\",\"type\":\"ColumnDataSource\"},{\"attributes\":{\"data_source\":{\"id\":\"1ec45b6e-5cec-4f73-a286-8d6d824bbbc1\",\"type\":\"ColumnDataSource\"},\"glyph\":{\"id\":\"da11f191-a84e-4257-8a4b-6f0e0217bc04\",\"type\":\"Rect\"},\"hover_glyph\":null,\"nonselection_glyph\":null,\"selection_glyph\":null},\"id\":\"32424638-dddd-47f5-85a3-de257fedbae3\",\"type\":\"GlyphRenderer\"},{\"attributes\":{\"callback\":null,\"column_names\":[\"line_color\",\"line_alpha\",\"color\",\"fill_alpha\",\"height\",\"width\",\"y\",\"x\",\"label\"],\"data\":{\"chart_index\":[{\"index\":\"1983\"}],\"color\":[\"purple\"],\"fill_alpha\":[0.8],\"height\":[27.0],\"index\":[\"1983\"],\"label\":[{\"index\":\"1983\"}],\"line_alpha\":[1.0],\"line_color\":[\"white\"],\"width\":[0.8],\"x\":[\"1983\"],\"y\":[13.5]}},\"id\":\"ab8d49e2-c7be-4fb2-b6c1-e5535fef3a1c\",\"type\":\"ColumnDataSource\"},{\"attributes\":{\"callback\":null,\"column_names\":[\"line_color\",\"line_alpha\",\"color\",\"fill_alpha\",\"height\",\"width\",\"y\",\"x\",\"label\"],\"data\":{\"chart_index\":[{\"index\":\"4681\"}],\"color\":[\"purple\"],\"fill_alpha\":[0.8],\"height\":[37.0],\"index\":[\"4681\"],\"label\":[{\"index\":\"4681\"}],\"line_alpha\":[1.0],\"line_color\":[\"white\"],\"width\":[0.8],\"x\":[\"4681\"],\"y\":[18.5]}},\"id\":\"af981040-d832-47e6-98f1-70bf077868bd\",\"type\":\"ColumnDataSource\"},{\"attributes\":{\"fill_alpha\":{\"field\":\"fill_alpha\"},\"fill_color\":{\"field\":\"color\"},\"height\":{\"field\":\"height\",\"units\":\"data\"},\"line_color\":{\"field\":\"line_color\"},\"width\":{\"field\":\"width\",\"units\":\"data\"},\"x\":{\"field\":\"x\"},\"y\":{\"field\":\"y\"}},\"id\":\"a78a0c3e-b17a-49c1-8b39-4292b743de1a\",\"type\":\"Rect\"},{\"attributes\":{\"data_source\":{\"id\":\"af981040-d832-47e6-98f1-70bf077868bd\",\"type\":\"ColumnDataSource\"},\"glyph\":{\"id\":\"1d10661b-3e02-4b7f-a20a-ef4ec72147ea\",\"type\":\"Rect\"},\"hover_glyph\":null,\"nonselection_glyph\":null,\"selection_glyph\":null},\"id\":\"b3318662-3638-4571-bccd-72290b132e56\",\"type\":\"GlyphRenderer\"},{\"attributes\":{\"data_source\":{\"id\":\"369a30b2-b9a8-43c7-9733-9b21189ef617\",\"type\":\"ColumnDataSource\"},\"glyph\":{\"id\":\"03cfcde0-649d-4e61-ba03-61e3ddb6db64\",\"type\":\"Rect\"},\"hover_glyph\":null,\"nonselection_glyph\":null,\"selection_glyph\":null},\"id\":\"e98beb48-5081-47ab-9e0b-7af9a09f138d\",\"type\":\"GlyphRenderer\"},{\"attributes\":{},\"id\":\"c9409d5d-9927-423e-89a9-96d1ad9828de\",\"type\":\"BasicTickFormatter\"},{\"attributes\":{\"callback\":null,\"factors\":[\"3218\",\"4077\",\"1294\",\"3663\",\"2412\",\"4682\",\"1778\",\"2557\",\"4512\",\"4681\",\"5495\",\"1899\",\"5941\",\"2605\",\"3268\",\"2903\",\"2930\",\"4911\",\"2928\",\"2976\",\"2522\",\"4089\",\"4683\",\"5803\",\"1983\",\"492\",\"5748\",\"2555\",\"3070\",\"1318\",\"2910\",\"4915\",\"5588\",\"4469\",\"949\",\"5827\",\"5683\",\"4309\",\"6503\"]},\"id\":\"5a747f85-e0d5-4d75-b91b-287cc53aeedb\",\"type\":\"FactorRange\"},{\"attributes\":{\"data_source\":{\"id\":\"17d4cef2-139d-4681-ae63-cf9010328e3c\",\"type\":\"ColumnDataSource\"},\"glyph\":{\"id\":\"3df66240-b9b1-4b4b-a639-b7bfaf567406\",\"type\":\"Rect\"},\"hover_glyph\":null,\"nonselection_glyph\":null,\"selection_glyph\":null},\"id\":\"6917d631-2aae-480b-a40c-1fe746d00b76\",\"type\":\"GlyphRenderer\"},{\"attributes\":{\"data_source\":{\"id\":\"a3798d73-4844-4d52-aca1-5f1c67300c83\",\"type\":\"ColumnDataSource\"},\"glyph\":{\"id\":\"178893ef-5cf8-4adf-a716-659226e6d25d\",\"type\":\"Rect\"},\"hover_glyph\":null,\"nonselection_glyph\":null,\"selection_glyph\":null},\"id\":\"4ee5249b-4b9e-407a-9dbb-f09506ba28da\",\"type\":\"GlyphRenderer\"},{\"attributes\":{\"callback\":null,\"column_names\":[\"line_color\",\"line_alpha\",\"color\",\"fill_alpha\",\"height\",\"width\",\"y\",\"x\",\"label\"],\"data\":{\"chart_index\":[{\"index\":\"6503\"}],\"color\":[\"purple\"],\"fill_alpha\":[0.8],\"height\":[6.0],\"index\":[\"6503\"],\"label\":[{\"index\":\"6503\"}],\"line_alpha\":[1.0],\"line_color\":[\"white\"],\"width\":[0.8],\"x\":[\"6503\"],\"y\":[3.0]}},\"id\":\"a0ae0ac9-6582-427e-a99a-056cb2f1d136\",\"type\":\"ColumnDataSource\"},{\"attributes\":{\"callback\":null,\"column_names\":[\"line_color\",\"line_alpha\",\"color\",\"fill_alpha\",\"height\",\"width\",\"y\",\"x\",\"label\"],\"data\":{\"chart_index\":[{\"index\":\"3268\"}],\"color\":[\"purple\"],\"fill_alpha\":[0.8],\"height\":[34.0],\"index\":[\"3268\"],\"label\":[{\"index\":\"3268\"}],\"line_alpha\":[1.0],\"line_color\":[\"white\"],\"width\":[0.8],\"x\":[\"3268\"],\"y\":[17.0]}},\"id\":\"8a72399f-f814-46a7-af42-9d6f65bfb6d2\",\"type\":\"ColumnDataSource\"},{\"attributes\":{\"data_source\":{\"id\":\"87f1daa4-f39b-45eb-a567-812b8a8d5919\",\"type\":\"ColumnDataSource\"},\"glyph\":{\"id\":\"62d670d6-c15e-4016-b26d-a48c51148df9\",\"type\":\"Rect\"},\"hover_glyph\":null,\"nonselection_glyph\":null,\"selection_glyph\":null},\"id\":\"26aba8bc-3eda-4ee2-b784-b7914501cccb\",\"type\":\"GlyphRenderer\"},{\"attributes\":{\"data_source\":{\"id\":\"5853b7fd-a2d9-4433-bc9b-9104bf4048b8\",\"type\":\"ColumnDataSource\"},\"glyph\":{\"id\":\"29e37bf7-63f2-4a0f-a7fd-11d9f5463820\",\"type\":\"Rect\"},\"hover_glyph\":null,\"nonselection_glyph\":null,\"selection_glyph\":null},\"id\":\"ee7a56c1-a8d9-41df-a020-73a087c0d540\",\"type\":\"GlyphRenderer\"},{\"attributes\":{\"data_source\":{\"id\":\"c9679ecf-d242-4f03-a95f-212c820fd2cd\",\"type\":\"ColumnDataSource\"},\"glyph\":{\"id\":\"8bbbdf36-22dd-4998-ab9e-f31855deb772\",\"type\":\"Rect\"},\"hover_glyph\":null,\"nonselection_glyph\":null,\"selection_glyph\":null},\"id\":\"35f4b46b-6f29-4cad-a9cd-c79a5763fc00\",\"type\":\"GlyphRenderer\"},{\"attributes\":{\"callback\":null,\"column_names\":[\"line_color\",\"line_alpha\",\"color\",\"fill_alpha\",\"height\",\"width\",\"y\",\"x\",\"label\"],\"data\":{\"chart_index\":[{\"index\":\"2522\"}],\"color\":[\"purple\"],\"fill_alpha\":[0.8],\"height\":[30.0],\"index\":[\"2522\"],\"label\":[{\"index\":\"2522\"}],\"line_alpha\":[1.0],\"line_color\":[\"white\"],\"width\":[0.8],\"x\":[\"2522\"],\"y\":[15.0]}},\"id\":\"1c5876e8-eb7f-408d-8fe3-7d4a9f2ddfb2\",\"type\":\"ColumnDataSource\"},{\"attributes\":{\"plot\":{\"id\":\"848fe210-738e-4889-9d75-98c6378218fc\",\"subtype\":\"Chart\",\"type\":\"Plot\"}},\"id\":\"aff64784-da59-4421-80f6-ee8a6fd8da1c\",\"type\":\"SaveTool\"},{\"attributes\":{\"data_source\":{\"id\":\"ab8d49e2-c7be-4fb2-b6c1-e5535fef3a1c\",\"type\":\"ColumnDataSource\"},\"glyph\":{\"id\":\"189a5da2-6548-4895-807f-423b8b695c73\",\"type\":\"Rect\"},\"hover_glyph\":null,\"nonselection_glyph\":null,\"selection_glyph\":null},\"id\":\"91e0ea3c-343b-4803-b50a-474e860539bb\",\"type\":\"GlyphRenderer\"},{\"attributes\":{\"fill_alpha\":{\"field\":\"fill_alpha\"},\"fill_color\":{\"field\":\"color\"},\"height\":{\"field\":\"height\",\"units\":\"data\"},\"line_color\":{\"field\":\"line_color\"},\"width\":{\"field\":\"width\",\"units\":\"data\"},\"x\":{\"field\":\"x\"},\"y\":{\"field\":\"y\"}},\"id\":\"7e33c9a4-c5bd-49a5-ab59-83ad91978990\",\"type\":\"Rect\"},{\"attributes\":{\"bottom_units\":\"screen\",\"fill_alpha\":{\"value\":0.5},\"fill_color\":{\"value\":\"lightgrey\"},\"left_units\":\"screen\",\"level\":\"overlay\",\"line_alpha\":{\"value\":1.0},\"line_color\":{\"value\":\"black\"},\"line_dash\":[4,4],\"line_width\":{\"value\":2},\"plot\":null,\"render_mode\":\"css\",\"right_units\":\"screen\",\"top_units\":\"screen\"},\"id\":\"56c770d2-fa59-4fd1-8897-2943470b146c\",\"type\":\"BoxAnnotation\"},{\"attributes\":{\"fill_alpha\":{\"field\":\"fill_alpha\"},\"fill_color\":{\"field\":\"color\"},\"height\":{\"field\":\"height\",\"units\":\"data\"},\"line_color\":{\"field\":\"line_color\"},\"width\":{\"field\":\"width\",\"units\":\"data\"},\"x\":{\"field\":\"x\"},\"y\":{\"field\":\"y\"}},\"id\":\"d9da5c8a-1054-401f-8bd3-486004d05ad7\",\"type\":\"Rect\"},{\"attributes\":{\"data_source\":{\"id\":\"5cc4e9f0-e1e1-40be-8f2c-0699b232dcda\",\"type\":\"ColumnDataSource\"},\"glyph\":{\"id\":\"7ba4a3de-9d7c-4d13-98e3-3be224a9935f\",\"type\":\"Rect\"},\"hover_glyph\":null,\"nonselection_glyph\":null,\"selection_glyph\":null},\"id\":\"509b5829-b62f-4642-a893-9e50f900cd55\",\"type\":\"GlyphRenderer\"},{\"attributes\":{\"callback\":null,\"column_names\":[\"line_color\",\"line_alpha\",\"color\",\"fill_alpha\",\"height\",\"width\",\"y\",\"x\",\"label\"],\"data\":{\"chart_index\":[{\"index\":\"4512\"}],\"color\":[\"purple\"],\"fill_alpha\":[0.8],\"height\":[39.0],\"index\":[\"4512\"],\"label\":[{\"index\":\"4512\"}],\"line_alpha\":[1.0],\"line_color\":[\"white\"],\"width\":[0.8],\"x\":[\"4512\"],\"y\":[19.5]}},\"id\":\"5cc4e9f0-e1e1-40be-8f2c-0699b232dcda\",\"type\":\"ColumnDataSource\"},{\"attributes\":{\"dimension\":1,\"plot\":{\"id\":\"848fe210-738e-4889-9d75-98c6378218fc\",\"subtype\":\"Chart\",\"type\":\"Plot\"},\"ticker\":{\"id\":\"479a6013-35d0-4f4b-88e3-8939a5f77d29\",\"type\":\"BasicTicker\"}},\"id\":\"527e7c7f-66f7-458a-819a-0d4bac7b3d07\",\"type\":\"Grid\"},{\"attributes\":{\"fill_alpha\":{\"field\":\"fill_alpha\"},\"fill_color\":{\"field\":\"color\"},\"height\":{\"field\":\"height\",\"units\":\"data\"},\"line_color\":{\"field\":\"line_color\"},\"width\":{\"field\":\"width\",\"units\":\"data\"},\"x\":{\"field\":\"x\"},\"y\":{\"field\":\"y\"}},\"id\":\"b2b07163-c975-4b0f-9f55-13545fb3c8fe\",\"type\":\"Rect\"},{\"attributes\":{\"active_drag\":\"auto\",\"active_scroll\":\"auto\",\"active_tap\":\"auto\",\"tools\":[{\"id\":\"374a0c4f-d7ef-433d-b31a-5a7d2a5ffa2c\",\"type\":\"PanTool\"},{\"id\":\"27730e19-1e3b-4ad8-be0f-20de81bd7436\",\"type\":\"WheelZoomTool\"},{\"id\":\"daf86b10-7c6c-4b16-a305-01843aac5565\",\"type\":\"BoxZoomTool\"},{\"id\":\"aff64784-da59-4421-80f6-ee8a6fd8da1c\",\"type\":\"SaveTool\"},{\"id\":\"709b8fab-9cd1-4034-b1be-1cf770ae6566\",\"type\":\"ResetTool\"},{\"id\":\"74f575a3-2bf0-4fc5-acac-06df8f1a64e9\",\"type\":\"HelpTool\"}]},\"id\":\"84dcb718-cba3-425d-a80d-c8e8b75010a8\",\"type\":\"Toolbar\"},{\"attributes\":{\"callback\":null,\"column_names\":[\"line_color\",\"line_alpha\",\"color\",\"fill_alpha\",\"height\",\"width\",\"y\",\"x\",\"label\"],\"data\":{\"chart_index\":[{\"index\":\"2928\"}],\"color\":[\"purple\"],\"fill_alpha\":[0.8],\"height\":[31.0],\"index\":[\"2928\"],\"label\":[{\"index\":\"2928\"}],\"line_alpha\":[1.0],\"line_color\":[\"white\"],\"width\":[0.8],\"x\":[\"2928\"],\"y\":[15.5]}},\"id\":\"ea0684b7-a7cf-432e-bd0c-ec0a129bd553\",\"type\":\"ColumnDataSource\"},{\"attributes\":{},\"id\":\"dbb00edb-6eb8-4bb3-9195-fb50e33afe64\",\"type\":\"CategoricalTickFormatter\"},{\"attributes\":{},\"id\":\"479a6013-35d0-4f4b-88e3-8939a5f77d29\",\"type\":\"BasicTicker\"},{\"attributes\":{\"callback\":null,\"column_names\":[\"line_color\",\"line_alpha\",\"color\",\"fill_alpha\",\"height\",\"width\",\"y\",\"x\",\"label\"],\"data\":{\"chart_index\":[{\"index\":\"5748\"}],\"color\":[\"purple\"],\"fill_alpha\":[0.8],\"height\":[27.0],\"index\":[\"5748\"],\"label\":[{\"index\":\"5748\"}],\"line_alpha\":[1.0],\"line_color\":[\"white\"],\"width\":[0.8],\"x\":[\"5748\"],\"y\":[13.5]}},\"id\":\"303f8cde-2692-40e2-bd7e-34b89bd233fd\",\"type\":\"ColumnDataSource\"},{\"attributes\":{\"fill_alpha\":{\"field\":\"fill_alpha\"},\"fill_color\":{\"field\":\"color\"},\"height\":{\"field\":\"height\",\"units\":\"data\"},\"line_color\":{\"field\":\"line_color\"},\"width\":{\"field\":\"width\",\"units\":\"data\"},\"x\":{\"field\":\"x\"},\"y\":{\"field\":\"y\"}},\"id\":\"62d670d6-c15e-4016-b26d-a48c51148df9\",\"type\":\"Rect\"},{\"attributes\":{\"data_source\":{\"id\":\"8d03d473-b5e5-4b2e-8c82-a8592766a67f\",\"type\":\"ColumnDataSource\"},\"glyph\":{\"id\":\"a78a0c3e-b17a-49c1-8b39-4292b743de1a\",\"type\":\"Rect\"},\"hover_glyph\":null,\"nonselection_glyph\":null,\"selection_glyph\":null},\"id\":\"b8c93ef3-3ca3-480b-bbab-eb90a84537cb\",\"type\":\"GlyphRenderer\"},{\"attributes\":{\"fill_alpha\":{\"field\":\"fill_alpha\"},\"fill_color\":{\"field\":\"color\"},\"height\":{\"field\":\"height\",\"units\":\"data\"},\"line_color\":{\"field\":\"line_color\"},\"width\":{\"field\":\"width\",\"units\":\"data\"},\"x\":{\"field\":\"x\"},\"y\":{\"field\":\"y\"}},\"id\":\"367eadc0-7c3a-456c-b60c-0855a88ad109\",\"type\":\"Rect\"},{\"attributes\":{\"data_source\":{\"id\":\"e42dab4d-37ef-41f8-87b5-4ac9ccae0e6b\",\"type\":\"ColumnDataSource\"},\"glyph\":{\"id\":\"aff96423-d2a0-4444-b2c4-cb91ccb88f5d\",\"type\":\"Rect\"},\"hover_glyph\":null,\"nonselection_glyph\":null,\"selection_glyph\":null},\"id\":\"ede18fa9-051a-4c2a-a003-d367d6ed8168\",\"type\":\"GlyphRenderer\"},{\"attributes\":{\"callback\":null,\"column_names\":[\"line_color\",\"line_alpha\",\"color\",\"fill_alpha\",\"height\",\"width\",\"y\",\"x\",\"label\"],\"data\":{\"chart_index\":[{\"index\":\"2557\"}],\"color\":[\"purple\"],\"fill_alpha\":[0.8],\"height\":[40.0],\"index\":[\"2557\"],\"label\":[{\"index\":\"2557\"}],\"line_alpha\":[1.0],\"line_color\":[\"white\"],\"width\":[0.8],\"x\":[\"2557\"],\"y\":[20.0]}},\"id\":\"a2ea259d-fb70-4104-b2ba-a76fe31ef0da\",\"type\":\"ColumnDataSource\"},{\"attributes\":{\"fill_alpha\":{\"field\":\"fill_alpha\"},\"fill_color\":{\"field\":\"color\"},\"height\":{\"field\":\"height\",\"units\":\"data\"},\"line_color\":{\"field\":\"line_color\"},\"width\":{\"field\":\"width\",\"units\":\"data\"},\"x\":{\"field\":\"x\"},\"y\":{\"field\":\"y\"}},\"id\":\"09be406b-46f7-4417-abed-2078583ad1a4\",\"type\":\"Rect\"},{\"attributes\":{\"fill_alpha\":{\"field\":\"fill_alpha\"},\"fill_color\":{\"field\":\"color\"},\"height\":{\"field\":\"height\",\"units\":\"data\"},\"line_color\":{\"field\":\"line_color\"},\"width\":{\"field\":\"width\",\"units\":\"data\"},\"x\":{\"field\":\"x\"},\"y\":{\"field\":\"y\"}},\"id\":\"8f996ccf-ab29-434d-9786-5ea0baafdf1d\",\"type\":\"Rect\"},{\"attributes\":{\"callback\":null,\"column_names\":[\"line_color\",\"line_alpha\",\"color\",\"fill_alpha\",\"height\",\"width\",\"y\",\"x\",\"label\"],\"data\":{\"chart_index\":[{\"index\":\"4915\"}],\"color\":[\"purple\"],\"fill_alpha\":[0.8],\"height\":[23.0],\"index\":[\"4915\"],\"label\":[{\"index\":\"4915\"}],\"line_alpha\":[1.0],\"line_color\":[\"white\"],\"width\":[0.8],\"x\":[\"4915\"],\"y\":[11.5]}},\"id\":\"5853b7fd-a2d9-4433-bc9b-9104bf4048b8\",\"type\":\"ColumnDataSource\"},{\"attributes\":{\"fill_alpha\":{\"field\":\"fill_alpha\"},\"fill_color\":{\"field\":\"color\"},\"height\":{\"field\":\"height\",\"units\":\"data\"},\"line_color\":{\"field\":\"line_color\"},\"width\":{\"field\":\"width\",\"units\":\"data\"},\"x\":{\"field\":\"x\"},\"y\":{\"field\":\"y\"}},\"id\":\"fbda399c-d30f-44a0-be85-b396c2b90ff3\",\"type\":\"Rect\"},{\"attributes\":{\"data_source\":{\"id\":\"a0ae0ac9-6582-427e-a99a-056cb2f1d136\",\"type\":\"ColumnDataSource\"},\"glyph\":{\"id\":\"fa90a3e6-0312-42ec-9104-0afdcaccc069\",\"type\":\"Rect\"},\"hover_glyph\":null,\"nonselection_glyph\":null,\"selection_glyph\":null},\"id\":\"65c3dc6b-1ec8-4fda-b7df-fac44b880ad6\",\"type\":\"GlyphRenderer\"},{\"attributes\":{\"callback\":null,\"column_names\":[\"line_color\",\"line_alpha\",\"color\",\"fill_alpha\",\"height\",\"width\",\"y\",\"x\",\"label\"],\"data\":{\"chart_index\":[{\"index\":\"2976\"}],\"color\":[\"purple\"],\"fill_alpha\":[0.8],\"height\":[31.0],\"index\":[\"2976\"],\"label\":[{\"index\":\"2976\"}],\"line_alpha\":[1.0],\"line_color\":[\"white\"],\"width\":[0.8],\"x\":[\"2976\"],\"y\":[15.5]}},\"id\":\"3a297cb9-eea4-4608-bbf9-b03ee52d3e29\",\"type\":\"ColumnDataSource\"},{\"attributes\":{\"fill_alpha\":{\"field\":\"fill_alpha\"},\"fill_color\":{\"field\":\"color\"},\"height\":{\"field\":\"height\",\"units\":\"data\"},\"line_color\":{\"field\":\"line_color\"},\"width\":{\"field\":\"width\",\"units\":\"data\"},\"x\":{\"field\":\"x\"},\"y\":{\"field\":\"y\"}},\"id\":\"306285bf-21bd-4a0b-876e-b92a88688f24\",\"type\":\"Rect\"},{\"attributes\":{\"callback\":null,\"end\":82.95},\"id\":\"e13e328b-61f8-4b85-b672-5bb40ab94323\",\"type\":\"Range1d\"},{\"attributes\":{\"fill_alpha\":{\"field\":\"fill_alpha\"},\"fill_color\":{\"field\":\"color\"},\"height\":{\"field\":\"height\",\"units\":\"data\"},\"line_color\":{\"field\":\"line_color\"},\"width\":{\"field\":\"width\",\"units\":\"data\"},\"x\":{\"field\":\"x\"},\"y\":{\"field\":\"y\"}},\"id\":\"00e7a47e-a2a9-4d06-b9d3-405c83ef2b04\",\"type\":\"Rect\"},{\"attributes\":{\"data_source\":{\"id\":\"3a297cb9-eea4-4608-bbf9-b03ee52d3e29\",\"type\":\"ColumnDataSource\"},\"glyph\":{\"id\":\"d4c455e1-ea7b-4876-9185-044f2ce197a2\",\"type\":\"Rect\"},\"hover_glyph\":null,\"nonselection_glyph\":null,\"selection_glyph\":null},\"id\":\"f062ee72-07f7-4870-8185-238505f306cc\",\"type\":\"GlyphRenderer\"},{\"attributes\":{\"overlay\":{\"id\":\"56c770d2-fa59-4fd1-8897-2943470b146c\",\"type\":\"BoxAnnotation\"},\"plot\":{\"id\":\"848fe210-738e-4889-9d75-98c6378218fc\",\"subtype\":\"Chart\",\"type\":\"Plot\"}},\"id\":\"daf86b10-7c6c-4b16-a305-01843aac5565\",\"type\":\"BoxZoomTool\"},{\"attributes\":{\"callback\":null,\"column_names\":[\"line_color\",\"line_alpha\",\"color\",\"fill_alpha\",\"height\",\"width\",\"y\",\"x\",\"label\"],\"data\":{\"chart_index\":[{\"index\":\"1899\"}],\"color\":[\"purple\"],\"fill_alpha\":[0.8],\"height\":[36.0],\"index\":[\"1899\"],\"label\":[{\"index\":\"1899\"}],\"line_alpha\":[1.0],\"line_color\":[\"white\"],\"width\":[0.8],\"x\":[\"1899\"],\"y\":[18.0]}},\"id\":\"8d03d473-b5e5-4b2e-8c82-a8592766a67f\",\"type\":\"ColumnDataSource\"},{\"attributes\":{\"fill_alpha\":{\"field\":\"fill_alpha\"},\"fill_color\":{\"field\":\"color\"},\"height\":{\"field\":\"height\",\"units\":\"data\"},\"line_color\":{\"field\":\"line_color\"},\"width\":{\"field\":\"width\",\"units\":\"data\"},\"x\":{\"field\":\"x\"},\"y\":{\"field\":\"y\"}},\"id\":\"3dc26c03-ca65-4c02-9260-e95e781ee223\",\"type\":\"Rect\"},{\"attributes\":{\"formatter\":{\"id\":\"dbb00edb-6eb8-4bb3-9195-fb50e33afe64\",\"type\":\"CategoricalTickFormatter\"},\"major_label_orientation\":0.7853981633974483,\"plot\":{\"id\":\"848fe210-738e-4889-9d75-98c6378218fc\",\"subtype\":\"Chart\",\"type\":\"Plot\"},\"ticker\":{\"id\":\"8c7514ff-2183-4954-b8e4-91696d47fabb\",\"type\":\"CategoricalTicker\"}},\"id\":\"71366bc5-35dc-45f3-aaac-b67003124d5a\",\"type\":\"CategoricalAxis\"},{\"attributes\":{\"callback\":null,\"column_names\":[\"line_color\",\"line_alpha\",\"color\",\"fill_alpha\",\"height\",\"width\",\"y\",\"x\",\"label\"],\"data\":{\"chart_index\":[{\"index\":\"3070\"}],\"color\":[\"purple\"],\"fill_alpha\":[0.8],\"height\":[26.0],\"index\":[\"3070\"],\"label\":[{\"index\":\"3070\"}],\"line_alpha\":[1.0],\"line_color\":[\"white\"],\"width\":[0.8],\"x\":[\"3070\"],\"y\":[13.0]}},\"id\":\"e37b79a4-533a-4eaf-b9bf-ecf2e8f0c518\",\"type\":\"ColumnDataSource\"},{\"attributes\":{\"fill_alpha\":{\"field\":\"fill_alpha\"},\"fill_color\":{\"field\":\"color\"},\"height\":{\"field\":\"height\",\"units\":\"data\"},\"line_color\":{\"field\":\"line_color\"},\"width\":{\"field\":\"width\",\"units\":\"data\"},\"x\":{\"field\":\"x\"},\"y\":{\"field\":\"y\"}},\"id\":\"8dba3a2e-0005-4a0c-aac4-2908541ca466\",\"type\":\"Rect\"},{\"attributes\":{\"callback\":null,\"column_names\":[\"line_color\",\"line_alpha\",\"color\",\"fill_alpha\",\"height\",\"width\",\"y\",\"x\",\"label\"],\"data\":{\"chart_index\":[{\"index\":\"3663\"}],\"color\":[\"purple\"],\"fill_alpha\":[0.8],\"height\":[46.0],\"index\":[\"3663\"],\"label\":[{\"index\":\"3663\"}],\"line_alpha\":[1.0],\"line_color\":[\"white\"],\"width\":[0.8],\"x\":[\"3663\"],\"y\":[23.0]}},\"id\":\"f961da17-b295-4fdb-885d-d6189596b3a5\",\"type\":\"ColumnDataSource\"},{\"attributes\":{\"data_source\":{\"id\":\"e37b79a4-533a-4eaf-b9bf-ecf2e8f0c518\",\"type\":\"ColumnDataSource\"},\"glyph\":{\"id\":\"d884c8c0-fe93-4022-a325-ca270369833d\",\"type\":\"Rect\"},\"hover_glyph\":null,\"nonselection_glyph\":null,\"selection_glyph\":null},\"id\":\"09749dba-eecd-413d-bd5f-657ce11e9756\",\"type\":\"GlyphRenderer\"},{\"attributes\":{\"callback\":null,\"column_names\":[\"line_color\",\"line_alpha\",\"color\",\"fill_alpha\",\"height\",\"width\",\"y\",\"x\",\"label\"],\"data\":{\"chart_index\":[{\"index\":\"5495\"}],\"color\":[\"purple\"],\"fill_alpha\":[0.8],\"height\":[36.0],\"index\":[\"5495\"],\"label\":[{\"index\":\"5495\"}],\"line_alpha\":[1.0],\"line_color\":[\"white\"],\"width\":[0.8],\"x\":[\"5495\"],\"y\":[18.0]}},\"id\":\"e79b68e0-f8d2-47db-b2d3-e435be8b7c0b\",\"type\":\"ColumnDataSource\"},{\"attributes\":{\"fill_alpha\":{\"field\":\"fill_alpha\"},\"fill_color\":{\"field\":\"color\"},\"height\":{\"field\":\"height\",\"units\":\"data\"},\"line_color\":{\"field\":\"line_color\"},\"width\":{\"field\":\"width\",\"units\":\"data\"},\"x\":{\"field\":\"x\"},\"y\":{\"field\":\"y\"}},\"id\":\"98a95f87-cc68-42d5-b436-cd130898e60d\",\"type\":\"Rect\"},{\"attributes\":{\"data_source\":{\"id\":\"4b5c7c74-2087-48cc-b184-662dea0088ad\",\"type\":\"ColumnDataSource\"},\"glyph\":{\"id\":\"367eadc0-7c3a-456c-b60c-0855a88ad109\",\"type\":\"Rect\"},\"hover_glyph\":null,\"nonselection_glyph\":null,\"selection_glyph\":null},\"id\":\"a90a9cb9-5471-40ab-8721-73077eba6368\",\"type\":\"GlyphRenderer\"},{\"attributes\":{},\"id\":\"ba897a30-a48c-4038-9581-6538ed19f8c0\",\"type\":\"ToolEvents\"},{\"attributes\":{\"fill_alpha\":{\"field\":\"fill_alpha\"},\"fill_color\":{\"field\":\"color\"},\"height\":{\"field\":\"height\",\"units\":\"data\"},\"line_color\":{\"field\":\"line_color\"},\"width\":{\"field\":\"width\",\"units\":\"data\"},\"x\":{\"field\":\"x\"},\"y\":{\"field\":\"y\"}},\"id\":\"be477dfb-ba42-455c-8df0-5606c7e48e50\",\"type\":\"Rect\"},{\"attributes\":{\"fill_alpha\":{\"field\":\"fill_alpha\"},\"fill_color\":{\"field\":\"color\"},\"height\":{\"field\":\"height\",\"units\":\"data\"},\"line_color\":{\"field\":\"line_color\"},\"width\":{\"field\":\"width\",\"units\":\"data\"},\"x\":{\"field\":\"x\"},\"y\":{\"field\":\"y\"}},\"id\":\"2d61817d-b70e-47f3-97b4-130ed4e3d22a\",\"type\":\"Rect\"},{\"attributes\":{\"plot\":{\"id\":\"848fe210-738e-4889-9d75-98c6378218fc\",\"subtype\":\"Chart\",\"type\":\"Plot\"}},\"id\":\"27730e19-1e3b-4ad8-be0f-20de81bd7436\",\"type\":\"WheelZoomTool\"},{\"attributes\":{\"fill_alpha\":{\"field\":\"fill_alpha\"},\"fill_color\":{\"field\":\"color\"},\"height\":{\"field\":\"height\",\"units\":\"data\"},\"line_color\":{\"field\":\"line_color\"},\"width\":{\"field\":\"width\",\"units\":\"data\"},\"x\":{\"field\":\"x\"},\"y\":{\"field\":\"y\"}},\"id\":\"d884c8c0-fe93-4022-a325-ca270369833d\",\"type\":\"Rect\"},{\"attributes\":{\"fill_alpha\":{\"field\":\"fill_alpha\"},\"fill_color\":{\"field\":\"color\"},\"height\":{\"field\":\"height\",\"units\":\"data\"},\"line_color\":{\"field\":\"line_color\"},\"width\":{\"field\":\"width\",\"units\":\"data\"},\"x\":{\"field\":\"x\"},\"y\":{\"field\":\"y\"}},\"id\":\"1d10661b-3e02-4b7f-a20a-ef4ec72147ea\",\"type\":\"Rect\"},{\"attributes\":{\"data_source\":{\"id\":\"303f8cde-2692-40e2-bd7e-34b89bd233fd\",\"type\":\"ColumnDataSource\"},\"glyph\":{\"id\":\"e2328bcc-26c7-40db-8566-1d144fc5bd1e\",\"type\":\"Rect\"},\"hover_glyph\":null,\"nonselection_glyph\":null,\"selection_glyph\":null},\"id\":\"4fdfc130-4418-4c64-b6ff-1fd7b813f2f7\",\"type\":\"GlyphRenderer\"},{\"attributes\":{\"callback\":null,\"column_names\":[\"line_color\",\"line_alpha\",\"color\",\"fill_alpha\",\"height\",\"width\",\"y\",\"x\",\"label\"],\"data\":{\"chart_index\":[{\"index\":\"1318\"}],\"color\":[\"purple\"],\"fill_alpha\":[0.8],\"height\":[25.0],\"index\":[\"1318\"],\"label\":[{\"index\":\"1318\"}],\"line_alpha\":[1.0],\"line_color\":[\"white\"],\"width\":[0.8],\"x\":[\"1318\"],\"y\":[12.5]}},\"id\":\"ab778ba6-68a6-4b23-981d-fb9994187cbb\",\"type\":\"ColumnDataSource\"},{\"attributes\":{\"fill_alpha\":{\"field\":\"fill_alpha\"},\"fill_color\":{\"field\":\"color\"},\"height\":{\"field\":\"height\",\"units\":\"data\"},\"line_color\":{\"field\":\"line_color\"},\"width\":{\"field\":\"width\",\"units\":\"data\"},\"x\":{\"field\":\"x\"},\"y\":{\"field\":\"y\"}},\"id\":\"29e37bf7-63f2-4a0f-a7fd-11d9f5463820\",\"type\":\"Rect\"}],\"root_ids\":[\"848fe210-738e-4889-9d75-98c6378218fc\"]},\"title\":\"Bokeh Application\",\"version\":\"0.12.4\"}};\n",
       "            var render_items = [{\"docid\":\"c83a66ce-2274-445a-aa8d-dd43ae528aa5\",\"elementid\":\"064e5d41-5469-48e2-b232-eb3defde4c31\",\"modelid\":\"848fe210-738e-4889-9d75-98c6378218fc\"}];\n",
       "            \n",
       "            Bokeh.embed.embed_items(docs_json, render_items);\n",
       "          };\n",
       "          if (document.readyState != \"loading\") fn();\n",
       "          else document.addEventListener(\"DOMContentLoaded\", fn);\n",
       "        })();\n",
       "      },\n",
       "      function(Bokeh) {\n",
       "      }\n",
       "    ];\n",
       "  \n",
       "    function run_inline_js() {\n",
       "      \n",
       "      if ((window.Bokeh !== undefined) || (force === true)) {\n",
       "        for (var i = 0; i < inline_js.length; i++) {\n",
       "          inline_js[i](window.Bokeh);\n",
       "        }if (force === true) {\n",
       "          display_loaded();\n",
       "        }} else if (Date.now() < window._bokeh_timeout) {\n",
       "        setTimeout(run_inline_js, 100);\n",
       "      } else if (!window._bokeh_failed_load) {\n",
       "        console.log(\"Bokeh: BokehJS failed to load within specified timeout.\");\n",
       "        window._bokeh_failed_load = true;\n",
       "      } else if (force !== true) {\n",
       "        var cell = $(document.getElementById(\"064e5d41-5469-48e2-b232-eb3defde4c31\")).parents('.cell').data().cell;\n",
       "        cell.output_area.append_execute_result(NB_LOAD_WARNING)\n",
       "      }\n",
       "  \n",
       "    }\n",
       "  \n",
       "    if (window._bokeh_is_loading === 0) {\n",
       "      console.log(\"Bokeh: BokehJS loaded, going straight to plotting\");\n",
       "      run_inline_js();\n",
       "    } else {\n",
       "      load_libs(js_urls, function() {\n",
       "        console.log(\"Bokeh: BokehJS plotting callback run at\", now());\n",
       "        run_inline_js();\n",
       "      });\n",
       "    }\n",
       "  }(this));\n",
       "</script>"
      ]
     },
     "metadata": {},
     "output_type": "display_data"
    }
   ],
   "source": [
    "# Create summary data frame for placing gears\n",
    "gears_df = measures.query(\"task == 'climbRope'\").query(\"phase == 'finish'\").groupby('team').sum()\n",
    "gears_df = gears_df.sort_values('successes', ascending = False)\n",
    "\n",
    "# Create gears chart in Bokeh\n",
    "gears_chart = bc.Bar(gears_df, values = 'successes', label = bca.cat(sort = False), legend = None, color = 'purple',\n",
    "                    title = 'Total Gears Placed', ylabel = \"Gears Placed\")\n",
    "bc.output_file('web/data/gears_chart.html')\n",
    "bc.show(gears_chart)"
   ]
  },
  {
   "cell_type": "code",
   "execution_count": null,
   "metadata": {
    "collapsed": true
   },
   "outputs": [],
   "source": []
  }
 ],
 "metadata": {
  "kernelspec": {
   "display_name": "Python 2",
   "language": "python",
   "name": "python2"
  },
  "language_info": {
   "codemirror_mode": {
    "name": "ipython",
    "version": 2
   },
   "file_extension": ".py",
   "mimetype": "text/x-python",
   "name": "python",
   "nbconvert_exporter": "python",
   "pygments_lexer": "ipython2",
   "version": "2.7.13"
  }
 },
 "nbformat": 4,
 "nbformat_minor": 0
}
