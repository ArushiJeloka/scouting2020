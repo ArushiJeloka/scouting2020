{
 "cells": [
  {
   "cell_type": "code",
   "execution_count": 1,
   "metadata": {},
   "outputs": [],
   "source": [
    "import sqlalchemy\n",
    "import pandas as pd\n",
    "import server.model.connection as smc\n",
    "import server.view.dataframes as smd"
   ]
  },
  {
   "cell_type": "code",
   "execution_count": 2,
   "metadata": {},
   "outputs": [],
   "source": [
    "conn = smc.engine.connect()"
   ]
  },
  {
   "cell_type": "code",
   "execution_count": 5,
   "metadata": {},
   "outputs": [
    {
     "data": {
      "text/html": [
       "<div>\n",
       "<style scoped>\n",
       "    .dataframe tbody tr th:only-of-type {\n",
       "        vertical-align: middle;\n",
       "    }\n",
       "\n",
       "    .dataframe tbody tr th {\n",
       "        vertical-align: top;\n",
       "    }\n",
       "\n",
       "    .dataframe thead th {\n",
       "        text-align: right;\n",
       "    }\n",
       "</style>\n",
       "<table border=\"1\" class=\"dataframe\">\n",
       "  <thead>\n",
       "    <tr style=\"text-align: right;\">\n",
       "      <th></th>\n",
       "      <th>event_id</th>\n",
       "      <th>match</th>\n",
       "      <th>date</th>\n",
       "    </tr>\n",
       "  </thead>\n",
       "  <tbody>\n",
       "    <tr>\n",
       "      <th>0</th>\n",
       "      <td>25137</td>\n",
       "      <td>013-q</td>\n",
       "      <td>2018-02-17T10:48:00</td>\n",
       "    </tr>\n",
       "  </tbody>\n",
       "</table>\n",
       "</div>"
      ],
      "text/plain": [
       "   event_id  match                 date\n",
       "0     25137  013-q  2018-02-17T10:48:00"
      ]
     },
     "execution_count": 5,
     "metadata": {},
     "output_type": "execute_result"
    }
   ],
   "source": [
    "sql = sqlalchemy.text(\n",
    "    \"with current AS (SELECT s.event_id as event_id, s.match, date from schedules sched, \"\n",
    "    \"status s WHERE sched.event_id = s.event_id \"\n",
    "    \"AND sched.match = s.match limit 1 ) \"\n",
    "    \"SELECT * FROM current;\"\n",
    ")\n",
    "pd.read_sql(sql, conn)"
   ]
  },
  {
   "cell_type": "code",
   "execution_count": null,
   "metadata": {},
   "outputs": [],
   "source": [
    "num_matches = 12\n",
    "sql = sqlalchemy.text(\n",
    "    \"with current AS (SELECT status.event_id as event_id, status.match, date from schedules sched, \"\n",
    "    \"status WHERE sched.event_id = status.event_id \"\n",
    "    \"AND sched.match = status.match limit 1), \"\n",
    "    \n",
    "    \"recent_matches as ( SELECT * FROM ( \"\n",
    "    \"SELECT row_number() over (partition by team order by sched.date desc) as r, \"\n",
    "    \" sched.* from schedules sched, current c WHERE sched.event_id = c.event_id and sched.date <= c.date )\"\n",
    "    \" row_schedule WHERE row_schedule.r <= \" + str(\n",
    "        num_matches) + \" ORDER by team, date desc) \"\n",
    "    \n",
    "    \"SELECT * from recent_matches;\"\n",
    ")\n",
    "pd.read_sql(sql, conn).head(20)"
   ]
  },
  {
   "cell_type": "code",
   "execution_count": null,
   "metadata": {},
   "outputs": [],
   "source": [
    "select_sum = sqlalchemy.text(\n",
    "    \"with current AS (SELECT status.event_id as event_id, status.match, date from schedules sched, \"\n",
    "    \"status WHERE sched.event_id = status.event_id \"\n",
    "    \"AND sched.match = status.match limit 1), \"\n",
    "    \n",
    "    \"recent_matches as ( SELECT * FROM ( \"\n",
    "    \"SELECT row_number() over (partition by team order by sched.date desc) as r, \"\n",
    "    \" sched.* from schedules sched, current c WHERE sched.event_id = c.event_id and sched.date <= c.date )\"\n",
    "    \" row_schedule WHERE row_schedule.r <= \" + str(\n",
    "        num_matches) + \" ORDER by team, date desc), \"\n",
    "    \n",
    "    \"team_match_count as ( \"\n",
    "    \"select team, count(team) as team_matches from recent_matches group by team\"\n",
    "       \") \"\n",
    "       \n",
    "    \"SELECT * FROM team_match_count;\"\n",
    ")\n",
    "pd.read_sql(select_sum, conn).head()"
   ]
  },
  {
   "cell_type": "code",
   "execution_count": null,
   "metadata": {},
   "outputs": [],
   "source": [
    "evt_id = 25137\n",
    "sql = sqlalchemy.text(\n",
    "    \"with current AS (SELECT status.event_id as event_id, status.match, date from schedules sched, \"\n",
    "    \"status WHERE sched.event_id = status.event_id \"\n",
    "    \"AND sched.match = status.match limit 1), \"\n",
    "    \n",
    "    \"recent_matches as ( SELECT * FROM ( \"\n",
    "    \"SELECT row_number() over (partition by team order by sched.date desc) as r, \"\n",
    "    \" sched.* from schedules sched, current c WHERE sched.event_id = c.event_id and sched.date <= c.date )\"\n",
    "    \" row_schedule WHERE row_schedule.r <= \" + str(\n",
    "        num_matches) + \" ORDER by team, date desc), \"\n",
    "    \n",
    "    \"team_match_count as ( \"\n",
    "    \"select team, count(team) as team_matches from recent_matches group by team\"\n",
    "       \") \"\n",
    "    \n",
    "    \"SELECT teams.name AS team, phases.name AS phase, tasks.name AS task, actors.name AS actor, \"\n",
    "    \"MAX(team_match_count.team_matches) AS matches, \"\n",
    "    \"SUM(successes) AS sum_successes, MAX(successes) as max_successes, MIN(successes) as min_successes, \"\n",
    "    \"COUNT(successes) AS count_successes, AVG(successes) as avg_successes, \"\n",
    "    \"SUM(attempts) AS sum_attempts, MAX(attempts) as max_attempts, MIN(attempts) AS min_attempts, \"\n",
    "    \"COUNT(attempts) AS count_attempts, AVG(attempts) as avg_attempts, \"\n",
    "    \"MAX(cycle_times) AS max_cycle_times, MIN(cycle_times) AS min_cycle_times, \"\n",
    "    \"AVG(cycle_times), COUNT(cycle_times) AS count_cycle_times \"\n",
    "    \"FROM ((((teams FULL OUTER JOIN measures ON teams.id=measures.team_id) \"\n",
    "    \"LEFT JOIN tasks ON tasks.id = measures.task_id) \"\n",
    "    \"LEFT JOIN phases ON phases.id = measures.phase_id) \"\n",
    "    \"LEFT JOIN events ON events.id = measures.event_id) \"\n",
    "    \"LEFT JOIN actors ON actors.id = measures.actor_id \"\n",
    "    \"LEFT JOIN matches ON matches.id = measures.match_id \"\n",
    "    \"LEFT JOIN team_match_count ON team_match_count.team = teams.name \"\n",
    "    \"RIGHT JOIN recent_matches ON recent_matches.match = matches.name AND team_match_count.team = teams.name \"\n",
    "    \"AND recent_matches.team = team_match_count.team \"\n",
    "    \"WHERE events.id = \" + str(evt_id) + \" AND actors.name<> 'alliance' \"\n",
    "    \"GROUP BY teams.name, tasks.name, phases.name, actors.name \"\n",
    "    \"ORDER BY teams.name, phases.name, tasks.name, actors.name;\"\n",
    ")\n",
    "df = pd.read_sql(sql, conn)\n",
    "df"
   ]
  },
  {
   "cell_type": "code",
   "execution_count": null,
   "metadata": {},
   "outputs": [],
   "source": []
  },
  {
   "cell_type": "code",
   "execution_count": null,
   "metadata": {},
   "outputs": [],
   "source": [
    "rnk_df = smd.ranking_df(12).head()\n",
    "rnk_df"
   ]
  },
  {
   "cell_type": "code",
   "execution_count": null,
   "metadata": {},
   "outputs": [],
   "source": [
    "rnk_df[\"auto\"][\"robot\"][\"autoLine\"]"
   ]
  },
  {
   "cell_type": "code",
   "execution_count": null,
   "metadata": {},
   "outputs": [],
   "source": [
    "meas_df = smd.measure_summary_df(12)\n",
    "meas_df.loc(axis=1)"
   ]
  },
  {
   "cell_type": "code",
   "execution_count": null,
   "metadata": {},
   "outputs": [],
   "source": [
    "meas_df.xs(\"placeScale\", level=\"task\")"
   ]
  },
  {
   "cell_type": "code",
   "execution_count": null,
   "metadata": {},
   "outputs": [],
   "source": [
    "smd.match_num_df()"
   ]
  },
  {
   "cell_type": "code",
   "execution_count": null,
   "metadata": {},
   "outputs": [],
   "source": []
  }
 ],
 "metadata": {
  "kernelspec": {
   "display_name": "Python 3",
   "language": "python",
   "name": "python3"
  },
  "language_info": {
   "codemirror_mode": {
    "name": "ipython",
    "version": 3
   },
   "file_extension": ".py",
   "mimetype": "text/x-python",
   "name": "python",
   "nbconvert_exporter": "python",
   "pygments_lexer": "ipython3",
   "version": "3.6.3"
  }
 },
 "nbformat": 4,
 "nbformat_minor": 2
}
