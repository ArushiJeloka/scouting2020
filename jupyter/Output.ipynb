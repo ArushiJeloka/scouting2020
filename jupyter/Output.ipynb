{
 "cells": [
  {
   "cell_type": "code",
   "execution_count": 15,
   "metadata": {
    "hide_input": false,
    "init_cell": true
   },
   "outputs": [],
   "source": [
    "import json\n",
    "\n",
    "from IPython.display import display, HTML\n",
    "import ipywidgets as widgets\n",
    "\n",
    "import server.model.event as sm_event\n",
    "import server.model.firstapi as sm_firstapi\n",
    "import server.season.s2018.api_measures as s2018_api\n",
    "import server.view.excel as sv_excel\n",
    "import server.view.dataframes as sv_dataframes"
   ]
  },
  {
   "cell_type": "markdown",
   "metadata": {},
   "source": [
    "## Common Tasks"
   ]
  },
  {
   "cell_type": "code",
   "execution_count": 16,
   "metadata": {
    "hide_input": true,
    "init_cell": true,
    "scrolled": false
   },
   "outputs": [
    {
     "data": {
      "application/vnd.jupyter.widget-view+json": {
       "model_id": "22d381c296d24b0abfde42700461064c",
       "version_major": 2,
       "version_minor": 0
      },
      "text/html": [
       "<p>Failed to display Jupyter Widget of type <code>VBox</code>.</p>\n",
       "<p>\n",
       "  If you're reading this message in the Jupyter Notebook or JupyterLab Notebook, it may mean\n",
       "  that the widgets JavaScript is still loading. If this message persists, it\n",
       "  likely means that the widgets JavaScript library is either not installed or\n",
       "  not enabled. See the <a href=\"https://ipywidgets.readthedocs.io/en/stable/user_install.html\">Jupyter\n",
       "  Widgets Documentation</a> for setup instructions.\n",
       "</p>\n",
       "<p>\n",
       "  If you're reading this message in another frontend (for example, a static\n",
       "  rendering on GitHub or <a href=\"https://nbviewer.jupyter.org/\">NBViewer</a>),\n",
       "  it may mean that your frontend doesn't currently support widgets.\n",
       "</p>\n"
      ],
      "text/plain": [
       "VBox(children=(HBox(children=(Text(value='wamou', description='Event'), IntText(value=2018, description='Season'), Text(value='', description='Match'))), HBox(children=(Button(description='Set Event', style=ButtonStyle()), Button(description='Set Match', style=ButtonStyle()), Button(description='Generate Sheet', style=ButtonStyle()), Button(description='Insert Colors', style=ButtonStyle())))))"
      ]
     },
     "metadata": {},
     "output_type": "display_data"
    }
   ],
   "source": [
    "event_txt = widgets.Text(description=\"Event\", value=\"wamou\")\n",
    "season_itx = widgets.IntText(description=\"Season\", value=2018)\n",
    "match_txt = widgets.Text(description=\"Match\")\n",
    "\n",
    "set_evt_btn = widgets.Button(description=\"Set Event\")\n",
    "set_mtch_btn = widgets.Button(description=\"Set Match\")\n",
    "colors_btn = widgets.Button(description=\"Insert Colors\")\n",
    "excel_btn = widgets.Button(description=\"Generate Sheet\")\n",
    "scores_btn = widgets.Button(description=\"API Scores\")\n",
    "ranking_df_btn = widgets.Button(description=\"Ranking Dataframe\")\n",
    "display(widgets.VBox([widgets.HBox([event_txt, season_itx, match_txt]),\n",
    "                     widgets.HBox([set_evt_btn, set_mtch_btn, excel_btn, colors_btn])]))\n",
    "\n",
    "def set_current_event(chg):\n",
    "    sm_event.EventDal.set_current_event(event_txt.value, str(season_itx.value))\n",
    "    \n",
    "def set_match(chg):\n",
    "    match = \"001-q\" if match_txt.value == \"\" else match_txt.value\n",
    "    sm_event.EventDal.set_current_match(match)\n",
    "    \n",
    "def colors(chg):\n",
    "    s2018_api.download_platform_color()\n",
    "\n",
    "def generate_ranking_sheet(b):\n",
    "    sm_event.EventDal.set_current_event(event_txt.value, str(season_itx.value))\n",
    "    sm_event.EventDal.set_current_match(match_txt.value)\n",
    "    path = sv_excel.write_to_excel(sv_excel.rnk_rpt2018a, 12, event_txt.value, str(season_itx.value))\n",
    "    print(path)\n",
    "    \n",
    "def get_field_colors(b):\n",
    "    scores = sm_firstapi.match_scores(event_txt.value, str(season_itx.value))\n",
    "    print(json.loads(scores))\n",
    "    \n",
    "def get_ranking_df(b):\n",
    "    sm_event.EventDal.set_current_event(event_txt.value, str(season_itx.value))\n",
    "    sm_event.EventDal.set_current_match(match_txt.value)\n",
    "    df = sv_dataframes.ranking_df(12)\n",
    "    display(HTML(df.to_html()))\n",
    "    # print(sv_dataframes.ranking_df(12))\n",
    "    \n",
    "set_evt_btn.on_click(set_current_event)\n",
    "set_mtch_btn.on_click(set_match)\n",
    "colors_btn.on_click(colors)\n",
    "excel_btn.on_click(generate_ranking_sheet)\n",
    "scores_btn.on_click(get_field_colors)\n",
    "ranking_df_btn.on_click(get_ranking_df)"
   ]
  },
  {
   "cell_type": "markdown",
   "metadata": {
    "hide_input": true
   },
   "source": [
    "## Delete Event"
   ]
  },
  {
   "cell_type": "code",
   "execution_count": 17,
   "metadata": {
    "hide_input": true
   },
   "outputs": [
    {
     "data": {
      "application/vnd.jupyter.widget-view+json": {
       "model_id": "3a0939f9757a483a995084353a87802b",
       "version_major": 2,
       "version_minor": 0
      },
      "text/html": [
       "<p>Failed to display Jupyter Widget of type <code>HBox</code>.</p>\n",
       "<p>\n",
       "  If you're reading this message in the Jupyter Notebook or JupyterLab Notebook, it may mean\n",
       "  that the widgets JavaScript is still loading. If this message persists, it\n",
       "  likely means that the widgets JavaScript library is either not installed or\n",
       "  not enabled. See the <a href=\"https://ipywidgets.readthedocs.io/en/stable/user_install.html\">Jupyter\n",
       "  Widgets Documentation</a> for setup instructions.\n",
       "</p>\n",
       "<p>\n",
       "  If you're reading this message in another frontend (for example, a static\n",
       "  rendering on GitHub or <a href=\"https://nbviewer.jupyter.org/\">NBViewer</a>),\n",
       "  it may mean that your frontend doesn't currently support widgets.\n",
       "</p>\n"
      ],
      "text/plain": [
       "HBox(children=(Text(value='', description='Event'), IntText(value=2018, description='Season'), Button(description='DELETE EVENT', style=ButtonStyle())))"
      ]
     },
     "metadata": {},
     "output_type": "display_data"
    }
   ],
   "source": [
    "event_del_txt = widgets.Text(description=\"Event\")\n",
    "season_del_itx = widgets.IntText(description=\"Season\", value=2018)\n",
    "del_btn = widgets.Button(description=\"DELETE EVENT\")\n",
    "display(widgets.HBox([event_del_txt, season_del_itx, del_btn]))\n",
    "\n",
    "def delete_event(b):\n",
    "    sm_event.EventDal.delete_event(event_del_txt.value, str(season_del_itx.value))\n",
    "    \n",
    "del_btn.on_click(delete_event)"
   ]
  },
  {
   "cell_type": "code",
   "execution_count": null,
   "metadata": {
    "hide_input": false,
    "scrolled": true
   },
   "outputs": [],
   "source": []
  },
  {
   "cell_type": "code",
   "execution_count": null,
   "metadata": {
    "hide_input": true
   },
   "outputs": [],
   "source": []
  },
  {
   "cell_type": "code",
   "execution_count": null,
   "metadata": {
    "hide_input": false
   },
   "outputs": [],
   "source": []
  },
  {
   "cell_type": "code",
   "execution_count": null,
   "metadata": {
    "hide_input": false
   },
   "outputs": [],
   "source": []
  },
  {
   "cell_type": "code",
   "execution_count": null,
   "metadata": {
    "hide_input": false
   },
   "outputs": [],
   "source": []
  }
 ],
 "metadata": {
  "celltoolbar": "Initialization Cell",
  "kernelspec": {
   "display_name": "Python 3",
   "language": "python",
   "name": "python3"
  },
  "language_info": {
   "codemirror_mode": {
    "name": "ipython",
    "version": 3
   },
   "file_extension": ".py",
   "mimetype": "text/x-python",
   "name": "python",
   "nbconvert_exporter": "python",
   "pygments_lexer": "ipython3",
   "version": "3.6.3"
  },
  "widgets": {
   "application/vnd.jupyter.widget-state+json": {
    "state": {
     "2f78dc26f47e4368b1bddfeab8cd2863": {
      "model_module": "@jupyter-widgets/controls",
      "model_module_version": "1.0.0",
      "model_name": "ButtonModel",
      "state": {
       "description": "Generate Ranking Spreadsheet",
       "layout": "IPY_MODEL_592de10c472445a4b13c9325ef61a5a2",
       "style": "IPY_MODEL_496803917b0543128f0bb245921a9661"
      }
     },
     "496803917b0543128f0bb245921a9661": {
      "model_module": "@jupyter-widgets/controls",
      "model_module_version": "1.0.0",
      "model_name": "ButtonStyleModel",
      "state": {}
     },
     "592de10c472445a4b13c9325ef61a5a2": {
      "model_module": "@jupyter-widgets/base",
      "model_module_version": "1.0.0",
      "model_name": "LayoutModel",
      "state": {}
     },
     "908c21ab30f74a0a937c9587c1355142": {
      "model_module": "@jupyter-widgets/base",
      "model_module_version": "1.0.0",
      "model_name": "LayoutModel",
      "state": {}
     },
     "bb7e832db4a9431e9ac27fc623b0ea6f": {
      "model_module": "@jupyter-widgets/base",
      "model_module_version": "1.0.0",
      "model_name": "LayoutModel",
      "state": {}
     },
     "c14a1709a7da41efa4995816c17e0055": {
      "model_module": "@jupyter-widgets/controls",
      "model_module_version": "1.0.0",
      "model_name": "DescriptionStyleModel",
      "state": {
       "description_width": ""
      }
     },
     "c41756c0c9784eb0a508f60fb9c0441e": {
      "model_module": "@jupyter-widgets/controls",
      "model_module_version": "1.0.0",
      "model_name": "DescriptionStyleModel",
      "state": {
       "description_width": ""
      }
     },
     "df553e3141144ccc892936eac0bb9ae1": {
      "model_module": "@jupyter-widgets/controls",
      "model_module_version": "1.0.0",
      "model_name": "TextModel",
      "state": {
       "description": "Event",
       "layout": "IPY_MODEL_908c21ab30f74a0a937c9587c1355142",
       "style": "IPY_MODEL_c14a1709a7da41efa4995816c17e0055"
      }
     },
     "f5708f717ffd4b18bdc7982e99954876": {
      "model_module": "@jupyter-widgets/controls",
      "model_module_version": "1.0.0",
      "model_name": "IntTextModel",
      "state": {
       "description": "Season",
       "layout": "IPY_MODEL_bb7e832db4a9431e9ac27fc623b0ea6f",
       "step": 1,
       "style": "IPY_MODEL_c41756c0c9784eb0a508f60fb9c0441e",
       "value": 2018
      }
     }
    },
    "version_major": 2,
    "version_minor": 0
   }
  }
 },
 "nbformat": 4,
 "nbformat_minor": 2
}
