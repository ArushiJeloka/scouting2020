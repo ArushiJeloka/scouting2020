{
 "cells": [
  {
   "cell_type": "markdown",
   "metadata": {},
   "source": [
    "## Notebook Setup"
   ]
  },
  {
   "cell_type": "markdown",
   "metadata": {},
   "source": [
    "### Imports\n",
    "* **Run this cell immediately after opening the notebook by placing the cursor in the cell and hitting `SHIFT + ENTER`.**\n",
    "* Otherwise, leave this cell alone"
   ]
  },
  {
   "cell_type": "code",
   "execution_count": 1,
   "metadata": {},
   "outputs": [
    {
     "ename": "ModuleNotFoundError",
     "evalue": "No module named 'Server'",
     "output_type": "error",
     "traceback": [
      "\u001b[1;31m---------------------------------------------------------------------------\u001b[0m",
      "\u001b[1;31mModuleNotFoundError\u001b[0m                       Traceback (most recent call last)",
      "\u001b[1;32m<ipython-input-1-04d3379fb9f0>\u001b[0m in \u001b[0;36m<module>\u001b[1;34m()\u001b[0m\n\u001b[0;32m     12\u001b[0m \u001b[1;33m\u001b[0m\u001b[0m\n\u001b[0;32m     13\u001b[0m \u001b[1;31m# IRScout Python Modules\u001b[0m\u001b[1;33m\u001b[0m\u001b[1;33m\u001b[0m\u001b[0m\n\u001b[1;32m---> 14\u001b[1;33m \u001b[1;32mimport\u001b[0m \u001b[0mServer\u001b[0m\u001b[1;33m.\u001b[0m\u001b[0mscouting\u001b[0m\u001b[1;33m.\u001b[0m\u001b[0moutput\u001b[0m \u001b[1;32mas\u001b[0m \u001b[0mout\u001b[0m\u001b[1;33m\u001b[0m\u001b[0m\n\u001b[0m\u001b[0;32m     15\u001b[0m \u001b[1;32mfrom\u001b[0m \u001b[0mServer\u001b[0m\u001b[1;33m.\u001b[0m\u001b[0mscouting\u001b[0m\u001b[1;33m.\u001b[0m\u001b[0mevent\u001b[0m \u001b[1;32mimport\u001b[0m \u001b[0mEventDal\u001b[0m\u001b[1;33m\u001b[0m\u001b[0m\n\u001b[0;32m     16\u001b[0m \u001b[1;33m\u001b[0m\u001b[0m\n",
      "\u001b[1;31mModuleNotFoundError\u001b[0m: No module named 'Server'"
     ]
    }
   ],
   "source": [
    "# Imports for telling Python where to find IRScout Python modules\n",
    "import sys\n",
    "import os\n",
    "import re\n",
    "sys.path.append('..\\\\Server')\n",
    "    \n",
    "# Set Current working directory to irsScouting2017\\\\Server\n",
    "ptn = re.compile(\"jupyter$\")\n",
    "if ptn.search(os.getcwd()) is not None:\n",
    "    os.chdir(\"..\\\\Server\")\n",
    "os.getcwd()\n",
    "\n",
    "# IRScout Python Modules\n",
    "import Server.scouting.output as out\n",
    "from Server.scouting.event import EventDal\n",
    "\n",
    "# Use the Bokeh plotting package\n",
    "import holoviews as hv\n",
    "\n",
    "# Other useful modules\n",
    "import pandas as pd\n",
    "import sqlalchemy as sa\n",
    "\n",
    "# Get a database connection\n",
    "connection_string = ('postgresql://irs1318:irs1318'\n",
    "                     '@localhost:5432/scouting')\n",
    "engine = sa.create_engine(connection_string)\n",
    "conn = engine.connect()"
   ]
  },
  {
   "cell_type": "markdown",
   "metadata": {},
   "source": [
    "### Set Defaults\n",
    "### Set Event\n",
    "* **Next, set `current_event` to the applicable FIRST API event code and run this cell.**"
   ]
  },
  {
   "cell_type": "code",
   "execution_count": null,
   "metadata": {},
   "outputs": [],
   "source": [
    "# Set Chart Size\n",
    "# bc.defaults.height = 300\n",
    "# bc.defaults.width = 1200\n",
    "\n",
    "# Set Current Event\n",
    "current_event = \"turing\"\n",
    "EventDal.set_current_event(current_event)\n",
    "EventDal.get_current_event()"
   ]
  },
  {
   "cell_type": "markdown",
   "metadata": {},
   "source": [
    "### Export Excel Ranking File\n",
    "* Run this cell to export the rankings spreadsheet."
   ]
  },
  {
   "cell_type": "code",
   "execution_count": null,
   "metadata": {},
   "outputs": [],
   "source": [
    "fpath = out.get_Path(\"Report\")\n",
    "out.get_report(fpath)"
   ]
  },
  {
   "cell_type": "markdown",
   "metadata": {},
   "source": [
    "### Get a Dataframe Containing all Measures"
   ]
  },
  {
   "cell_type": "code",
   "execution_count": null,
   "metadata": {},
   "outputs": [],
   "source": [
    "# Get Measures Dataframe\n",
    "sql_measures = sa.text(\n",
    "    \"SELECT events.name AS event, matches.name AS match, levels.name AS level, dates.name AS date, \"\n",
    "    \"teams.name AS team, alliances.name AS alliance, \"\n",
    "    \"stations.name AS station, phases.name AS phase, actors.name AS actor, tasks.name AS task, \"\n",
    "    \"measures.capability AS capability, measures.successes as successes, measures.attempts AS attempts, \"\n",
    "    \"measures.cycle_times as cycle_times, measuretypes.name AS measuretype, reasons.name AS reason, \"\n",
    "    \"attempts.name AS attempt \"\n",
    "    \"FROM ((((((((((((measures FULL OUTER JOIN teams ON measures.team_id=teams.id) \"\n",
    "    \"LEFT JOIN events ON measures.event_id=events.id) \"\n",
    "    \"LEFT JOIN matches ON measures.match_id=matches.id) \"\n",
    "    \"LEFT JOIN levels ON measures.level_id=levels.id) \"\n",
    "    \"LEFT JOIN dates ON measures.date_id=dates.id) \"\n",
    "    \"LEFT JOIN alliances ON measures.alliance_id=alliances.id) \"\n",
    "    \"LEFT JOIN stations ON measures.station_id=stations.id) \"\n",
    "    \"LEFT JOIN phases ON measures.phase_id=phases.id) \"\n",
    "    \"LEFT JOIN actors ON measures.actor_id=actors.id) \"\n",
    "    \"LEFT JOIN tasks ON measures.task_id=tasks.id) \"\n",
    "    \"LEFT JOIN reasons ON measures.reason_id=reasons.id) \"\n",
    "    \"LEFT JOIN measuretypes ON measures.measuretype_id=measuretypes.id) \"\n",
    "    \"LEFT JOIN attempts ON measures.attempt_id=attempts.id \"\n",
    "    \"WHERE events.name='\" + current_event + \"';\")\n",
    "measures = pd.read_sql(sql_measures, conn)\n",
    "measures.query(\"task == 'shootHighBoiler'\").query(\"phase == 'auto' or phase == 'teleop'\")\n",
    "#measures.query(\"task == 'climbRope' and phase == 'finish'\")\""
   ]
  },
  {
   "cell_type": "markdown",
   "metadata": {
    "collapsed": true
   },
   "source": [
    "### Get Number of Completed Matches\""
   ]
  },
  {
   "cell_type": "code",
   "execution_count": null,
   "metadata": {},
   "outputs": [],
   "source": [
    "# Set recent_matches to n to filter out all but the last n matches.\n",
    "recent_matches= 12\n",
    "\n",
    "select_recent_matches = sa.text(\n",
    "    \"with current AS (SELECT s.event, s.match, date from schedules sched, \"\n",
    "    \"status s WHERE sched.event = s.event \"\n",
    "    \"AND sched.match = s.match limit 1 ) \"\n",
    "\n",
    "\n",
    "    \"SELECT * FROM ( \"\n",
    "    \"SELECT row_number() over (partition by team order by sched.date desc) as r, \"\n",
    "    \" sched.* from schedules sched, current c WHERE sched.event = c.event and sched.date <= c.date )\"\n",
    "    \" row_schedule WHERE row_schedule.r <= \" + str(\n",
    "        recent_matches) + \" ORDER by team, date desc\")\n",
    "df = pd.read_sql(select_recent_matches, conn)\n",
    "num_matches = df[['team', 'level']].groupby('team').count()\n",
    "num_matches.columns = ['matches']"
   ]
  },
  {
   "cell_type": "markdown",
   "metadata": {},
   "source": [
    "### Create and Save Gears Chart\n",
    "* This cell creates the gears chart and saves it to Server/web/data as a static, interactive html file.\n",
    "\n",
    "**TODO:** Add an event code and timestamp to gears chart file name."
   ]
  },
  {
   "cell_type": "code",
   "execution_count": null,
   "metadata": {},
   "outputs": [],
   "source": [
    "# Create summary data frame for placing gears\n",
    "gears_df = measures.query(\"task == 'placeGear'\").query(\"phase == 'auto' or phase == 'teleop'\").groupby('team').sum()\n",
    "gears_df['average'] = gears_df['successes'] / num_matches['matches']\n",
    "gears_df = gears_df.sort_values('average', ascending = False)\n",
    "\n",
    "gears_df\n",
    "\n",
    "# Create gears chart in Bokeh\n",
    "# gears_chart = bc.Bar(gears_df, values = 'average', label = bca.cat(sort = False), legend = None, color = 'purple',\n",
    "#                      title = 'Average Gears Placed per Match', ylabel = \"Gears Placed\")\n",
    "# bc.output_file('web/data/gears_chart.html', mode = 'inline')\n",
    "# gears_df = measures.query(\"task == 'climbRope'\").query(\"phase == 'finish'\").groupby('team').sum()\n",
    "# gears_df = gears_df.sort_values('successes', ascending = False)\n",
    "\n",
    "# # Create gears chart in Bokeh\n",
    "# gears_chart = bc.Bar(gears_df, values = 'successes', label = bca.cat(sort = False), legend = None, color = 'purple',\n",
    "#                     title = 'Total Gears Placed', ylabel = \"Gears Placed\")\n",
    "# bc.output_file('web/data/gears_chart.html')\n",
    "# bc.show(gears_chart)"
   ]
  },
  {
   "cell_type": "code",
   "execution_count": null,
   "metadata": {},
   "outputs": [],
   "source": [
    "# Create summary data frame for climbing rope\n",
    "climbs_df = measures.query(\"task == 'climbRope'\").query(\"phase == 'finish'\").groupby('team').count()\n",
    "climbs_df['average'] = climbs_df['successes'] / num_matches['matches']\n",
    "climbs_df = climbs_df.sort_values('average', ascending = False)\n",
    "\n",
    "# Create gears chart in Bokeh\n",
    "climb_chart = bc.Bar(climbs_df, values = 'average', label = bca.cat(sort = False), legend = None, color = 'DarkGoldenRod',\n",
    "                   title = 'Total Times Climbed', ylabel = \"Times Climbed\")\n",
    "bc.output_file('web/data/climb_chart.html', mode = 'inline')\n",
    "bc.show(climb_chart)"
   ]
  },
  {
   "cell_type": "code",
   "execution_count": null,
   "metadata": {},
   "outputs": [],
   "source": []
  }
 ],
 "metadata": {
  "kernelspec": {
   "display_name": "Python 3",
   "language": "python",
   "name": "python3"
  },
  "language_info": {
   "codemirror_mode": {
    "name": "ipython",
    "version": 3
   },
   "file_extension": ".py",
   "mimetype": "text/x-python",
   "name": "python",
   "nbconvert_exporter": "python",
   "pygments_lexer": "ipython3",
   "version": "3.6.3"
  }
 },
 "nbformat": 4,
 "nbformat_minor": 2
}
