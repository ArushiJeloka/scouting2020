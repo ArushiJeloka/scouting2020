{
 "cells": [
  {
   "cell_type": "code",
   "execution_count": 20,
   "metadata": {
    "collapsed": true
   },
   "outputs": [],
   "source": [
    "import json\n",
    "\n",
    "import IPython.display\n",
    "import ipywidgets as widgets\n",
    "import pandas\n",
    "import sqlalchemy\n",
    "\n",
    "import server.model.connection as sm_connection\n",
    "import server.model.event as sm_event\n",
    "import server.model.firstapi as sm_firstapi\n",
    "import server.season.s2019 as s2019\n",
    "import server.view.excel as sv_excel\n",
    "import server.view.dataframes as sv_dataframes"
   ]
  },
  {
   "cell_type": "code",
   "execution_count": 21,
   "metadata": {},
   "outputs": [
    {
     "data": {
      "text/plain": [
       "A Jupyter Widget"
      ]
     },
     "metadata": {},
     "output_type": "display_data"
    },
    {
     "data": {
      "text/plain": [
       "A Jupyter Widget"
      ]
     },
     "metadata": {},
     "output_type": "display_data"
    },
    {
     "data": {},
     "metadata": {},
     "output_type": "display_data"
    }
   ],
   "source": [
    "def get_measures(match=\"001-q\", phase='auto'):\n",
    "    conn = sm_connection.engine.connect()\n",
    "    event_id = sm_event.EventDal.get_current_event()[0]\n",
    "    sql = sqlalchemy.text(\"SELECT events.name, matches.name AS match, alliances.name AS alliance, \"\n",
    "                          \"stations.name AS station, teams.name AS team, phases.name AS phase, \"\n",
    "                          \"tasks.name AS task, measures.attempts, measures.successes, \"\n",
    "                          \"measures.cycle_times, measures.capability, task_options.option_name \"\n",
    "                          \"FROM measures \"\n",
    "                          \"INNER JOIN tasks ON measures.task_id = tasks.id \"\n",
    "                          \"INNER JOIN teams ON measures.team_id = teams.id \"\n",
    "                          \"INNER JOIN matches ON measures.match_id = matches.id \"\n",
    "                          \"INNER JOIN phases ON measures.phase_id = phases.id \"\n",
    "                          \"INNER JOIN alliances ON measures.alliance_id = alliances.id \"\n",
    "                          \"INNER JOIN stations ON measures.station_id = stations.id \"\n",
    "                          \"INNER JOIN events ON measures.event_id = events.id \"\n",
    "                          \"LEFT JOIN task_options ON measures.capability = task_options.id \"\n",
    "                          \"WHERE event_id = :evt_id AND matches.name = :mtch AND phases.name = :phase \"\n",
    "                          \"ORDER BY alliances.name, stations.name, phases.name, tasks.name\"\n",
    "                          \";\").bindparams(evt_id=event_id, mtch=match, phase=phase)\n",
    "    measures_df = pandas.read_sql(sql, conn)\n",
    "    conn.close()\n",
    "    return measures_df\n",
    "\n",
    "\n",
    "def run_cell(cell):\n",
    "    jscript_cmd = \"Jupyter.notebook.execute_cells([\" + str(cell) + \"])\"\n",
    "    IPython.display.display_javascript(IPython.display.Javascript(jscript_cmd))\n",
    "\n",
    "    \n",
    "match = \"001-q\"\n",
    "df = None\n",
    "match_txt = widgets.Text(description=\"Match\", value=match)\n",
    "match_button = widgets.Button(description=\"Show Measures\")\n",
    "IPython.display.display(widgets.HBox([match_txt, match_button]))\n",
    "\n",
    "phase = 'auto'\n",
    "phase_box = widgets.Dropdown(options=['auto','teleop','finish'],value=phase,description='Phase:',disabled=False,)\n",
    "phase_button = widgets.Button(description=\"Set Phase\")\n",
    "IPython.display.display(widgets.HBox([phase_box, phase_button]))\n",
    "\n",
    "\n",
    "def show_measures(b):\n",
    "    # IPython.display.clear_output()\n",
    "    measures_output_cell = 3\n",
    "    global match\n",
    "    match = match_txt.value\n",
    "    global phase \n",
    "    phase = phase_box.value\n",
    "    global df\n",
    "    df = get_measures(match, phase)\n",
    "    run_cell(measures_output_cell)\n",
    "    \n",
    "def set_phase(b):\n",
    "    phase = phase_box.value\n",
    "\n",
    "match_button.on_click(show_measures)\n",
    "phase_button.on_click(set_phase)"
   ]
  },
  {
   "cell_type": "code",
   "execution_count": 24,
   "metadata": {},
   "outputs": [
    {
     "data": {
      "text/html": [
       "<div>\n",
       "<style>\n",
       "    .dataframe thead tr:only-child th {\n",
       "        text-align: right;\n",
       "    }\n",
       "\n",
       "    .dataframe thead th {\n",
       "        text-align: left;\n",
       "    }\n",
       "\n",
       "    .dataframe tbody tr th {\n",
       "        vertical-align: top;\n",
       "    }\n",
       "</style>\n",
       "<table border=\"1\" class=\"dataframe\">\n",
       "  <thead>\n",
       "    <tr style=\"text-align: right;\">\n",
       "      <th></th>\n",
       "      <th>name</th>\n",
       "      <th>match</th>\n",
       "      <th>alliance</th>\n",
       "      <th>station</th>\n",
       "      <th>team</th>\n",
       "      <th>phase</th>\n",
       "      <th>task</th>\n",
       "      <th>attempts</th>\n",
       "      <th>successes</th>\n",
       "      <th>cycle_times</th>\n",
       "      <th>capability</th>\n",
       "      <th>option_name</th>\n",
       "    </tr>\n",
       "  </thead>\n",
       "  <tbody>\n",
       "  </tbody>\n",
       "</table>\n",
       "</div>"
      ],
      "text/plain": [
       "Empty DataFrame\n",
       "Columns: [name, match, alliance, station, team, phase, task, attempts, successes, cycle_times, capability, option_name]\n",
       "Index: []"
      ]
     },
     "execution_count": 24,
     "metadata": {},
     "output_type": "execute_result"
    }
   ],
   "source": [
    "df"
   ]
  },
  {
   "cell_type": "code",
   "execution_count": 23,
   "metadata": {},
   "outputs": [
    {
     "data": {
      "text/html": [
       "<div>\n",
       "<style>\n",
       "    .dataframe thead tr:only-child th {\n",
       "        text-align: right;\n",
       "    }\n",
       "\n",
       "    .dataframe thead th {\n",
       "        text-align: left;\n",
       "    }\n",
       "\n",
       "    .dataframe tbody tr th {\n",
       "        vertical-align: top;\n",
       "    }\n",
       "</style>\n",
       "<table border=\"1\" class=\"dataframe\">\n",
       "  <thead>\n",
       "    <tr style=\"text-align: right;\">\n",
       "      <th></th>\n",
       "      <th>name</th>\n",
       "      <th>match</th>\n",
       "      <th>alliance</th>\n",
       "      <th>station</th>\n",
       "      <th>team</th>\n",
       "      <th>phase</th>\n",
       "      <th>task</th>\n",
       "      <th>attempts</th>\n",
       "      <th>successes</th>\n",
       "      <th>cycle_times</th>\n",
       "      <th>capability</th>\n",
       "      <th>option_name</th>\n",
       "    </tr>\n",
       "  </thead>\n",
       "  <tbody>\n",
       "  </tbody>\n",
       "</table>\n",
       "</div>"
      ],
      "text/plain": [
       "Empty DataFrame\n",
       "Columns: [name, match, alliance, station, team, phase, task, attempts, successes, cycle_times, capability, option_name]\n",
       "Index: []"
      ]
     },
     "execution_count": 23,
     "metadata": {},
     "output_type": "execute_result"
    }
   ],
   "source": [
    "df.query(\"phase=='teleop'\")"
   ]
  },
  {
   "cell_type": "code",
   "execution_count": null,
   "metadata": {
    "collapsed": true
   },
   "outputs": [],
   "source": []
  }
 ],
 "metadata": {
  "kernelspec": {
   "display_name": "Python 3",
   "language": "python",
   "name": "python3"
  },
  "language_info": {
   "codemirror_mode": {
    "name": "ipython",
    "version": 3
   },
   "file_extension": ".py",
   "mimetype": "text/x-python",
   "name": "python",
   "nbconvert_exporter": "python",
   "pygments_lexer": "ipython3",
   "version": "3.6.3"
  }
 },
 "nbformat": 4,
 "nbformat_minor": 2
}
