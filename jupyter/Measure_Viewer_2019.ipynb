{
 "cells": [
  {
   "cell_type": "code",
   "execution_count": 1,
   "metadata": {},
   "outputs": [],
   "source": [
    "import json\n",
    "\n",
    "import IPython.display\n",
    "import ipywidgets as widgets\n",
    "import pandas\n",
    "import sqlalchemy\n",
    "\n",
    "import server.model.connection as sm_connection\n",
    "import server.model.event as sm_event\n",
    "import server.model.firstapi as sm_firstapi\n",
    "import server.season.s2019 as s2019\n",
    "import server.view.excel as sv_excel\n",
    "import server.view.dataframes as sv_dataframes"
   ]
  },
  {
   "cell_type": "code",
   "execution_count": 3,
   "metadata": {},
   "outputs": [
    {
     "data": {
      "application/vnd.jupyter.widget-view+json": {
       "model_id": "037fa61edd5041fc9d4b546142d235c5",
       "version_major": 2,
       "version_minor": 0
      },
      "text/plain": [
       "HBox(children=(Text(value='001-q', description='Match'), Button(description='Show Measures', style=ButtonStyle…"
      ]
     },
     "metadata": {},
     "output_type": "display_data"
    },
    {
     "data": {
      "application/vnd.jupyter.widget-view+json": {
       "model_id": "43d08ba40cb142e98546c259260b8760",
       "version_major": 2,
       "version_minor": 0
      },
      "text/plain": [
       "HBox(children=(Dropdown(description='Phase:', options=('auto', 'teleop', 'finish'), value='auto'), Button(desc…"
      ]
     },
     "metadata": {},
     "output_type": "display_data"
    },
    {
     "data": {
      "application/javascript": [
       "Jupyter.notebook.execute_cells([3])"
      ]
     },
     "metadata": {},
     "output_type": "display_data"
    },
    {
     "data": {
      "application/javascript": [
       "Jupyter.notebook.execute_cells([3])"
      ]
     },
     "metadata": {},
     "output_type": "display_data"
    },
    {
     "data": {
      "application/javascript": [
       "Jupyter.notebook.execute_cells([3])"
      ]
     },
     "metadata": {},
     "output_type": "display_data"
    },
    {
     "data": {
      "application/javascript": [
       "Jupyter.notebook.execute_cells([3])"
      ]
     },
     "metadata": {},
     "output_type": "display_data"
    },
    {
     "data": {
      "application/javascript": [
       "Jupyter.notebook.execute_cells([3])"
      ]
     },
     "metadata": {},
     "output_type": "display_data"
    },
    {
     "data": {
      "application/javascript": [
       "Jupyter.notebook.execute_cells([3])"
      ]
     },
     "metadata": {},
     "output_type": "display_data"
    },
    {
     "data": {
      "application/javascript": [
       "Jupyter.notebook.execute_cells([3])"
      ]
     },
     "metadata": {},
     "output_type": "display_data"
    },
    {
     "data": {
      "application/javascript": [
       "Jupyter.notebook.execute_cells([3])"
      ]
     },
     "metadata": {},
     "output_type": "display_data"
    },
    {
     "data": {
      "application/javascript": [
       "Jupyter.notebook.execute_cells([3])"
      ]
     },
     "metadata": {},
     "output_type": "display_data"
    }
   ],
   "source": [
    "def get_measures(match=\"001-q\", phase='auto'):\n",
    "    conn = sm_connection.engine.connect()\n",
    "    event_id = sm_event.EventDal.get_current_event()[0]\n",
    "    sql = sqlalchemy.text(\"SELECT events.name, matches.name AS match, alliances.name AS alliance, \"\n",
    "                          \"stations.name AS station, teams.name AS team, phases.name AS phase, \"\n",
    "                          \"tasks.name AS task, measures.attempts, measures.successes, \"\n",
    "                          \"measures.cycle_times, measures.capability, task_options.option_name \"\n",
    "                          \"FROM measures \"\n",
    "                          \"INNER JOIN tasks ON measures.task_id = tasks.id \"\n",
    "                          \"INNER JOIN teams ON measures.team_id = teams.id \"\n",
    "                          \"INNER JOIN matches ON measures.match_id = matches.id \"\n",
    "                          \"INNER JOIN phases ON measures.phase_id = phases.id \"\n",
    "                          \"INNER JOIN alliances ON measures.alliance_id = alliances.id \"\n",
    "                          \"INNER JOIN stations ON measures.station_id = stations.id \"\n",
    "                          \"INNER JOIN events ON measures.event_id = events.id \"\n",
    "                          \"LEFT JOIN task_options ON measures.capability = task_options.id \"\n",
    "                          \"WHERE event_id = :evt_id AND matches.name = :mtch AND phases.name = :phase \"\n",
    "                          \"ORDER BY alliances.name, stations.name, phases.name, tasks.name\"\n",
    "                          \";\").bindparams(evt_id=event_id, mtch=match, phase=phase)\n",
    "    measures_df = pandas.read_sql(sql, conn)\n",
    "    conn.close()\n",
    "    return measures_df\n",
    "\n",
    "\n",
    "def run_cell(cell):\n",
    "    jscript_cmd = \"Jupyter.notebook.execute_cells([\" + str(cell) + \"])\"\n",
    "    IPython.display.display_javascript(IPython.display.Javascript(jscript_cmd))\n",
    "\n",
    "    \n",
    "match = \"001-q\"\n",
    "df = None\n",
    "match_txt = widgets.Text(description=\"Match\", value=match)\n",
    "match_button = widgets.Button(description=\"Show Measures\")\n",
    "IPython.display.display(widgets.HBox([match_txt, match_button]))\n",
    "\n",
    "phase = 'auto'\n",
    "phase_box = widgets.Dropdown(options=['auto','teleop','finish'],value=phase,description='Phase:',disabled=False,)\n",
    "phase_button = widgets.Button(description=\"Set Phase\")\n",
    "IPython.display.display(widgets.HBox([phase_box, phase_button]))\n",
    "\n",
    "\n",
    "def show_measures(b):\n",
    "    # IPython.display.clear_output()\n",
    "    measures_output_cell = 3\n",
    "    global match\n",
    "    match = match_txt.value\n",
    "    global phase \n",
    "    phase = phase_box.value\n",
    "    global df\n",
    "    df = get_measures(match, phase)\n",
    "    run_cell(measures_output_cell)\n",
    "    \n",
    "def set_phase(b):\n",
    "    phase = phase_box.value\n",
    "\n",
    "match_button.on_click(show_measures)\n",
    "phase_button.on_click(set_phase)"
   ]
  },
  {
   "cell_type": "code",
   "execution_count": 12,
   "metadata": {},
   "outputs": [
    {
     "data": {
      "text/html": [
       "<div>\n",
       "<style scoped>\n",
       "    .dataframe tbody tr th:only-of-type {\n",
       "        vertical-align: middle;\n",
       "    }\n",
       "\n",
       "    .dataframe tbody tr th {\n",
       "        vertical-align: top;\n",
       "    }\n",
       "\n",
       "    .dataframe thead th {\n",
       "        text-align: right;\n",
       "    }\n",
       "</style>\n",
       "<table border=\"1\" class=\"dataframe\">\n",
       "  <thead>\n",
       "    <tr style=\"text-align: right;\">\n",
       "      <th></th>\n",
       "      <th>name</th>\n",
       "      <th>match</th>\n",
       "      <th>alliance</th>\n",
       "      <th>station</th>\n",
       "      <th>team</th>\n",
       "      <th>phase</th>\n",
       "      <th>task</th>\n",
       "      <th>attempts</th>\n",
       "      <th>successes</th>\n",
       "      <th>cycle_times</th>\n",
       "      <th>capability</th>\n",
       "      <th>option_name</th>\n",
       "    </tr>\n",
       "  </thead>\n",
       "  <tbody>\n",
       "    <tr>\n",
       "      <th>0</th>\n",
       "      <td>wamou</td>\n",
       "      <td>040-q</td>\n",
       "      <td>blue</td>\n",
       "      <td>2</td>\n",
       "      <td>2910</td>\n",
       "      <td>finish</td>\n",
       "      <td>climb</td>\n",
       "      <td>0</td>\n",
       "      <td>0</td>\n",
       "      <td>0</td>\n",
       "      <td>1615</td>\n",
       "      <td>3</td>\n",
       "    </tr>\n",
       "    <tr>\n",
       "      <th>1</th>\n",
       "      <td>wamou</td>\n",
       "      <td>040-q</td>\n",
       "      <td>blue</td>\n",
       "      <td>3</td>\n",
       "      <td>4579</td>\n",
       "      <td>finish</td>\n",
       "      <td>climb</td>\n",
       "      <td>0</td>\n",
       "      <td>0</td>\n",
       "      <td>0</td>\n",
       "      <td>1613</td>\n",
       "      <td>1</td>\n",
       "    </tr>\n",
       "  </tbody>\n",
       "</table>\n",
       "</div>"
      ],
      "text/plain": [
       "    name  match alliance station  team   phase   task  attempts  successes  \\\n",
       "0  wamou  040-q     blue       2  2910  finish  climb         0          0   \n",
       "1  wamou  040-q     blue       3  4579  finish  climb         0          0   \n",
       "\n",
       "   cycle_times  capability option_name  \n",
       "0            0        1615           3  \n",
       "1            0        1613           1  "
      ]
     },
     "execution_count": 12,
     "metadata": {},
     "output_type": "execute_result"
    }
   ],
   "source": [
    "df"
   ]
  },
  {
   "cell_type": "code",
   "execution_count": null,
   "metadata": {},
   "outputs": [],
   "source": []
  }
 ],
 "metadata": {
  "kernelspec": {
   "display_name": "Python 3",
   "language": "python",
   "name": "python3"
  },
  "language_info": {
   "codemirror_mode": {
    "name": "ipython",
    "version": 3
   },
   "file_extension": ".py",
   "mimetype": "text/x-python",
   "name": "python",
   "nbconvert_exporter": "python",
   "pygments_lexer": "ipython3",
   "version": "3.6.8"
  }
 },
 "nbformat": 4,
 "nbformat_minor": 2
}
